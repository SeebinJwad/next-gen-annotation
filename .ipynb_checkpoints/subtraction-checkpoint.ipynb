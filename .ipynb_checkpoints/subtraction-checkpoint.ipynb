{
 "cells": [
  {
   "cell_type": "code",
   "execution_count": 19,
   "id": "caf2de9e",
   "metadata": {
    "ExecuteTime": {
     "end_time": "2021-10-07T08:42:04.588589Z",
     "start_time": "2021-10-07T08:42:04.572645Z"
    }
   },
   "outputs": [],
   "source": [
    "import numpy as np\n",
    "import pandas as pd\n",
    "from numba import jit\n",
    "from itertools import compress\n",
    "import os"
   ]
  },
  {
   "cell_type": "code",
   "execution_count": 20,
   "id": "4c8b75c9",
   "metadata": {
    "ExecuteTime": {
     "end_time": "2021-10-07T08:42:04.916605Z",
     "start_time": "2021-10-07T08:42:04.892611Z"
    }
   },
   "outputs": [
    {
     "data": {
      "text/plain": [
       "'\\nrun extract_uq_id twice, for each file, then run subtraction function both ways\\nextract_uq_id is slow when put in subtraction function (~3 min for 157000 rows)\\nthis is because it runs in1d on strings not ints\\ncould be changed in future (ref alt to ints or subtracted after start end subtraction)\\nfor reference start end subtraction took .035 seconds for same length of arrays\\n'"
      ]
     },
     "execution_count": 20,
     "metadata": {},
     "output_type": "execute_result"
    }
   ],
   "source": [
    "\"\"\"\n",
    "run extract_uq_id twice, for each file, then run subtraction function both ways\n",
    "extract_uq_id is slow when put in subtraction function (~3 min for 157000 rows)\n",
    "this is because it runs in1d on strings not ints\n",
    "could be changed in future (ref alt to ints or subtracted after start end subtraction)\n",
    "for reference start end subtraction took .035 seconds for same length of arrays\n",
    "\"\"\""
   ]
  },
  {
   "cell_type": "code",
   "execution_count": 21,
   "id": "13a0fd05",
   "metadata": {
    "ExecuteTime": {
     "end_time": "2021-10-07T08:42:05.974207Z",
     "start_time": "2021-10-07T08:42:05.942193Z"
    }
   },
   "outputs": [],
   "source": [
    "# ONLY DOING SUBTRACTION HERE\n",
    "# takes file - parent or variant - extracts only first 5 columns as list of unqiue ids i.e 'chr123471CA'\n",
    "# if header is true, skip first row\n",
    "# not using chromosome column because it is assumed the same respective per parent-variant pair\n",
    "def extract_uq_id(filename, header):\n",
    "    if header:\n",
    "        df = pd.read_csv(filename, sep='\\t', skiprows=1, engine='c', usecols=[1,2,3,4], names=['start', 'end', 'ref', 'alt'], dtype={'start':'string','end':'string','ref':'string','alt':'string'})\n",
    "    else:\n",
    "        df = pd.read_csv(filename, sep='\\t', engine='c', usecols=[1,2,3,4], names=['start', 'end', 'ref', 'alt'], dtype={'start':'string','end':'string','ref':'string','alt':'string'})\n",
    "    uq_id = pd.Series(df.start + df.end + df.ref + df.alt).to_numpy()\n",
    "    return uq_id"
   ]
  },
  {
   "cell_type": "code",
   "execution_count": 22,
   "id": "4653a94f",
   "metadata": {
    "ExecuteTime": {
     "end_time": "2021-10-07T08:42:07.967743Z",
     "start_time": "2021-10-07T08:42:07.334440Z"
    }
   },
   "outputs": [
    {
     "name": "stdout",
     "output_type": "stream",
     "text": [
      "[False  True  True False False False]\n",
      "[ True False False]\n"
     ]
    }
   ],
   "source": [
    "# testing in1d function for subtraction\n",
    "a = np.array([1,2,3,4,5,6])\n",
    "b = np.array([2,3])\n",
    "print(np.in1d(a, b))\n",
    "\n",
    "c = np.array(['a','b','c'])\n",
    "d = np.array(['a'])\n",
    "print(np.in1d(c, d))"
   ]
  },
  {
   "cell_type": "code",
   "execution_count": 23,
   "id": "415d82fb",
   "metadata": {
    "ExecuteTime": {
     "end_time": "2021-10-07T08:42:08.552174Z",
     "start_time": "2021-10-07T08:42:08.183781Z"
    }
   },
   "outputs": [],
   "source": [
    "# runs only one starts ends to run subtraction faster (only ints)\n",
    "# returns start int followed by end int - start int as int type\n",
    "# i.e. start 234314, end 234316 --> 2343142\n",
    "# must shorten int since numba njit requires 10 digit max,  c long\n",
    "\n",
    "# read two columns separately squeeze then subtract\n",
    "def extract_uq_id_start_end(filename, header):\n",
    "    if header:\n",
    "        start = pd.read_csv(filename, sep='\\t', skiprows=1, engine='c', usecols=[1], names=['start'], squeeze=True, dtype={'start':'int'}).to_numpy()\n",
    "        end = pd.read_csv(filename, sep='\\t', skiprows=1, engine='c', usecols=[2], names=['end'], squeeze=True, dtype={'end':'int'}).to_numpy()\n",
    "    else:\n",
    "        start = pd.read_csv(filename, sep='\\t', engine='c', usecols=[1], names=['start'], squeeze=True, dtype={'start':'int'}).to_numpy()\n",
    "        end = pd.read_csv(filename, sep='\\t', engine='c', usecols=[2], names=['end'], squeeze=True, dtype={'end':'int'}).to_numpy()\n",
    "    \n",
    "    # string of end - starts appended to starts\n",
    "    subtraction = np.subtract(end, start)\n",
    "    \n",
    "    df = pd.DataFrame({'start':start, 'subtraction':subtraction})\n",
    "    uq_id = pd.Series(df.start.astype(str) + df.subtraction.astype(str)).astype(np.int64).to_numpy()\n",
    "    \n",
    "    return uq_id"
   ]
  },
  {
   "cell_type": "code",
   "execution_count": 24,
   "id": "df5c5ea2",
   "metadata": {
    "ExecuteTime": {
     "end_time": "2021-10-07T08:42:09.029277Z",
     "start_time": "2021-10-07T08:42:09.005234Z"
    }
   },
   "outputs": [],
   "source": [
    "def extract_uq_id_ref_alt(filename, header):\n",
    "    if header:\n",
    "        ref_alt = pd.read_csv(filename, sep='\\t', skiprows=1, engine='c', usecols=[3,4], names=['ref', 'alt'], dtype={'ref':'string','alt':'string'})\n",
    "    else:\n",
    "        ref_alt = pd.read_csv(filename, sep='\\t', engine='c', usecols=[3,4], names=['ref', 'alt'], dtype={'ref':'string','alt':'string'})\n",
    "    \n",
    "    ref_alt['ref'] = ref_alt['ref'].apply(lambda x: sum([ord(i) for i in x]))\n",
    "    ref_alt['alt'] = ref_alt['alt'].apply(lambda x: sum([ord(i) for i in x]))\n",
    "    \n",
    "    uq_id = pd.Series(ref_alt.ref.astype(str) + ref_alt.alt.astype(str)).astype(int).to_numpy()\n",
    "    return uq_id"
   ]
  },
  {
   "cell_type": "code",
   "execution_count": 25,
   "id": "f93d7cf8",
   "metadata": {
    "ExecuteTime": {
     "end_time": "2021-10-07T08:42:12.242794Z",
     "start_time": "2021-10-07T08:42:09.650803Z"
    }
   },
   "outputs": [
    {
     "name": "stdout",
     "output_type": "stream",
     "text": [
      "[    654330     659990     695690 ... 2489181120 2489181290 2489182500]\n"
     ]
    }
   ],
   "source": [
    "unique_ids2 = extract_uq_id_start_end('test_anno.txt', True)\n",
    "print(unique_ids2)"
   ]
  },
  {
   "cell_type": "code",
   "execution_count": 26,
   "id": "0130bf06",
   "metadata": {
    "ExecuteTime": {
     "end_time": "2021-10-07T08:42:13.906793Z",
     "start_time": "2021-10-07T08:42:12.242794Z"
    }
   },
   "outputs": [
    {
     "name": "stdout",
     "output_type": "stream",
     "text": [
      "[7184 7184 8465 ... 6765 6765 6765]\n"
     ]
    }
   ],
   "source": [
    "unique_ids3 = extract_uq_id_ref_alt('test_anno.txt', True)\n",
    "print(unique_ids3)"
   ]
  },
  {
   "cell_type": "code",
   "execution_count": 27,
   "id": "88d00cf4",
   "metadata": {
    "ExecuteTime": {
     "end_time": "2021-10-07T08:42:15.370825Z",
     "start_time": "2021-10-07T08:42:13.906793Z"
    }
   },
   "outputs": [
    {
     "name": "stdout",
     "output_type": "stream",
     "text": [
      "157598\n"
     ]
    },
    {
     "data": {
      "text/plain": [
       "array(['6543365433GT', '6599965999GT', '6956969569TA', ...,\n",
       "       '248918112248918112CA', '248918129248918129CA',\n",
       "       '248918250248918250CA'], dtype=object)"
      ]
     },
     "execution_count": 27,
     "metadata": {},
     "output_type": "execute_result"
    }
   ],
   "source": [
    "# testing extract_uq_id function\n",
    "unique_ids = extract_uq_id('test_anno.txt', True)\n",
    "print(len(unique_ids))\n",
    "unique_ids"
   ]
  },
  {
   "cell_type": "code",
   "execution_count": 28,
   "id": "62ea3cfa",
   "metadata": {
    "ExecuteTime": {
     "end_time": "2021-10-07T08:42:15.402801Z",
     "start_time": "2021-10-07T08:42:15.370825Z"
    }
   },
   "outputs": [],
   "source": [
    "# two arrays - first second - return second subtracted from first\n",
    "# i.e. first [1,2,3,4,5] second [1,2,3], subtraction [4,5]\n",
    "@jit\n",
    "def subtraction(first, second):\n",
    "    return np.in1d(first, second)\n",
    "    # return np.setdiff1d(first.astype(int, copy=False), second.astype(int, copy=False))"
   ]
  },
  {
   "cell_type": "code",
   "execution_count": 29,
   "id": "400ccda6",
   "metadata": {
    "ExecuteTime": {
     "end_time": "2021-10-07T08:42:20.553191Z",
     "start_time": "2021-10-07T08:42:15.410814Z"
    }
   },
   "outputs": [
    {
     "name": "stderr",
     "output_type": "stream",
     "text": [
      "<ipython-input-28-0e840c8605ed>:3: NumbaWarning: \u001b[1m\n",
      "Compilation is falling back to object mode WITH looplifting enabled because Function \"subtraction\" failed type inference due to: \u001b[1m\u001b[1mUse of unsupported NumPy function 'numpy.in1d' or unsupported use of the function.\n",
      "\u001b[1m\n",
      "File \"<ipython-input-28-0e840c8605ed>\", line 5:\u001b[0m\n",
      "\u001b[1mdef subtraction(first, second):\n",
      "\u001b[1m    return np.in1d(first, second)\n",
      "\u001b[0m    \u001b[1m^\u001b[0m\u001b[0m\n",
      "\u001b[0m\n",
      "\u001b[0m\u001b[1mDuring: typing of get attribute at <ipython-input-28-0e840c8605ed> (5)\u001b[0m\n",
      "\u001b[1m\n",
      "File \"<ipython-input-28-0e840c8605ed>\", line 5:\u001b[0m\n",
      "\u001b[1mdef subtraction(first, second):\n",
      "\u001b[1m    return np.in1d(first, second)\n",
      "\u001b[0m    \u001b[1m^\u001b[0m\u001b[0m\n",
      "\u001b[0m\n",
      "  @jit\n",
      "c:\\users\\kazij\\appdata\\local\\programs\\python\\python39\\lib\\site-packages\\numba\\core\\object_mode_passes.py:151: NumbaWarning: \u001b[1mFunction \"subtraction\" was compiled in object mode without forceobj=True.\n",
      "\u001b[1m\n",
      "File \"<ipython-input-28-0e840c8605ed>\", line 4:\u001b[0m\n",
      "\u001b[1m@jit\n",
      "\u001b[1mdef subtraction(first, second):\n",
      "\u001b[0m\u001b[1m^\u001b[0m\u001b[0m\n",
      "\u001b[0m\n",
      "  warnings.warn(errors.NumbaWarning(warn_msg,\n",
      "c:\\users\\kazij\\appdata\\local\\programs\\python\\python39\\lib\\site-packages\\numba\\core\\object_mode_passes.py:161: NumbaDeprecationWarning: \u001b[1m\n",
      "Fall-back from the nopython compilation path to the object mode compilation path has been detected, this is deprecated behaviour.\n",
      "\n",
      "For more information visit https://numba.pydata.org/numba-doc/latest/reference/deprecation.html#deprecation-of-object-mode-fall-back-behaviour-when-using-jit\n",
      "\u001b[1m\n",
      "File \"<ipython-input-28-0e840c8605ed>\", line 4:\u001b[0m\n",
      "\u001b[1m@jit\n",
      "\u001b[1mdef subtraction(first, second):\n",
      "\u001b[0m\u001b[1m^\u001b[0m\u001b[0m\n",
      "\u001b[0m\n",
      "  warnings.warn(errors.NumbaDeprecationWarning(msg,\n"
     ]
    }
   ],
   "source": [
    "arr_x = unique_ids3\n",
    "arr_y = unique_ids3[len(unique_ids3)//2:]\n",
    "sub_uq_ids3 = subtraction(arr_x, arr_y)"
   ]
  },
  {
   "cell_type": "code",
   "execution_count": 30,
   "id": "60c9bb1f",
   "metadata": {
    "ExecuteTime": {
     "end_time": "2021-10-07T08:42:20.793216Z",
     "start_time": "2021-10-07T08:42:20.553191Z"
    }
   },
   "outputs": [
    {
     "name": "stderr",
     "output_type": "stream",
     "text": [
      "<ipython-input-28-0e840c8605ed>:3: NumbaWarning: \u001b[1m\n",
      "Compilation is falling back to object mode WITH looplifting enabled because Function \"subtraction\" failed type inference due to: \u001b[1m\u001b[1mUse of unsupported NumPy function 'numpy.in1d' or unsupported use of the function.\n",
      "\u001b[1m\n",
      "File \"<ipython-input-28-0e840c8605ed>\", line 5:\u001b[0m\n",
      "\u001b[1mdef subtraction(first, second):\n",
      "\u001b[1m    return np.in1d(first, second)\n",
      "\u001b[0m    \u001b[1m^\u001b[0m\u001b[0m\n",
      "\u001b[0m\n",
      "\u001b[0m\u001b[1mDuring: typing of get attribute at <ipython-input-28-0e840c8605ed> (5)\u001b[0m\n",
      "\u001b[1m\n",
      "File \"<ipython-input-28-0e840c8605ed>\", line 5:\u001b[0m\n",
      "\u001b[1mdef subtraction(first, second):\n",
      "\u001b[1m    return np.in1d(first, second)\n",
      "\u001b[0m    \u001b[1m^\u001b[0m\u001b[0m\n",
      "\u001b[0m\n",
      "  @jit\n",
      "c:\\users\\kazij\\appdata\\local\\programs\\python\\python39\\lib\\site-packages\\numba\\core\\object_mode_passes.py:151: NumbaWarning: \u001b[1mFunction \"subtraction\" was compiled in object mode without forceobj=True.\n",
      "\u001b[1m\n",
      "File \"<ipython-input-28-0e840c8605ed>\", line 4:\u001b[0m\n",
      "\u001b[1m@jit\n",
      "\u001b[1mdef subtraction(first, second):\n",
      "\u001b[0m\u001b[1m^\u001b[0m\u001b[0m\n",
      "\u001b[0m\n",
      "  warnings.warn(errors.NumbaWarning(warn_msg,\n",
      "c:\\users\\kazij\\appdata\\local\\programs\\python\\python39\\lib\\site-packages\\numba\\core\\object_mode_passes.py:161: NumbaDeprecationWarning: \u001b[1m\n",
      "Fall-back from the nopython compilation path to the object mode compilation path has been detected, this is deprecated behaviour.\n",
      "\n",
      "For more information visit https://numba.pydata.org/numba-doc/latest/reference/deprecation.html#deprecation-of-object-mode-fall-back-behaviour-when-using-jit\n",
      "\u001b[1m\n",
      "File \"<ipython-input-28-0e840c8605ed>\", line 4:\u001b[0m\n",
      "\u001b[1m@jit\n",
      "\u001b[1mdef subtraction(first, second):\n",
      "\u001b[0m\u001b[1m^\u001b[0m\u001b[0m\n",
      "\u001b[0m\n",
      "  warnings.warn(errors.NumbaDeprecationWarning(msg,\n"
     ]
    },
    {
     "data": {
      "text/plain": [
       "array([ True,  True,  True, False, False])"
      ]
     },
     "execution_count": 30,
     "metadata": {},
     "output_type": "execute_result"
    }
   ],
   "source": [
    "# should return ['d', 'e']\n",
    "arr_a = ['a', 'b', 'c', 'd', 'e']\n",
    "arr_b = ['a', 'b', 'c']\n",
    "subtraction(arr_a, arr_b)"
   ]
  },
  {
   "cell_type": "code",
   "execution_count": 31,
   "id": "5330e1b4",
   "metadata": {
    "ExecuteTime": {
     "end_time": "2021-10-07T08:43:54.499839Z",
     "start_time": "2021-10-07T08:42:20.793216Z"
    }
   },
   "outputs": [
    {
     "name": "stderr",
     "output_type": "stream",
     "text": [
      "<ipython-input-28-0e840c8605ed>:3: NumbaWarning: \u001b[1m\n",
      "Compilation is falling back to object mode WITH looplifting enabled because Function \"subtraction\" failed type inference due to: \u001b[1m\u001b[1mnon-precise type array(pyobject, 1d, C)\u001b[0m\n",
      "\u001b[0m\u001b[1mDuring: typing of argument at <ipython-input-28-0e840c8605ed> (5)\u001b[0m\n",
      "\u001b[1m\n",
      "File \"<ipython-input-28-0e840c8605ed>\", line 5:\u001b[0m\n",
      "\u001b[1mdef subtraction(first, second):\n",
      "\u001b[1m    return np.in1d(first, second)\n",
      "\u001b[0m    \u001b[1m^\u001b[0m\u001b[0m\n",
      "\u001b[0m\n",
      "  @jit\n",
      "c:\\users\\kazij\\appdata\\local\\programs\\python\\python39\\lib\\site-packages\\numba\\core\\object_mode_passes.py:151: NumbaWarning: \u001b[1mFunction \"subtraction\" was compiled in object mode without forceobj=True.\n",
      "\u001b[1m\n",
      "File \"<ipython-input-28-0e840c8605ed>\", line 4:\u001b[0m\n",
      "\u001b[1m@jit\n",
      "\u001b[1mdef subtraction(first, second):\n",
      "\u001b[0m\u001b[1m^\u001b[0m\u001b[0m\n",
      "\u001b[0m\n",
      "  warnings.warn(errors.NumbaWarning(warn_msg,\n",
      "c:\\users\\kazij\\appdata\\local\\programs\\python\\python39\\lib\\site-packages\\numba\\core\\object_mode_passes.py:161: NumbaDeprecationWarning: \u001b[1m\n",
      "Fall-back from the nopython compilation path to the object mode compilation path has been detected, this is deprecated behaviour.\n",
      "\n",
      "For more information visit https://numba.pydata.org/numba-doc/latest/reference/deprecation.html#deprecation-of-object-mode-fall-back-behaviour-when-using-jit\n",
      "\u001b[1m\n",
      "File \"<ipython-input-28-0e840c8605ed>\", line 4:\u001b[0m\n",
      "\u001b[1m@jit\n",
      "\u001b[1mdef subtraction(first, second):\n",
      "\u001b[0m\u001b[1m^\u001b[0m\u001b[0m\n",
      "\u001b[0m\n",
      "  warnings.warn(errors.NumbaDeprecationWarning(msg,\n"
     ]
    },
    {
     "ename": "KeyboardInterrupt",
     "evalue": "",
     "output_type": "error",
     "traceback": [
      "\u001b[1;31m---------------------------------------------------------------------------\u001b[0m",
      "\u001b[1;31mKeyboardInterrupt\u001b[0m                         Traceback (most recent call last)",
      "\u001b[1;32m<ipython-input-31-1783aa848196>\u001b[0m in \u001b[0;36m<module>\u001b[1;34m\u001b[0m\n\u001b[0;32m      1\u001b[0m \u001b[0marr_c\u001b[0m \u001b[1;33m=\u001b[0m \u001b[0munique_ids\u001b[0m\u001b[1;33m\u001b[0m\u001b[1;33m\u001b[0m\u001b[0m\n\u001b[0;32m      2\u001b[0m \u001b[0marr_d\u001b[0m \u001b[1;33m=\u001b[0m \u001b[0munique_ids\u001b[0m\u001b[1;33m[\u001b[0m\u001b[1;33m:\u001b[0m\u001b[0mlen\u001b[0m\u001b[1;33m(\u001b[0m\u001b[0munique_ids\u001b[0m\u001b[1;33m)\u001b[0m\u001b[1;33m//\u001b[0m\u001b[1;36m2\u001b[0m\u001b[1;33m]\u001b[0m\u001b[1;33m\u001b[0m\u001b[1;33m\u001b[0m\u001b[0m\n\u001b[1;32m----> 3\u001b[1;33m \u001b[0msub_uq_ids\u001b[0m \u001b[1;33m=\u001b[0m \u001b[0msubtraction\u001b[0m\u001b[1;33m(\u001b[0m\u001b[0marr_c\u001b[0m\u001b[1;33m,\u001b[0m \u001b[0marr_d\u001b[0m\u001b[1;33m)\u001b[0m\u001b[1;33m\u001b[0m\u001b[1;33m\u001b[0m\u001b[0m\n\u001b[0m",
      "\u001b[1;32m<__array_function__ internals>\u001b[0m in \u001b[0;36min1d\u001b[1;34m(*args, **kwargs)\u001b[0m\n",
      "\u001b[1;32mc:\\users\\kazij\\appdata\\local\\programs\\python\\python39\\lib\\site-packages\\numpy\\lib\\arraysetops.py\u001b[0m in \u001b[0;36min1d\u001b[1;34m(ar1, ar2, assume_unique, invert)\u001b[0m\n\u001b[0;32m    581\u001b[0m             \u001b[0mmask\u001b[0m \u001b[1;33m=\u001b[0m \u001b[0mnp\u001b[0m\u001b[1;33m.\u001b[0m\u001b[0mzeros\u001b[0m\u001b[1;33m(\u001b[0m\u001b[0mlen\u001b[0m\u001b[1;33m(\u001b[0m\u001b[0mar1\u001b[0m\u001b[1;33m)\u001b[0m\u001b[1;33m,\u001b[0m \u001b[0mdtype\u001b[0m\u001b[1;33m=\u001b[0m\u001b[0mbool\u001b[0m\u001b[1;33m)\u001b[0m\u001b[1;33m\u001b[0m\u001b[1;33m\u001b[0m\u001b[0m\n\u001b[0;32m    582\u001b[0m             \u001b[1;32mfor\u001b[0m \u001b[0ma\u001b[0m \u001b[1;32min\u001b[0m \u001b[0mar2\u001b[0m\u001b[1;33m:\u001b[0m\u001b[1;33m\u001b[0m\u001b[1;33m\u001b[0m\u001b[0m\n\u001b[1;32m--> 583\u001b[1;33m                 \u001b[0mmask\u001b[0m \u001b[1;33m|=\u001b[0m \u001b[1;33m(\u001b[0m\u001b[0mar1\u001b[0m \u001b[1;33m==\u001b[0m \u001b[0ma\u001b[0m\u001b[1;33m)\u001b[0m\u001b[1;33m\u001b[0m\u001b[1;33m\u001b[0m\u001b[0m\n\u001b[0m\u001b[0;32m    584\u001b[0m         \u001b[1;32mreturn\u001b[0m \u001b[0mmask\u001b[0m\u001b[1;33m\u001b[0m\u001b[1;33m\u001b[0m\u001b[0m\n\u001b[0;32m    585\u001b[0m \u001b[1;33m\u001b[0m\u001b[0m\n",
      "\u001b[1;31mKeyboardInterrupt\u001b[0m: "
     ]
    }
   ],
   "source": [
    "arr_c = unique_ids\n",
    "arr_d = unique_ids[:len(unique_ids)//2]\n",
    "sub_uq_ids = subtraction(arr_c, arr_d)"
   ]
  },
  {
   "cell_type": "code",
   "execution_count": null,
   "id": "dcf21611",
   "metadata": {
    "ExecuteTime": {
     "end_time": "2021-10-07T08:43:54.499839Z",
     "start_time": "2021-10-07T08:42:16.730Z"
    }
   },
   "outputs": [],
   "source": [
    "arr_e = unique_ids2\n",
    "arr_f = unique_ids2[:len(unique_ids2)//2]\n",
    "sub_uq_ids2 = subtraction(arr_e, arr_f)"
   ]
  },
  {
   "cell_type": "code",
   "execution_count": null,
   "id": "4917e813",
   "metadata": {
    "ExecuteTime": {
     "end_time": "2021-10-07T08:43:54.507800Z",
     "start_time": "2021-10-07T08:42:17.976Z"
    }
   },
   "outputs": [],
   "source": [
    "print(sub_uq_ids2)\n",
    "print(len(sub_uq_ids2))\n",
    "print(len(sub_uq_ids2)//2)\n",
    "print(np.count_nonzero(sub_uq_ids2))"
   ]
  },
  {
   "cell_type": "code",
   "execution_count": null,
   "id": "aaed8778",
   "metadata": {
    "ExecuteTime": {
     "end_time": "2021-10-07T08:43:54.507800Z",
     "start_time": "2021-10-07T08:42:19.892Z"
    }
   },
   "outputs": [],
   "source": [
    "print(list(sub_uq_ids))\n",
    "print(len(sub_uq_ids))\n",
    "print(len(sub_uq_ids)//2)\n",
    "print(np.count_nonzero(sub_uq_ids))"
   ]
  },
  {
   "cell_type": "code",
   "execution_count": null,
   "id": "526ac73e",
   "metadata": {
    "ExecuteTime": {
     "end_time": "2021-10-02T01:18:19.320038Z",
     "start_time": "2021-10-02T01:18:19.280052Z"
    }
   },
   "outputs": [],
   "source": []
  }
 ],
 "metadata": {
  "kernelspec": {
   "display_name": "Python 3",
   "language": "python",
   "name": "python3"
  },
  "language_info": {
   "codemirror_mode": {
    "name": "ipython",
    "version": 3
   },
   "file_extension": ".py",
   "mimetype": "text/x-python",
   "name": "python",
   "nbconvert_exporter": "python",
   "pygments_lexer": "ipython3",
   "version": "3.8.8"
  }
 },
 "nbformat": 4,
 "nbformat_minor": 5
}
