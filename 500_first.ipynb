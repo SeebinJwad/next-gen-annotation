{
 "cells": [
  {
   "cell_type": "code",
   "execution_count": 1,
   "id": "a23c42ff",
   "metadata": {
    "ExecuteTime": {
     "end_time": "2021-08-02T19:29:07.912672Z",
     "start_time": "2021-08-02T19:28:51.268062Z"
    }
   },
   "outputs": [
    {
     "name": "stdout",
     "output_type": "stream",
     "text": [
      "Populating the interactive namespace from numpy and matplotlib\n"
     ]
    }
   ],
   "source": [
    "import pandas as pd\n",
    "import os\n",
    "import numpy as np\n",
    "%pylab inline"
   ]
  },
  {
   "cell_type": "code",
   "execution_count": 19,
   "id": "fe3f9aa1",
   "metadata": {
    "ExecuteTime": {
     "end_time": "2021-08-02T19:32:05.356325Z",
     "start_time": "2021-08-02T19:32:05.342338Z"
    }
   },
   "outputs": [
    {
     "name": "stdout",
     "output_type": "stream",
     "text": [
      "['hg38_1000g201508.txt', 'hg38_abraom.txt', 'hg38_avsnp150.txt', 'hg38_clinvar_20210501.txt', 'hg38_cosmic70.txt', 'hg38_dbnsfp41c.txt', 'hg38_esp6500siv2_all.txt', 'hg38_exac03.txt', 'hg38_gene4denovo201907.txt', 'hg38_gme.txt', 'hg38_gnomad211_exome.txt', 'hg38_hrcr1.txt', 'hg38_icgc28.txt', 'hg38_intervar_20180118.txt', 'hg38_kaviar_20150923.txt', 'hg38_mcap.txt', 'hg38_revel.txt']\n"
     ]
    }
   ],
   "source": [
    "# databases dont have gnomad genome\n",
    "dbs = os.listdir('./databases')[1:]\n",
    "print(dbs)"
   ]
  },
  {
   "cell_type": "code",
   "execution_count": null,
   "id": "d9e3b637",
   "metadata": {
    "ExecuteTime": {
     "end_time": "2021-08-02T19:36:05.957775Z",
     "start_time": "2021-08-02T19:36:05.769778Z"
    }
   },
   "outputs": [],
   "source": [
    "for x in dbs:\n",
    "    df = pd.read_csv(\"databases/%s\" % x, sep='\\t', nrows=50, index_col=0)\n",
    "    df.to_csv(\"%s_first_50.txt\" % x[:-4])"
   ]
  },
  {
   "cell_type": "code",
   "execution_count": 32,
   "id": "25712fab",
   "metadata": {
    "ExecuteTime": {
     "end_time": "2021-08-02T19:37:32.905274Z",
     "start_time": "2021-08-02T19:37:31.040753Z"
    }
   },
   "outputs": [],
   "source": [
    "# specially extract first 500 gnomad genome database\n",
    "df = pd.read_csv(\"databases/gnomad/gnomad30.txt\", sep='\\t', nrows=50, index_col=0, na_filter=False)\n",
    "df.to_csv(\"gnomad30_genome_first_50.txt\")"
   ]
  }
 ],
 "metadata": {
  "kernelspec": {
   "display_name": "Python 3",
   "language": "python",
   "name": "python3"
  },
  "language_info": {
   "codemirror_mode": {
    "name": "ipython",
    "version": 3
   },
   "file_extension": ".py",
   "mimetype": "text/x-python",
   "name": "python",
   "nbconvert_exporter": "python",
   "pygments_lexer": "ipython3",
   "version": "3.9.5"
  }
 },
 "nbformat": 4,
 "nbformat_minor": 5
}
