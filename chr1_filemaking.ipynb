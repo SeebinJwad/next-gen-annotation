{
 "cells": [
  {
   "cell_type": "code",
   "execution_count": 3,
   "id": "b324532b",
   "metadata": {
    "ExecuteTime": {
     "end_time": "2021-07-29T06:15:09.001146Z",
     "start_time": "2021-07-29T06:14:51.625449Z"
    }
   },
   "outputs": [
    {
     "name": "stdout",
     "output_type": "stream",
     "text": [
      "Populating the interactive namespace from numpy and matplotlib\n"
     ]
    }
   ],
   "source": [
    "import pandas as pd\n",
    "from pandas.api.types import CategoricalDtype\n",
    "import os\n",
    "import numpy as np\n",
    "from numpy import random\n",
    "import _pickle as cpickle\n",
    "%pylab inline"
   ]
  },
  {
   "cell_type": "code",
   "execution_count": 15,
   "id": "5b9b7e54",
   "metadata": {
    "ExecuteTime": {
     "end_time": "2021-07-27T17:47:57.953143Z",
     "start_time": "2021-07-27T17:47:57.356548Z"
    }
   },
   "outputs": [],
   "source": [
    "with open(\"abraom_chr1.pkl\", 'wb+') as file:\n",
    "    for chunk in pd.read_csv(\"databases/hg38_abraom.txt\", nrows=236068,engine='c', sep='\\t', usecols=[1,5,6,7], index_col=0, dtype={\"Start\":\"int\",\"abraom_freq\":\"float\",\"abraom_filter\":\"string\",\"abraom_cegh_filter\":\"string\"}, na_filter=False, chunksize=10**4): \n",
    "        cpickle.dump(chunk,file)"
   ]
  },
  {
   "cell_type": "code",
   "execution_count": 14,
   "id": "239322b7",
   "metadata": {
    "ExecuteTime": {
     "end_time": "2021-07-27T17:22:03.757920Z",
     "start_time": "2021-07-27T17:22:03.429012Z"
    }
   },
   "outputs": [],
   "source": [
    "with open(\"gme_chr1.pkl\", 'wb+') as file:\n",
    "    for chunk in pd.read_csv(\"databases/hg38_gme.txt\", nrows=70912,engine='c', sep='\\t', usecols=[1,5,6,7,8,9,10,11,12], index_col=0, dtype={\"Start\":\"int\",\"GME_AF\":\"float\",\"GME_NWA\":\"float\",\"GME_NEA\":\"float\",\"GME_AP\":\"float\",\"GME_Israel\":\"float\",\"GME_SD\":\"float\",\"GME_TP\":\"float\",\"GME_CA\":\"float\"}, na_filter=False, chunksize=10**4): \n",
    "        cpickle.dump(chunk,file)"
   ]
  },
  {
   "cell_type": "code",
   "execution_count": 16,
   "id": "329315ca",
   "metadata": {
    "ExecuteTime": {
     "end_time": "2021-07-27T17:48:11.596221Z",
     "start_time": "2021-07-27T17:48:11.094552Z"
    }
   },
   "outputs": [],
   "source": [
    "with open(\"gene4denovo201907_chr1.pkl\", 'wb+') as file:\n",
    "    for chunk in pd.read_csv(\"databases/hg38_gene4denovo201907.txt\", nrows=45922,engine='c', sep='\\t', usecols=[1,5,6,7,8,9,10], index_col=0, dtype={\"POS\":\"int\",\"DN_ID\":\"string\",\"Patient ID\":\"string\",\"Phenotype\":\"string\",\"Platform\":\"string\",\"Study\":\"string\",\"Pubmed ID\":\"int\"}, na_filter=False, chunksize=10**4): \n",
    "        cpickle.dump(chunk,file)"
   ]
  },
  {
   "cell_type": "code",
   "execution_count": 17,
   "id": "189773ab",
   "metadata": {
    "ExecuteTime": {
     "end_time": "2021-07-27T17:48:12.135227Z",
     "start_time": "2021-07-27T17:48:11.601233Z"
    }
   },
   "outputs": [],
   "source": [
    "with open(\"esp6500siv2_all_chr1.pkl\", 'wb+') as file:\n",
    "    for chunk in pd.read_csv(\"databases/hg38_esp6500siv2_all.txt\", nrows=212393,engine='c', sep='\\t', usecols=[1,5,6], index_col=0, dtype={1:\"int\",5:\"float\",6:\"string\"}, na_filter=False, chunksize=10**4): \n",
    "        cpickle.dump(chunk,file)"
   ]
  },
  {
   "cell_type": "code",
   "execution_count": 8,
   "id": "d4eddb2c",
   "metadata": {
    "ExecuteTime": {
     "end_time": "2021-07-27T15:10:21.301941Z",
     "start_time": "2021-07-27T15:10:19.345176Z"
    }
   },
   "outputs": [],
   "source": [
    "with open(\"clinvar_20210501_chr1.pkl\", 'wb+') as file:\n",
    "    for chunk in pd.read_csv(\"databases/hg38_clinvar_20210501.txt\", nrows=67470,engine='c', sep='\\t', usecols=[1,5,6,7,8,9], index_col=1, dtype={\"Start\":\"int\",\"CLNALLELEID\":\"int\",\"CLNDN\":\"string\",\"CLNDISDB\":\"string\",\"CLNREVSTAT\":\"string\",\"CLNSIG\":\"string\"}, na_filter=False, chunksize=10**4): \n",
    "        cpickle.dump(chunk,file)"
   ]
  },
  {
   "cell_type": "code",
   "execution_count": 9,
   "id": "bd42e3d6",
   "metadata": {
    "ExecuteTime": {
     "end_time": "2021-07-27T15:13:13.414879Z",
     "start_time": "2021-07-27T15:13:03.490586Z"
    }
   },
   "outputs": [],
   "source": [
    "with open(\"revel_chr1.pkl\", 'wb+') as file:\n",
    "    for chunk in pd.read_csv(\"databases/hg38_revel.txt\", nrows=8460921,engine='c', sep='\\t', usecols=[1,5], index_col=1, dtype={\"Start\":\"int\",\"REVEL\":\"float\"}, na_filter=False, chunksize=10**4): \n",
    "        cpickle.dump(chunk,file)"
   ]
  },
  {
   "cell_type": "code",
   "execution_count": 10,
   "id": "edb0c54d",
   "metadata": {
    "ExecuteTime": {
     "end_time": "2021-07-27T15:20:10.405372Z",
     "start_time": "2021-07-27T15:20:03.991770Z"
    }
   },
   "outputs": [],
   "source": [
    "# HRCR1 COLUMN 8 AND 11 (HRC_AN AND HRC_non1000G_AN) has only one value for all rows: 64976, 59986, DID NOT INCLUDE\n",
    "with open(\"hrcr1_chr1.pkl\", 'wb+') as file:\n",
    "    for chunk in pd.read_csv(\"databases/hg38_hrcr1.txt\", nrows=3067420,engine='c', sep='\\t', usecols=[1,5,6,8,9], index_col=1, dtype={\"Start\":\"int\",\"HRC_AF\":\"float\",\"HRC_AC\":\"int\",\"HRC_non1000G_AF\":\"float\",\"HRC_non1000G_AC\":\"int\"}, na_filter=False, chunksize=10**4): \n",
    "        cpickle.dump(chunk,file)"
   ]
  },
  {
   "cell_type": "code",
   "execution_count": 11,
   "id": "abeeec59",
   "metadata": {
    "ExecuteTime": {
     "end_time": "2021-07-27T15:22:00.196570Z",
     "start_time": "2021-07-27T15:21:50.462731Z"
    }
   },
   "outputs": [],
   "source": [
    "with open(\"mcap_chr1.pkl\", 'wb+') as file:\n",
    "    for chunk in pd.read_csv(\"databases/hg38_mcap.txt\", nrows=7569089,engine='c', sep='\\t', usecols=[1,5], index_col=1, dtype={\"Start\":\"int\",\"MCAP\":\"float\"}, na_filter=False, chunksize=10**4): \n",
    "        cpickle.dump(chunk,file)"
   ]
  },
  {
   "cell_type": "code",
   "execution_count": 12,
   "id": "7c4aeb42",
   "metadata": {
    "ExecuteTime": {
     "end_time": "2021-07-27T17:08:40.335401Z",
     "start_time": "2021-07-27T17:08:28.146644Z"
    }
   },
   "outputs": [],
   "source": [
    "with open(\"1000g201508_chr1.pkl\", 'wb+') as file:\n",
    "    for chunk in pd.read_csv(\"databases/hg38_1000g201508.txt\", nrows=6717870,engine='c', sep='\\t', usecols=[1,4,5], index_col=1, dtype={1:\"int\",4:\"float\",5:\"string\"}, na_filter=False, chunksize=10**4): \n",
    "        cpickle.dump(chunk,file)"
   ]
  },
  {
   "cell_type": "code",
   "execution_count": 13,
   "id": "f3f11c83",
   "metadata": {
    "ExecuteTime": {
     "end_time": "2021-07-27T17:13:48.645237Z",
     "start_time": "2021-07-27T17:13:35.844875Z"
    }
   },
   "outputs": [],
   "source": [
    "with open(\"icgc28_chr1.pkl\", 'wb+') as file:\n",
    "    for chunk in pd.read_csv(\"databases/hg38_icgc28.txt\", nrows=6152999,engine='c', sep='\\t', usecols=[1,4,5], index_col=1, dtype={1:\"int\",4:\"string\",5:\"string\"}, na_filter=False, chunksize=10**4): \n",
    "        cpickle.dump(chunk,file)"
   ]
  },
  {
   "cell_type": "code",
   "execution_count": null,
   "id": "b125784f",
   "metadata": {
    "ExecuteTime": {
     "start_time": "2021-07-27T19:04:26.750Z"
    }
   },
   "outputs": [],
   "source": [
    "# ICGC\n",
    "df = pd.read_csv(\"databases/hg38_icgc28.txt\", nrows=6152999,engine='c', sep='\\t', usecols=[1,5,6], index_col=0, dtype={1:\"int\",4:\"string\",5:\"string\"}, na_filter=False) \n",
    "df.to_csv(\"icgc28_chr1.csv\")"
   ]
  },
  {
   "cell_type": "code",
   "execution_count": 9,
   "id": "e4353c6a",
   "metadata": {
    "ExecuteTime": {
     "end_time": "2021-07-29T06:27:38.316966Z",
     "start_time": "2021-07-29T06:25:14.284529Z"
    }
   },
   "outputs": [
    {
     "name": "stderr",
     "output_type": "stream",
     "text": [
      "c:\\users\\kazij\\appdata\\local\\programs\\python\\python39\\lib\\site-packages\\numpy\\lib\\arraysetops.py:583: FutureWarning: elementwise comparison failed; returning scalar instead, but in the future will perform elementwise comparison\n",
      "  mask |= (ar1 == a)\n"
     ]
    }
   ],
   "source": [
    "# GNOMAD 30 GENOME\n",
    "dtypes = {\n",
    "    \"Start\":\"int\",\n",
    "    \"AF_raw\":\"float\"\n",
    "}\n",
    "df = pd.read_csv(\"databases/gnomad/gnomad30.txt\", nrows=63_500_520,engine='c', sep='\\t', usecols=[1,6], index_col=0, dtype=dtypes, na_values='.') "
   ]
  },
  {
   "cell_type": "code",
   "execution_count": 11,
   "id": "3283cae4",
   "metadata": {
    "ExecuteTime": {
     "end_time": "2021-07-29T06:56:48.963391Z",
     "start_time": "2021-07-29T06:52:31.463555Z"
    }
   },
   "outputs": [],
   "source": [
    "df.to_csv(\"gnomad30_chr1.txt\", sep=\"\\t\")"
   ]
  },
  {
   "cell_type": "code",
   "execution_count": null,
   "id": "8efe6318",
   "metadata": {
    "ExecuteTime": {
     "end_time": "2021-07-29T06:18:18.446278Z",
     "start_time": "2021-07-29T06:18:10.236839Z"
    },
    "code_folding": []
   },
   "outputs": [],
   "source": [
    "with open(\"databases/gnomad/gnomad30_chr1_af.pkl\", 'rb') as file:\n",
    "    results = cpickle.load(file)\n",
    "    print(results)"
   ]
  },
  {
   "cell_type": "code",
   "execution_count": 8,
   "id": "55e89999",
   "metadata": {
    "ExecuteTime": {
     "end_time": "2021-07-29T06:18:18.446278Z",
     "start_time": "2021-07-29T06:18:10.236839Z"
    },
    "code_folding": []
   },
   "outputs": [
    {
     "name": "stdout",
     "output_type": "stream",
     "text": [
      "              Start Ref     AF_raw\n",
      "0             10031   T  1.726e-05\n",
      "1             10037   T  3.309e-05\n",
      "2             10043   T  8.656e-06\n",
      "3             10055   T  3.898e-05\n",
      "4             10057   A   2.55e-05\n",
      "...             ...  ..        ...\n",
      "63500516  248946410   G       0.25\n",
      "63500517  248946411   T       0.25\n",
      "63500518  248946412   -       0.25\n",
      "63500519  248946412   T       0.25\n",
      "63500520  248946417   T        0.5\n",
      "\n",
      "[63500521 rows x 3 columns]\n"
     ]
    }
   ],
   "source": [
    "with open(pd.read_pickle(\"databases/gnomad/gnomad30.txt\", nrows=63_500_520,engine='c', sep='\\t', usecols=[1,6], index_col=0, dtype=dtypes, na_values='.'))\n",
    "    results = cpickle.load(file)\n",
    "    print(results)"
   ]
  }
 ],
 "metadata": {
  "kernelspec": {
   "display_name": "Python 3",
   "language": "python",
   "name": "python3"
  },
  "language_info": {
   "codemirror_mode": {
    "name": "ipython",
    "version": 3
   },
   "file_extension": ".py",
   "mimetype": "text/x-python",
   "name": "python",
   "nbconvert_exporter": "python",
   "pygments_lexer": "ipython3",
   "version": "3.9.5"
  }
 },
 "nbformat": 4,
 "nbformat_minor": 5
}
