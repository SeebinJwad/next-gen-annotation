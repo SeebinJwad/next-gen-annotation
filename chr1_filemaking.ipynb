{
 "cells": [
  {
   "cell_type": "code",
   "execution_count": 1,
   "id": "7f3f080c",
   "metadata": {
    "ExecuteTime": {
     "end_time": "2021-07-27T14:15:05.729406Z",
     "start_time": "2021-07-27T14:15:04.771412Z"
    }
   },
   "outputs": [
    {
     "name": "stdout",
     "output_type": "stream",
     "text": [
      "Populating the interactive namespace from numpy and matplotlib\n"
     ]
    }
   ],
   "source": [
    "import pandas as pd\n",
    "from pandas.api.types import CategoricalDtype\n",
    "import os\n",
    "import numpy as np\n",
    "from numpy import random\n",
    "import _pickle as cpickle\n",
    "%pylab inline"
   ]
  },
  {
   "cell_type": "code",
   "execution_count": null,
   "id": "440fe397",
   "metadata": {},
   "outputs": [],
   "source": [
    "with open(\"exac03_chr1.pkl\", 'wb+') as file:\n",
    "    for chunk in pd.read_csv(\"databases/hg38_exac03.txt\", nrows=1089537,engine='c', sep='\\t', usecols=[1,5], index_col=1, dtype={:\"int\",}, na_filter=False, chunksize=10**4): \n",
    "        cpickle.dump(chunk,file)"
   ]
  }
 ],
 "metadata": {
  "kernelspec": {
   "display_name": "Python 3",
   "language": "python",
   "name": "python3"
  },
  "language_info": {
   "codemirror_mode": {
    "name": "ipython",
    "version": 3
   },
   "file_extension": ".py",
   "mimetype": "text/x-python",
   "name": "python",
   "nbconvert_exporter": "python",
   "pygments_lexer": "ipython3",
   "version": "3.9.5"
  }
 },
 "nbformat": 4,
 "nbformat_minor": 5
}
