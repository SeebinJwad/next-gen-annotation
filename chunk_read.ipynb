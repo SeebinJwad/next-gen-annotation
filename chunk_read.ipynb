{
 "cells": [
  {
   "cell_type": "code",
   "execution_count": 5,
   "id": "7da40a0e",
   "metadata": {
    "ExecuteTime": {
     "end_time": "2021-07-29T16:40:21.896100Z",
     "start_time": "2021-07-29T16:39:58.078125Z"
    }
   },
   "outputs": [
    {
     "name": "stdout",
     "output_type": "stream",
     "text": [
      "Populating the interactive namespace from numpy and matplotlib\n"
     ]
    }
   ],
   "source": [
    "import pandas as pd\n",
    "from pandas.api.types import CategoricalDtype\n",
    "import os\n",
    "import numpy as np\n",
    "from numpy import random\n",
    "import _pickle as cpickle\n",
    "%pylab inline"
   ]
  },
  {
   "cell_type": "code",
   "execution_count": 1,
   "id": "b6421303",
   "metadata": {
    "ExecuteTime": {
     "end_time": "2021-07-27T13:57:31.769975Z",
     "start_time": "2021-07-27T13:57:31.744985Z"
    },
    "code_folding": [
     0
    ]
   },
   "outputs": [],
   "source": [
    "def pickle_chr(pickle_filename, db_filename, chunksize):\n",
    "    # remove previous pickle file if exists\n",
    "    if os.path.exists(pickle_filename): os.remove(pickle_filename) \n",
    "    # wb+ to ensure previous pkl files of same name arent appended to\n",
    "    with open(pickle_filename,'wb+') as file:\n",
    "        for chunk in pd.read_csv(db_filename, engine='c', sep='\\t', usecols=[0], index_col=False, na_values=None, dtype={'#CHROM:':'string'}, chunksize=chunksize): \n",
    "            cpickle.dump(chunk, file)\n",
    "# {\"#CHROM\":\"category\"}\n",
    "# open pickle file --> for each chunk in database's chr column: dump the chunk into pickle"
   ]
  },
  {
   "cell_type": "code",
   "execution_count": 28,
   "id": "eb9e1ea7",
   "metadata": {
    "ExecuteTime": {
     "end_time": "2021-07-26T14:39:26.040158Z",
     "start_time": "2021-07-26T14:39:26.015163Z"
    },
    "code_folding": [
     0
    ]
   },
   "outputs": [],
   "source": [
    "def pickle_val(pickle_filename, db_filename, val_cols, dtypes, chunksize):\n",
    "    if os.path.exists(pickle_filename): os.remove(pickle_filename) \n",
    "    with open(pick_filename, 'wb+') as file:\n",
    "        for chunk in pd.read_csv(db_filename, engine='c', sep='\\t', usecols=valcols, index_col=False, dtype=dtypes, chunksize=chunksize): \n",
    "            cpickle.dump(chunk,file)"
   ]
  },
  {
   "cell_type": "code",
   "execution_count": null,
   "id": "5c118686",
   "metadata": {
    "ExecuteTime": {
     "end_time": "2021-07-26T14:50:36.092827Z",
     "start_time": "2021-07-26T14:49:22.694774Z"
    },
    "code_folding": []
   },
   "outputs": [],
   "source": [
    "# def chr_idx(database, chr_raw, chunksize=10**4):\n",
    "# chr_raw True == chr1...chrY, chr_raw false == 1...Y\n",
    "# database = 'gene4denovo201907'\n",
    "database = \"gnomad211_exome\"\n",
    "chunksize = 10 ** 4\n",
    "\n",
    "pickle_chr('%s.pkl' % database, 'databases/hg38_%s.txt' % database, chunksize)\n",
    "\n",
    "chromosome_list = [x+1 for x in range(22)] + [\"X\", \"Y\"]\n",
    "# [\"chr\" + str(x+1) for x in range(22)] + [\"chrX\", \"chrY\"]  \n",
    "\n",
    "total_chr = []"
   ]
  },
  {
   "cell_type": "code",
   "execution_count": null,
   "id": "8ca74237",
   "metadata": {
    "ExecuteTime": {
     "end_time": "2021-07-26T14:52:03.721320Z",
     "start_time": "2021-07-26T14:51:57.693420Z"
    },
    "code_folding": []
   },
   "outputs": [],
   "source": [
    "with open(\"%s.pkl\" % database, 'rb') as file:\n",
    "    curr_chr = 0 # counts until last index of chromosome list\n",
    "    chunk_counter = 0 # multiply by chunk size to get actual - not relative - index\n",
    "    while True:\n",
    "        try:\n",
    "            result = cpickle.load(file)\n",
    "            chunk = pd.Series(dtype=\"category\")\n",
    "            chunk = result\n",
    "            del result\n",
    "        # EOFError when last chunk has size < chunk size\n",
    "        except EOFError:\n",
    "            break\n",
    "        else:\n",
    "            # if last value of chunk is next chr, find where index of next chr is\n",
    "            curr_chunk_idx = chunksize * chunk_counter\n",
    "            try:\n",
    "                next_chr = chromosome_list[curr_chr + 1]\n",
    "            except IndexError:\n",
    "                ...\n",
    "            if chunk.iloc[-1][0] == next_chr:\n",
    "                print(chunk.describe())#.iloc[3][0])) # + curr_chunk_idx))\n",
    "                curr_chr += 1\n",
    "            chunk_counter += 1\n",
    "            del chunk\n",
    "#x = chr_idx(\"gnomad211_exome\", chr_raw=True, chunksize=10 ** 5)"
   ]
  },
  {
   "cell_type": "code",
   "execution_count": null,
   "id": "93301cc2",
   "metadata": {
    "ExecuteTime": {
     "end_time": "2021-07-26T15:18:23.727439Z",
     "start_time": "2021-07-26T15:18:23.547096Z"
    },
    "code_folding": []
   },
   "outputs": [],
   "source": [
    "# splitter = np.random.choice([0, 1, 2], 10 ** 4)\n",
    "\n",
    "with open(\"gnomad211_exome.pkl\", 'rb') as file:\n",
    "    # load file up until x, y\n",
    "    result = cpickle.load(file)\n",
    "    chromosome_list = [str(x+1) for x in range(22)] + [\"X\", \"Y\"]\n",
    "    chunk = pd.Series(pd.Categorical.from_codes(result, categories=chromosome_list))\n",
    "chunk"
   ]
  },
  {
   "cell_type": "code",
   "execution_count": 4,
   "id": "05de5175",
   "metadata": {
    "ExecuteTime": {
     "end_time": "2021-07-27T14:13:05.664548Z",
     "start_time": "2021-07-27T14:13:05.336553Z"
    },
    "code_folding": []
   },
   "outputs": [],
   "source": [
    "with open(\"cosmic70_chr1.pkl\", 'wb+') as file:\n",
    "    for chunk in pd.read_csv(\"databases/hg38_cosmic70.txt\", nrows=133940,engine='c', sep='\\t', usecols=[1,5], index_col=1, dtype={1:\"int\",5:\"string\"}, na_filter=False, chunksize=10**4): \n",
    "        cpickle.dump(chunk,file)"
   ]
  },
  {
   "cell_type": "code",
   "execution_count": 17,
   "id": "63d4d8f2",
   "metadata": {
    "ExecuteTime": {
     "end_time": "2021-07-26T21:31:58.776927Z",
     "start_time": "2021-07-26T21:31:12.771754Z"
    },
    "code_folding": []
   },
   "outputs": [
    {
     "name": "stdout",
     "output_type": "stream",
     "text": [
      "              Start Ref     AF_raw\n",
      "0             10031   T  1.726e-05\n",
      "1             10037   T  3.309e-05\n",
      "2             10043   T  8.656e-06\n",
      "3             10055   T  3.898e-05\n",
      "4             10057   A   2.55e-05\n",
      "...             ...  ..        ...\n",
      "63500516  248946410   G       0.25\n",
      "63500517  248946411   T       0.25\n",
      "63500518  248946412   -       0.25\n",
      "63500519  248946412   T       0.25\n",
      "63500520  248946417   T        0.5\n",
      "\n",
      "[63500521 rows x 3 columns]\n"
     ]
    }
   ],
   "source": [
    "with open(\"databases/gnomad/gnomad30_chr1_af.pkl\", 'rb') as file:\n",
    "    result = cpickle.load(file)\n",
    "    df = pd.DataFrame()\n",
    "    df =result\n",
    "    del result\n",
    "    print(df)"
   ]
  },
  {
   "cell_type": "code",
   "execution_count": 6,
   "id": "a62292f3",
   "metadata": {
    "ExecuteTime": {
     "end_time": "2021-07-26T21:04:38.630892Z",
     "start_time": "2021-07-26T21:04:38.619898Z"
    },
    "code_folding": []
   },
   "outputs": [],
   "source": [
    "# generate 500 random unique values in chr1 for positive control\n",
    "def genrand(low,high, amt) -> list:\n",
    "    total_rands = []\n",
    "    chunk = (high - low) // amt\n",
    "    for x in range(amt):\n",
    "        total_rands.append(x*chunk + random.randint(0, chunk))\n",
    "    return total_rands\n",
    "# print(gen500(0,5000))"
   ]
  },
  {
   "cell_type": "code",
   "execution_count": 80,
   "id": "b130d832",
   "metadata": {
    "ExecuteTime": {
     "end_time": "2021-07-26T20:15:26.065978Z",
     "start_time": "2021-07-26T20:15:25.030281Z"
    },
    "code_folding": []
   },
   "outputs": [],
   "source": [
    "test = pd.read_csv(\"databases/hg38_gene4denovo201907.txt\", sep='\\t', usecols=[1,5,6,7,8,9,10], index_col=\"POS\", dtype={\"POS\":\"int\"})"
   ]
  },
  {
   "cell_type": "code",
   "execution_count": null,
   "id": "a99baeba",
   "metadata": {
    "ExecuteTime": {
     "end_time": "2021-07-26T20:15:27.360445Z",
     "start_time": "2021-07-26T20:15:27.344448Z"
    },
    "code_folding": []
   },
   "outputs": [],
   "source": [
    "test.iloc[15208]"
   ]
  },
  {
   "cell_type": "code",
   "execution_count": null,
   "id": "c6481df1",
   "metadata": {
    "ExecuteTime": {
     "start_time": "2021-07-27T18:44:06.252Z"
    },
    "code_folding": []
   },
   "outputs": [],
   "source": [
    "with open(\"pkldb/rightstart/abraom_chr1.pkl\", 'rb') as f:\n",
    "    df = pd.DataFrame()\n",
    "    while True:\n",
    "        try:\n",
    "            result = cpickle.load(f)\n",
    "            df.append(result)\n",
    "        except:\n",
    "            ...\n",
    "    print(df)\n",
    "    #print(df.head)\n",
    "    a = [13116,13244,13245]\n",
    "    starts = df.index.to_numpy()\n",
    "#     abraom_idx = []\n",
    "#     for x in range(500):\n",
    "#         abraom_idx.append(str(starts[np.random.randint(0, len(starts) - 1)]))\n",
    "#     print(abraom_idx)\n",
    "    null_df = pd.DataFrame()\n",
    "    null_df = {\"abraom_freq\":0,\"abraom_filter\":0,\"abraom_cegh_filter\":0}\n",
    "    for x in a:\n",
    "        value_idx = np.where(starts == x)\n",
    "        value = df.iloc[value_idx]\n",
    "        if value.empty:\n",
    "            print(null_df)\n",
    "        else:\n",
    "        # print(value_idx[0][0])\n",
    "            print(df.iloc[value_idx])\n",
    "# with open(\"indexes_test_file.txt\", \"w+\") as f:\n",
    "#     f.write(\"\\n\".join(abraom_idx))\n",
    "# open output file and put these in as columns"
   ]
  },
  {
   "cell_type": "code",
   "execution_count": 3,
   "id": "f0e55a90",
   "metadata": {
    "ExecuteTime": {
     "end_time": "2021-07-27T19:01:39.304266Z",
     "start_time": "2021-07-27T18:55:00.088344Z"
    },
    "code_folding": []
   },
   "outputs": [
    {
     "ename": "KeyboardInterrupt",
     "evalue": "",
     "output_type": "error",
     "traceback": [
      "\u001b[1;31m---------------------------------------------------------------------------\u001b[0m",
      "\u001b[1;31mEOFError\u001b[0m                                  Traceback (most recent call last)",
      "\u001b[1;32m<ipython-input-3-ca7bc850c923>\u001b[0m in \u001b[0;36m<module>\u001b[1;34m\u001b[0m\n\u001b[0;32m      4\u001b[0m         \u001b[1;32mtry\u001b[0m\u001b[1;33m:\u001b[0m\u001b[1;33m\u001b[0m\u001b[1;33m\u001b[0m\u001b[0m\n\u001b[1;32m----> 5\u001b[1;33m             \u001b[0mresult\u001b[0m \u001b[1;33m=\u001b[0m \u001b[0mcpickle\u001b[0m\u001b[1;33m.\u001b[0m\u001b[0mload\u001b[0m\u001b[1;33m(\u001b[0m\u001b[0mf\u001b[0m\u001b[1;33m)\u001b[0m\u001b[1;33m\u001b[0m\u001b[1;33m\u001b[0m\u001b[0m\n\u001b[0m\u001b[0;32m      6\u001b[0m         \u001b[1;32mexcept\u001b[0m \u001b[0mEOFError\u001b[0m\u001b[1;33m:\u001b[0m\u001b[1;33m\u001b[0m\u001b[1;33m\u001b[0m\u001b[0m\n",
      "\u001b[1;31mEOFError\u001b[0m: Ran out of input",
      "\nDuring handling of the above exception, another exception occurred:\n",
      "\u001b[1;31mKeyboardInterrupt\u001b[0m                         Traceback (most recent call last)",
      "\u001b[1;32m<ipython-input-3-ca7bc850c923>\u001b[0m in \u001b[0;36m<module>\u001b[1;34m\u001b[0m\n\u001b[0;32m      3\u001b[0m     \u001b[1;32mwhile\u001b[0m \u001b[1;32mTrue\u001b[0m\u001b[1;33m:\u001b[0m\u001b[1;33m\u001b[0m\u001b[1;33m\u001b[0m\u001b[0m\n\u001b[0;32m      4\u001b[0m         \u001b[1;32mtry\u001b[0m\u001b[1;33m:\u001b[0m\u001b[1;33m\u001b[0m\u001b[1;33m\u001b[0m\u001b[0m\n\u001b[1;32m----> 5\u001b[1;33m             \u001b[0mresult\u001b[0m \u001b[1;33m=\u001b[0m \u001b[0mcpickle\u001b[0m\u001b[1;33m.\u001b[0m\u001b[0mload\u001b[0m\u001b[1;33m(\u001b[0m\u001b[0mf\u001b[0m\u001b[1;33m)\u001b[0m\u001b[1;33m\u001b[0m\u001b[1;33m\u001b[0m\u001b[0m\n\u001b[0m\u001b[0;32m      6\u001b[0m         \u001b[1;32mexcept\u001b[0m \u001b[0mEOFError\u001b[0m\u001b[1;33m:\u001b[0m\u001b[1;33m\u001b[0m\u001b[1;33m\u001b[0m\u001b[0m\n\u001b[0;32m      7\u001b[0m             \u001b[1;33m...\u001b[0m\u001b[1;33m\u001b[0m\u001b[1;33m\u001b[0m\u001b[0m\n",
      "\u001b[1;31mKeyboardInterrupt\u001b[0m: "
     ]
    }
   ],
   "source": [
    "with open(\"pkldb/rightstart/abraom_chr1.pkl\", 'rb') as f:\n",
    "    # df = pd.DataFrame()\n",
    "    while True:\n",
    "        try:\n",
    "            result = cpickle.load(f)\n",
    "        except EOFError:\n",
    "            ..."
   ]
  },
  {
   "cell_type": "code",
   "execution_count": 8,
   "id": "6422a76c",
   "metadata": {
    "ExecuteTime": {
     "end_time": "2021-07-27T19:07:41.793305Z",
     "start_time": "2021-07-27T19:07:35.876311Z"
    }
   },
   "outputs": [],
   "source": [
    "df = pd.read_csv(\"chr1_db/icgc28_chr1.csv\", sep=',')"
   ]
  },
  {
   "cell_type": "code",
   "execution_count": null,
   "id": "c23f82c9",
   "metadata": {
    "ExecuteTime": {
     "end_time": "2021-07-27T19:11:22.829248Z",
     "start_time": "2021-07-27T19:11:22.801275Z"
    }
   },
   "outputs": [],
   "source": [
    "mitch_chr1 = np.array([147669960, 1485789, 43981335, 156656345, 226986547, 19344389, 207790281, 1719444, 1719444, 180041702, 108934722, 33600967, 16137982, 16148710, 152309509, 152304631, 152308956, 77978985, 210623590, 53280643, 219211531, 247841196, 248273057, 247896103, 966582, 186307231, 161163007, 26361720, 147659522, 1022344, 27551914, 77286975, 74572468, 206098084, 35716272, 228101152, 159196395, 10655652, 154978733, 153818141, 53594558, 45634111, 236142687, 185909441])\n",
    "starts = df[\"Start\"].to_numpy()\n",
    "for x in mitch_chr1:\n",
    "    \n",
    "# print([int(g) for g in x.split(\"\\n\")[:-1]])"
   ]
  },
  {
   "cell_type": "code",
   "execution_count": 10,
   "id": "ce39b01a",
   "metadata": {
    "ExecuteTime": {
     "end_time": "2021-07-29T16:44:52.626270Z",
     "start_time": "2021-07-29T16:44:52.621271Z"
    }
   },
   "outputs": [],
   "source": [
    "def find_idxs(db_arr, inp_arr):\n",
    "    output = []\n",
    "    for x in inp_arr:\n",
    "        search = np.searchsorted(db_arr, x)\n",
    "        try:\n",
    "            g = db_arr[search]\n",
    "        except:\n",
    "            output.append(None)\n",
    "        else:\n",
    "            output.append(search)\n",
    "    return output"
   ]
  },
  {
   "cell_type": "code",
   "execution_count": 7,
   "id": "35517315",
   "metadata": {
    "ExecuteTime": {
     "end_time": "2021-07-29T16:40:22.146057Z",
     "start_time": "2021-07-29T16:40:21.918113Z"
    }
   },
   "outputs": [],
   "source": [
    "def find_idx_vals(idxs_arr, db_vals):\n",
    "    # for row in matrix db_vals \n",
    "    num_columns = len(db_vals[0])\n",
    "    outputs = []\n",
    "    for idx in idxs_arr:\n",
    "        if idx == None:\n",
    "            outputs.append(['.'] * num_columns)\n",
    "        else:\n",
    "            outputs.append(db_vals[idx])\n",
    "    return outputs"
   ]
  },
  {
   "cell_type": "code",
   "execution_count": null,
   "id": "5ee72eea",
   "metadata": {
    "ExecuteTime": {
     "end_time": "2021-07-29T04:44:23.457863Z",
     "start_time": "2021-07-29T04:44:23.356023Z"
    }
   },
   "outputs": [],
   "source": [
    "vals = [[\"A\",\"B\"],[\"D\",\"E\"],[\"F\",\"G\"]]\n",
    "inputs = [0,2]\n",
    "print(find_idx_vals(inputs, vals))"
   ]
  },
  {
   "cell_type": "code",
   "execution_count": 91,
   "id": "d6bad5a7",
   "metadata": {
    "ExecuteTime": {
     "end_time": "2021-07-29T06:04:21.201202Z",
     "start_time": "2021-07-29T06:04:21.182653Z"
    }
   },
   "outputs": [],
   "source": [
    "def col_to_int_list(col):\n",
    "    col = col.split(\"\\n\")\n",
    "    return [int(x) for x in col[:-1]]"
   ]
  },
  {
   "cell_type": "code",
   "execution_count": 92,
   "id": "4fa9ae5c",
   "metadata": {
    "ExecuteTime": {
     "end_time": "2021-07-29T06:05:38.153865Z",
     "start_time": "2021-07-29T06:05:38.145866Z"
    }
   },
   "outputs": [
    {
     "name": "stdout",
     "output_type": "stream",
     "text": [
      "[65498, 66055, 69010, 450718, 450750, 451109, 451507, 451584, 685694, 685726, 686085, 686483, 686560, 686647, 925081, 925720, 925793, 925794, 926050, 926250, 926428, 926713, 926744, 927006, 927758, 928141, 928176, 928182, 929346, 929558]\n"
     ]
    }
   ],
   "source": [
    "convert_input = \"\"\"65498\n",
    "66055\n",
    "69010\n",
    "450718\n",
    "450750\n",
    "451109\n",
    "451507\n",
    "451584\n",
    "685694\n",
    "685726\n",
    "686085\n",
    "686483\n",
    "686560\n",
    "686647\n",
    "925081\n",
    "925720\n",
    "925793\n",
    "925794\n",
    "926050\n",
    "926250\n",
    "926428\n",
    "926713\n",
    "926744\n",
    "927006\n",
    "927758\n",
    "928141\n",
    "928176\n",
    "928182\n",
    "929346\n",
    "929558\n",
    "\"\"\"\n",
    "print(col_to_int_list(convert_input))"
   ]
  },
  {
   "cell_type": "code",
   "execution_count": 35,
   "id": "9272ef59",
   "metadata": {
    "ExecuteTime": {
     "end_time": "2021-07-29T17:21:27.986695Z",
     "start_time": "2021-07-29T17:21:27.972697Z"
    }
   },
   "outputs": [],
   "source": [
    "def output_csv(dataframe, name):\n",
    "    filename = \"%s.txt\" % name\n",
    "    if os.path.isfile(filename):\n",
    "        os.remove(filename)\n",
    "    else:\n",
    "        dataframe.to_csv(filename,sep=\"\\t\",index=False)"
   ]
  },
  {
   "cell_type": "code",
   "execution_count": 19,
   "id": "51167aa8",
   "metadata": {
    "ExecuteTime": {
     "end_time": "2021-07-29T16:49:17.565873Z",
     "start_time": "2021-07-29T16:49:17.555876Z"
    }
   },
   "outputs": [],
   "source": [
    "sample_arr = [10031, 65498, 66055, 69010, 450718, 450750, 451109, 451507, 451584, 685694, 685726, 686085, 686483, 686560, 686647, 925081, 925720, 925793, 925794, 926050, 926250, 926428, 926713, 926744, 927006, 927758, 928141, 928176, 928182, 929346, 929558]"
   ]
  },
  {
   "cell_type": "code",
   "execution_count": 96,
   "id": "b2dffba1",
   "metadata": {
    "ExecuteTime": {
     "end_time": "2021-07-29T06:11:05.481544Z",
     "start_time": "2021-07-29T06:11:05.321263Z"
    }
   },
   "outputs": [
    {
     "name": "stdout",
     "output_type": "stream",
     "text": [
      "        ICGC_Id                                     ICGC_Occurence\n",
      "0             .                                                  .\n",
      "1             .                                                  .\n",
      "2             .                                                  .\n",
      "3             .                                                  .\n",
      "4             .                                                  .\n",
      "5             .                                                  .\n",
      "6             .                                                  .\n",
      "7             .                                                  .\n",
      "8    MU28622540                           LAML-KR|1|205|0.00487805\n",
      "9    MU25935246  LAML-KR|1|205|0.00487805,LUSC-KR|2|170|0.01176...\n",
      "10   MU30401628                           LUSC-KR|1|170|0.00588235\n",
      "11            .                                                  .\n",
      "12            .                                                  .\n",
      "13            .                                                  .\n",
      "14            .                                                  .\n",
      "15            .                                                  .\n",
      "16  MU131014054                            STAD-US|1|439|0.0022779\n",
      "17            .                                                  .\n",
      "18            .                                                  .\n",
      "19            .                                                  .\n",
      "20            .                                                  .\n",
      "21   MU16204391                           LAML-KR|1|205|0.00487805\n",
      "22  MU113491758                           LAML-KR|1|205|0.00487805\n",
      "23            .                                                  .\n",
      "24            .                                                  .\n",
      "25            .                                                  .\n",
      "26            .                                                  .\n",
      "27            .                                                  .\n",
      "28            .                                                  .\n",
      "29  MU113373111                           LUSC-KR|1|170|0.00588235\n"
     ]
    }
   ],
   "source": [
    "chunksize = 10 ** 4\n",
    "dtypes = {\n",
    "    \"Start\":\"int\",\n",
    "    \"ICGC_Id\":\"string\",\n",
    "    \"ICGC_Occurence\":\"string\"\n",
    "}\n",
    "# dtypes[1:] because start column removed\n",
    "value_headers = list(dtypes.keys())[1:]\n",
    "first_time = True\n",
    "for chunk in pd.read_csv(\"chr1_db/icgc28_chr1.csv\", sep=',', na_filter=False,dtype=dtypes, chunksize=chunksize):\n",
    "    icgc_arr = chunk[\"Start\"].to_numpy()\n",
    "    chunk = chunk.drop([\"Start\"], axis=1)\n",
    "    idxs = find_idxs(icgc_arr, sample_arr)\n",
    "    chunk = chunk.to_numpy()\n",
    "    chunk_df = pd.DataFrame(find_idx_vals(idxs, chunk), columns=value_headers)\n",
    "    if first_time:\n",
    "        output_df = pd.DataFrame(find_idx_vals(idxs, chunk), columns=value_headers)\n",
    "        first_time = False\n",
    "        continue\n",
    "    output_df.append(chunk_df)\n",
    "    print(output_df)\n",
    "    # if last val of chunk is past inp file last val, stop iterating chunks unecessarily\n",
    "    if icgc_arr[-1] >= sample_arr[-1]:\n",
    "        break\n",
    "output_csv(output_df, \"test_output_gnomad\")"
   ]
  },
  {
   "cell_type": "code",
   "execution_count": 51,
   "id": "856684d7",
   "metadata": {
    "ExecuteTime": {
     "end_time": "2021-07-29T18:59:57.868486Z",
     "start_time": "2021-07-29T18:59:57.443514Z"
    }
   },
   "outputs": [],
   "source": [
    "chr1_22250 = pd.read_csv(\"annovar-full/chr1_22250.txt\", usecols=[1], sep='\\t', na_filter=False, dtype={\"Start\":\"int\"})\n",
    "start_vals = chr1_22250[\"Start\"].to_numpy()[:1000]\n",
    "# print(start_vals)"
   ]
  },
  {
   "cell_type": "code",
   "execution_count": null,
   "id": "b9f205ba",
   "metadata": {
    "ExecuteTime": {
     "end_time": "2021-07-29T18:51:44.296139Z",
     "start_time": "2021-07-29T17:28:19.073403Z"
    }
   },
   "outputs": [],
   "source": [
    "chunksize = 10 ** 4\n",
    "dtypes = {\n",
    "    \"Start\":\"int\",\n",
    "    \"AF_raw\":\"float\",\n",
    "}\n",
    "sample_arr = start_vals\n",
    "del start_vals\n",
    "# dtypes[1:] because start column removed\n",
    "value_headers = list(dtypes.keys())[1:]\n",
    "first_time = True\n",
    "for chunk in pd.read_csv(\"gnomad30_chr1.txt\", sep='\\t', na_filter=False,dtype=dtypes, chunksize=chunksize):\n",
    "    gnomad_arr = chunk[\"Start\"].to_numpy()\n",
    "    chunk = chunk.drop([\"Start\"], axis=1)\n",
    "    idxs = find_idxs(gnomad_arr, sample_arr)\n",
    "    chunk = chunk.to_numpy()\n",
    "    chunk_df = pd.DataFrame(find_idx_vals(idxs, chunk), columns=value_headers)\n",
    "    if first_time:\n",
    "        output_df = pd.DataFrame(find_idx_vals(idxs, chunk), columns=value_headers)\n",
    "        first_time = False\n",
    "        continue\n",
    "    output_df.append(chunk_df)\n",
    "    # if last val of chunk is past inp file last val, stop iterating chunks unecessarily\n",
    "    if gnomad_arr[-1] >= sample_arr[-1]:\n",
    "        break\n",
    "\n",
    "output_df.to_csv(\"test_output_29_gnomad.txt\",sep=\"\\t\",index=False)"
   ]
  },
  {
   "cell_type": "code",
   "execution_count": 44,
   "id": "ad5b5beb",
   "metadata": {
    "ExecuteTime": {
     "end_time": "2021-07-29T18:53:10.507509Z",
     "start_time": "2021-07-29T18:53:10.382513Z"
    }
   },
   "outputs": [],
   "source": [
    "output_df.to_csv(\"test_output_29_gnomad.txt\", sep=\"\\t\", index=False)"
   ]
  },
  {
   "cell_type": "code",
   "execution_count": null,
   "id": "424cc747",
   "metadata": {
    "ExecuteTime": {
     "end_time": "2021-07-29T17:14:05.316166Z",
     "start_time": "2021-07-29T17:14:05.297173Z"
    }
   },
   "outputs": [],
   "source": [
    "# TESTS\n",
    "chunksize = 10 ** 4\n",
    "dtypes = {\n",
    "    \"Start\":\"int\",\n",
    "    \"AF_raw\":\"float\",\n",
    "}\n",
    "# dtypes[1:] because start column removed\n",
    "value_headers = list(dtypes.keys())[1:]\n",
    "first_time = True\n",
    "for chunk in pd.read_csv(\"gnomad30_chr1.txt\", sep='\\t', na_filter=False,dtype=dtypes, chunksize=chunksize):\n",
    "    gnomad_arr = chunk[\"Start\"].to_numpy()\n",
    "    chunk = chunk.drop([\"Start\"], axis=1)\n",
    "    idxs = find_idxs(gnomad_arr, sample_arr)\n",
    "    print(gnomad_arr[-1])\n",
    "    print(sample_arr[-1])\n",
    "    break"
   ]
  },
  {
   "cell_type": "code",
   "execution_count": null,
   "id": "7fc5f5ed",
   "metadata": {
    "ExecuteTime": {
     "end_time": "2021-07-29T17:18:45.139029Z",
     "start_time": "2021-07-29T17:18:44.707034Z"
    }
   },
   "outputs": [],
   "source": [
    "chr1_22250 = pd.read_csv(\"annovar-full/chr1_22250.txt\", usecols=[1], sep='\\t', na_filter=False, dtype={\"Start\":\"int\"})\n",
    "start_vals = chr1_22250[\"Start\"].to_numpy()\n",
    "print(len(start_vals))"
   ]
  },
  {
   "cell_type": "code",
   "execution_count": 78,
   "id": "9576f3e2",
   "metadata": {
    "ExecuteTime": {
     "end_time": "2021-07-29T21:02:04.804512Z",
     "start_time": "2021-07-29T21:02:04.015965Z"
    }
   },
   "outputs": [
    {
     "name": "stdout",
     "output_type": "stream",
     "text": [
      "1000\n",
      "[-1.000e+00 -1.000e+00 -1.000e+00 ...  8.000e-04  9.042e-05  2.000e-04]\n",
      "36000\n"
     ]
    }
   ],
   "source": [
    "chunksize = 10 ** 4\n",
    "dtypes = {\n",
    "    \"Start\":\"int\",\n",
    "    \"AF_raw\":\"float\",\n",
    "}\n",
    "sample_arr = start_vals\n",
    "# dtypes[1:] because start column removed\n",
    "value_headers = list(dtypes.keys())[1:]\n",
    "first_time = True\n",
    "same_vals = []\n",
    "for chunk in pd.read_csv(\"gnomad30_chr1.txt\", sep='\\t', na_filter=False, index_col=0, dtype=dtypes, chunksize=chunksize):\n",
    "    gnomad_arr = chunk.index.to_numpy()\n",
    "    for x in sample_arr:\n",
    "        if x not in gnomad_arr:\n",
    "            same_vals.append(-1)\n",
    "            continue\n",
    "        index = np.searchsorted(gnomad_arr, x)\n",
    "        same_vals.append(float(chunk.iloc[index]))\n",
    "    if gnomad_arr[-1] >= sample_arr[-1]:\n",
    "        break\n",
    "print(len(sample_arr))\n",
    "print(data := np.array(same_vals).T)\n",
    "print(len(data))\n",
    "output_df = pd.DataFrame(data=data)\n",
    "output_df.to_csv(\"testss.txt\", sep='\\t', index=False)\n",
    "\n",
    "# np reshape to 1000 sub lists of 2 vals\n",
    "# output_df[\"Start\"] = pd.Series(sample_arr)\n",
    "# output_df[\"Val\"] = pd.Series(np.array(same_vals))\n",
    "#     idxs = find_idxs(gnomad_arr, sample_arr)\n",
    "#     chunk = chunk.to_numpy()\n",
    "#     chunk_df = pd.DataFrame(find_idx_vals(idxs, chunk), columns=value_headers)\n",
    "#     if first_time:\n",
    "#         output_df = pd.DataFrame(find_idx_vals(idxs, chunk), columns=value_headers)\n",
    "#         first_time = False\n",
    "#         continue\n",
    "#     output_df.append(chunk_df)\n",
    "#     # if last val of chunk is past inp file last val, stop iterating chunks unecessarily\n",
    "#     if gnomad_arr[-1] >= sample_arr[-1]:\n",
    "#         break"
   ]
  },
  {
   "cell_type": "code",
   "execution_count": 69,
   "id": "ab2d661b",
   "metadata": {
    "ExecuteTime": {
     "end_time": "2021-07-29T19:20:36.395526Z",
     "start_time": "2021-07-29T19:20:36.381531Z"
    }
   },
   "outputs": [],
   "source": [
    "output_df.to_csv(\"test_output_29_gnomad.txt\",sep=\"\\t\",index=False)"
   ]
  }
 ],
 "metadata": {
  "kernelspec": {
   "display_name": "Python 3",
   "language": "python",
   "name": "python3"
  },
  "language_info": {
   "codemirror_mode": {
    "name": "ipython",
    "version": 3
   },
   "file_extension": ".py",
   "mimetype": "text/x-python",
   "name": "python",
   "nbconvert_exporter": "python",
   "pygments_lexer": "ipython3",
   "version": "3.9.5"
  }
 },
 "nbformat": 4,
 "nbformat_minor": 5
}
