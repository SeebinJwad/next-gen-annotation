{
 "cells": [
  {
   "cell_type": "code",
   "execution_count": 13,
   "id": "c3aee136",
   "metadata": {
    "ExecuteTime": {
     "end_time": "2022-03-06T18:35:43.513350Z",
     "start_time": "2022-03-06T18:35:24.848271Z"
    }
   },
   "outputs": [],
   "source": [
    "import pandas as pd\n",
    "import numpy as np\n",
    "# import os\n",
    "import jdc"
   ]
  },
  {
   "cell_type": "code",
   "execution_count": 20,
   "id": "26e87120",
   "metadata": {
    "ExecuteTime": {
     "end_time": "2022-03-06T18:52:57.189331Z",
     "start_time": "2022-03-06T18:52:57.166758Z"
    },
    "code_folding": [
     2,
     4
    ]
   },
   "outputs": [],
   "source": [
    "class Mech():\n",
    "    def __init__(self, chromosomes, sample_id):\n",
    "        usecols = [\"Chr\", \n",
    "                   \"Start\", \"End\", \"Ref\", \"Alt\", \"Func.refGene\", \"Otherinfo10\", \"Otherinfo11\"]\n",
    "        dtype = {\"Chr\":\"category\",\n",
    "          \"Start\":np.int32,\n",
    "          \"End\":np.int32,\n",
    "          \"Ref\":\"category\",\n",
    "          \"Alt\":\"category\",\n",
    "          \"Func.refGene\":\"category\",\n",
    "          \"Otherinfo10\":\"category\",\n",
    "          \"Otherinfo11\":\"string\"}\n",
    "        self.chromosomes = chromosomes\n",
    "        self.sample_id = sample_id\n",
    "        self.df = pd.concat(map(pd.read_csv, \n",
    "                    [\"chr{}_{}.csv\".format(chrom, self.sample_id) for chrom in self.chromosomes], \n",
    "                    dtype=dtype, usecols=usecols), ignore_index=True)\n",
    "        col_names = self.df.columns.values.tolist()\n",
    "        new_col_names = [''.join(char for char in name if char.isalnum()) for name in col_names]\n",
    "        self.df.rename(columns=dict(zip(col_names, new_col_names)))"
   ]
  },
  {
   "cell_type": "code",
   "execution_count": 21,
   "id": "e2500e6d",
   "metadata": {
    "ExecuteTime": {
     "end_time": "2022-03-06T18:52:58.358404Z",
     "start_time": "2022-03-06T18:52:58.348463Z"
    },
    "code_folding": []
   },
   "outputs": [],
   "source": [
    "%%add_to Mech\n",
    "def category_filter(self, **kwargs):\n",
    "    for key, value in kwargs.items():\n",
    "        cats = self.df[key].cat.categories\n",
    "        self.df.remove_categories([x for x in cats if not x in value])\n",
    "    self.df.dropna(inplace=True)"
   ]
  },
  {
   "cell_type": "code",
   "execution_count": 22,
   "id": "6c88bf19",
   "metadata": {
    "ExecuteTime": {
     "end_time": "2022-03-06T18:52:59.293157Z",
     "start_time": "2022-03-06T18:52:58.990350Z"
    },
    "code_folding": []
   },
   "outputs": [],
   "source": [
    "%%add_to Mech\n",
    "def num_filter(self, **kwargs):\n",
    "    pd.eval(\"DP = self.df.Otherinfo11.str.split(';',3).str[2].str.split('DP=').str[1].astype('int32')\", target=self.df, inplace=True)\n",
    "    pd.eval(\"AF = self.df.Otherinfo11.str.split(';',5).str[4].str.split('AF=').str[1].astype('float')\", target=self.df, inplace=True)\n",
    "    for key, value in kwargs.items():\n",
    "        self.df.loc[:,key].where(self.df.loc[:,key] > value, inplace=True)\n",
    "    self.df.dropna(inplace=True)"
   ]
  },
  {
   "cell_type": "code",
   "execution_count": null,
   "id": "64dd4f47",
   "metadata": {},
   "outputs": [],
   "source": [
    "# idx_split([1,3,4,5,1,2,3,4]) = 4\n",
    "def find_mid(indices):\n",
    "    # creates a copy of indexes array but one index shifted to the left with first val -1\n",
    "    # orig = [1,3,4,5,1,2,3,4]\n",
    "    # copy = [0,1,3,4,5,1,2,3] \n",
    "    # sub = orig - copy = [1,2,1,1,-4,1,1,1]\n",
    "    # np.argmin(sub) = 4\n",
    "    copy = indices[:-1].copy()\n",
    "    np.insert(copy, 0, indices[0] - 1)"
   ]
  },
  {
   "cell_type": "code",
   "execution_count": 3,
   "id": "74642dab",
   "metadata": {
    "ExecuteTime": {
     "end_time": "2022-03-06T04:52:42.217830Z",
     "start_time": "2022-03-06T04:52:40.594538Z"
    },
    "code_folding": []
   },
   "outputs": [],
   "source": [
    "def subtract(df1, df2):\n",
    "    # functionalize outside of class\n",
    "    uqid_df1 = df1[df1.columns[1:5]].apply(lambda x: ''.join(x.astype(str)),axis=1).squeeze()\n",
    "    uqid_df2 = df2[df2.columns[1:5]].apply(lambda x: ''.join(x.astype(str)),axis=1).squeeze()  \n",
    "    uqid = pd.concat([uqid_df1, uqid_df2], ignore_index=True)\n",
    "    uqid_df1_len, uqid_df2_len = len(uqid_df1.index), len(uqid_df2.index)\n",
    "    \n",
    "    idx = np.append(np.arange(0, uqid_df1_len), np.arange(0, uqid_df2_len))\n",
    "    uqid_df = pd.DataFrame({'idx':idx}, index=uqid)\n",
    "    uqid_df.reset_index(inplace=True)\n",
    "    uqid_df = uqid_df.sort_index().groupby('index').filter(lambda x: len(x) == 1)\n",
    "    idx = uqid_df['idx'].to_numpy()\n",
    "    # mid val functionalize outside of class\n",
    "    mid_val = np.argmin(idx[len(idx)//5:]) + len(idx)//5\n",
    "    # inv arr functionalize outside of class\n",
    "    inv_arr = lambda max_val,idx_arr: np.array(sorted(set(range(0, max_val)).difference(idx_arr)))\n",
    "    df1 = df1.drop(df1.index[inv_arr(uqid_df1_len, idx[:mid_val])])\n",
    "    df2 = df2.drop(df2.index[inv_arr(uqid_df2_len, idx[mid_val:])])\n",
    "    return df1"
   ]
  },
  {
   "cell_type": "code",
   "execution_count": 9,
   "id": "2e639df3",
   "metadata": {
    "ExecuteTime": {
     "end_time": "2022-03-06T08:34:12.171370Z",
     "start_time": "2022-03-06T08:34:12.008372Z"
    },
    "code_folding": []
   },
   "outputs": [],
   "source": [
    "def init_df(chromomosomes_arg, sample_id, dtype_arg, usecols_arg):\n",
    "    df = pd.concat(map(pd.read_csv, \n",
    "                       [\"chr{}_{}.csv\".format(chrom, sample_id) for chrom in chromosomes_arg], \n",
    "                      dtype=dtype+arg, usecols=usecols_arg), ignore_index=True)\n",
    "    col_names = df.columns.values.tolist()\n",
    "    # removes any symbols in col names\n",
    "    new_col_names = [''.join(char for char in name if char.isalnum()) for name in col_names]\n",
    "    df.rename(columns=dict(zip(col_names, new_col_names)))\n",
    "    return df"
   ]
  },
  {
   "cell_type": "code",
   "execution_count": null,
   "id": "94a1948d",
   "metadata": {},
   "outputs": [],
   "source": [
    "def main():\n",
    "    ids = {'22241':['22334','22243']}\n",
    "    chromosomes = ['1','2']\n",
    "    for key, value in ids.items():\n",
    "        parent = init_df(chromosomes, key, dtype, usecols)\n",
    "        filt_parent = category_filter(parent, Otherinfo10='PASS')\n",
    "        filt_parent = num_filter(filt_parent, DP=15, AF=.15)\n",
    "        for val in value:\n",
    "            variant = init_df(chromosomes, val, dtype, usecols)\n",
    "            filt_variant = category_filter(variant, Otherinfo10='PASS')\n",
    "            filt_variant = num_filter(filt_variant, DP=15, AF=.15)\n",
    "            pv_result = subtract(filt_parent, variant)\n",
    "            pv_result.to_csv(\"{}-{}.csv\".format(key, val))\n",
    "            vp_result = subtract(parent, filt_variant)\n",
    "            vp_result.to_csv(\"{}-{}.csv\".format(val, key))\n",
    "    return None"
   ]
  },
  {
   "cell_type": "code",
   "execution_count": null,
   "id": "b720b86f",
   "metadata": {},
   "outputs": [],
   "source": [
    "main()"
   ]
  }
 ],
 "metadata": {
  "kernelspec": {
   "display_name": "Python 3",
   "language": "python",
   "name": "python3"
  },
  "language_info": {
   "codemirror_mode": {
    "name": "ipython",
    "version": 3
   },
   "file_extension": ".py",
   "mimetype": "text/x-python",
   "name": "python",
   "nbconvert_exporter": "python",
   "pygments_lexer": "ipython3",
   "version": "3.9.5"
  }
 },
 "nbformat": 4,
 "nbformat_minor": 5
}
