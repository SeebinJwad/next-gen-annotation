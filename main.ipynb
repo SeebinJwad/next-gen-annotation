{
 "cells": [
  {
   "cell_type": "code",
   "execution_count": 13,
   "id": "c3aee136",
   "metadata": {
    "ExecuteTime": {
     "end_time": "2022-03-06T18:35:43.513350Z",
     "start_time": "2022-03-06T18:35:24.848271Z"
    }
   },
   "outputs": [],
   "source": [
    "import pandas as pd\n",
    "import numpy as np\n",
    "# import os\n",
    "import jdc"
   ]
  },
  {
   "cell_type": "code",
   "execution_count": 20,
   "id": "9085b445",
   "metadata": {
    "ExecuteTime": {
     "end_time": "2022-03-06T18:52:57.189331Z",
     "start_time": "2022-03-06T18:52:57.166758Z"
    },
    "code_folding": [
     2,
     4
    ]
   },
   "outputs": [],
   "source": [
    "class Mech():\n",
    "    def __init__(self, chromosomes, sample_id):\n",
    "        usecols = [\"Chr\", \n",
    "                   \"Start\", \"End\", \"Ref\", \"Alt\", \"Func.refGene\", \"Otherinfo10\", \"Otherinfo11\"]\n",
    "        dtype = {\"Chr\":\"category\",\n",
    "          \"Start\":np.int32,\n",
    "          \"End\":np.int32,\n",
    "          \"Ref\":\"category\",\n",
    "          \"Alt\":\"category\",\n",
    "          \"Func.refGene\":\"category\",\n",
    "          \"Otherinfo10\":\"category\",\n",
    "          \"Otherinfo11\":\"string\"}\n",
    "        self.chromosomes = chromosomes\n",
    "        self.sample_id = sample_id\n",
    "        self.df = pd.concat(map(pd.read_csv, \n",
    "                    [\"chr{}_{}.csv\".format(chrom, self.sample_id) for chrom in self.chromosomes], \n",
    "                    dtype=dtype, usecols=usecols), ignore_index=True)\n",
    "        col_names = self.df.columns.values.tolist()\n",
    "        new_col_names = [''.join(char for char in name if char.isalnum()) for name in col_names]\n",
    "        self.df.rename(columns=dict(zip(col_names, new_col_names)))"
   ]
  },
  {
   "cell_type": "code",
   "execution_count": 21,
   "id": "e2500e6d",
   "metadata": {
    "ExecuteTime": {
     "end_time": "2022-03-06T18:52:58.358404Z",
     "start_time": "2022-03-06T18:52:58.348463Z"
    },
    "code_folding": []
   },
   "outputs": [],
   "source": [
    "%%add_to Mech\n",
    "def category_filter(self, **kwargs):\n",
    "    for key, value in kwargs.items():\n",
    "        cats = self.df[key].cat.categories\n",
    "        self.df.remove_categories([x for x in cats if not x in value])\n",
    "    self.df.dropna(inplace=True)"
   ]
  },
  {
   "cell_type": "code",
   "execution_count": 22,
   "id": "6c88bf19",
   "metadata": {
    "ExecuteTime": {
     "end_time": "2022-03-06T18:52:59.293157Z",
     "start_time": "2022-03-06T18:52:58.990350Z"
    },
    "code_folding": []
   },
   "outputs": [],
   "source": [
    "%%add_to Mech\n",
    "def num_filter(self, **kwargs):\n",
    "    pd.eval(\"DP = self.df.Otherinfo11.str.split(';',3).str[2].str.split('DP=').str[1].astype('int32')\", target=self.df, inplace=True)\n",
    "    pd.eval(\"AF = self.df.Otherinfo11.str.split(';',5).str[4].str.split('AF=').str[1].astype('float')\", target=self.df, inplace=True)\n",
    "    for key, value in kwargs.items():\n",
    "        self.df.loc[:,key].where(self.df.loc[:,key] > value, inplace=True)\n",
    "    self.df.dropna(inplace=True)"
   ]
  },
  {
   "cell_type": "code",
   "execution_count": 24,
   "id": "5f6a806e",
   "metadata": {
    "ExecuteTime": {
     "end_time": "2022-03-06T20:42:51.030038Z",
     "start_time": "2022-03-06T20:42:50.988044Z"
    }
   },
   "outputs": [],
   "source": [
    "def find_mid(indices):\n",
    "    copy = indices[:-1].copy()\n",
    "    np.insert(copy, 0, indices[0] - 1)\n",
    "    return copy"
   ]
  },
  {
   "cell_type": "code",
   "execution_count": 25,
   "id": "0ef8608b",
   "metadata": {
    "ExecuteTime": {
     "end_time": "2022-03-06T22:30:12.702802Z",
     "start_time": "2022-03-06T22:30:12.331220Z"
    }
   },
   "outputs": [],
   "source": [
    "def inv_arr(max_val, idx_arr):\n",
    "    arr = set(range(0,max_val))\n",
    "    diff = arr.difference(idx_arr)\n",
    "    return diff"
   ]
  },
  {
   "cell_type": "code",
   "execution_count": null,
   "id": "08cf0aa7",
   "metadata": {
    "ExecuteTime": {
     "end_time": "2022-03-06T22:48:12.375509Z",
     "start_time": "2022-03-06T22:48:12.364502Z"
    }
   },
   "outputs": [],
   "source": [
    "class Uqid():\n",
    "    def __init__(self, series, len1, len2):\n",
    "        self.series = series\n",
    "        self.len1 = len1\n",
    "        self.len2 = len2"
   ]
  },
  {
   "cell_type": "code",
   "execution_count": 29,
   "id": "2fcca59a",
   "metadata": {
    "ExecuteTime": {
     "end_time": "2022-03-06T23:13:48.359906Z",
     "start_time": "2022-03-06T23:13:47.923962Z"
    }
   },
   "outputs": [],
   "source": [
    "%%add_to Uqid\n",
    "    def create_idx_col(self):\n",
    "        self.idxs = np.append(np.arange(0, self.len1), np.arange(0, self.len2))\n",
    "        self.df = pd.DataFrame({'idx':idx}, index=self.series)\n",
    "        self.df.reset_index(inplace=True)"
   ]
  },
  {
   "cell_type": "code",
   "execution_count": null,
   "id": "9e843f38",
   "metadata": {},
   "outputs": [],
   "source": [
    "%%add_to Uqid\n",
    "    def filter_uqs(self):\n",
    "        self.df = self.df.sort_index()\n",
    "        self.df = self.df.groupby('index')\n",
    "        self.df = self.df.filter(lambda x: len(x) == 1)"
   ]
  },
  {
   "cell_type": "code",
   "execution_count": null,
   "id": "2a1d41d1",
   "metadata": {
    "ExecuteTime": {
     "end_time": "2022-03-06T23:07:10.372588Z",
     "start_time": "2022-03-06T23:07:10.317587Z"
    }
   },
   "outputs": [],
   "source": [
    "def combine_uqids(mech1_,mech2_):\n",
    "    uqid1 = mech1_.df[mech1_.df.columns[1:5]].apply(lambda x: ''.join(x.astype(str)),axis=1).squeeze()\n",
    "    uqid2 = mech2_.df[mech2_.df.columns[1:5]].apply(lambda x: ''.join(x.astype(str)),axis=1).squeeze()    \n",
    "    combined_uqids = pd.concat([uqid1, uqid2], ignore_index=True)\n",
    "    combine = Uqid(combined_uqids, len(uqid1.index), len(uqid2.index))\n",
    "    return combine"
   ]
  },
  {
   "cell_type": "code",
   "execution_count": 30,
   "id": "74642dab",
   "metadata": {
    "ExecuteTime": {
     "end_time": "2022-03-06T23:27:18.490391Z",
     "start_time": "2022-03-06T23:27:18.474380Z"
    },
    "code_folding": []
   },
   "outputs": [],
   "source": [
    "def subtract(mech1, mech2):\n",
    "    combine_mechs = combine_uqids(mech1_,mech2_)\n",
    "    combine_mechs.create_idx_col()\n",
    "    combine_mechs.filter_uqs()\n",
    "    idx = combine_mechs.df['idx'].to_numpy()\n",
    "    mid_val = find_mid(idx)\n",
    "    drop_vals = inv_arr(combine_mechs.len1, idx[:mid_val])\n",
    "    uq_df = mech1.df.drop(mech1.df.index[drop_vals])\n",
    "    return uq_df"
   ]
  },
  {
   "cell_type": "code",
   "execution_count": 31,
   "id": "1be7cf22",
   "metadata": {
    "ExecuteTime": {
     "end_time": "2022-03-07T01:06:09.246415Z",
     "start_time": "2022-03-07T01:06:08.845902Z"
    }
   },
   "outputs": [],
   "source": [
    "def filter(**kwargs):\n",
    "    return None"
   ]
  },
  {
   "cell_type": "code",
   "execution_count": 34,
   "id": "6ef710db",
   "metadata": {
    "ExecuteTime": {
     "end_time": "2022-03-07T01:12:21.286674Z",
     "start_time": "2022-03-07T01:12:21.273681Z"
    }
   },
   "outputs": [],
   "source": [
    "def main():\n",
    "    \n",
    "    # CHANGE THESE VALUES BELOW\n",
    "    ids = {'22241':['22334','22243']}\n",
    "    chromosomes = ['1','2']\n",
    "    min_params = dict(DP=15, AF=.15, Otherinfo10=['PASS'])\n",
    "    sub_params = dict()\n",
    "    # CHANGE THESE VALUES ABOVE\n",
    "    \n",
    "    for key, value in ids.items():\n",
    "        min_parent = Mech(chromosomes, key).filter(**min_params)\n",
    "        sub_parent = Mech(chromosomes, key).filter(**sub_params)\n",
    "        for val in value:\n",
    "            min_variant = Mech(chromosomes, val).filter(**min_params)\n",
    "            sub_variant = Mech(chromosomes, val).filter(**sub_params)\n",
    "            \n",
    "            subtract(min_parent, sub_variant).to_csv(\"{}-{}.csv\".format(key, val))\n",
    "            subtract(min_variant, sub_parent).to_csv(\"{}-{}.csv\".format(val, key))"
   ]
  },
  {
   "cell_type": "code",
   "execution_count": null,
   "id": "b1cc0f9b",
   "metadata": {},
   "outputs": [],
   "source": [
    "main()"
   ]
  }
 ],
 "metadata": {
  "kernelspec": {
   "display_name": "Python 3",
   "language": "python",
   "name": "python3"
  },
  "language_info": {
   "codemirror_mode": {
    "name": "ipython",
    "version": 3
   },
   "file_extension": ".py",
   "mimetype": "text/x-python",
   "name": "python",
   "nbconvert_exporter": "python",
   "pygments_lexer": "ipython3",
   "version": "3.9.5"
  }
 },
 "nbformat": 4,
 "nbformat_minor": 5
}
