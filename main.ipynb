{
 "cells": [
  {
   "cell_type": "code",
   "execution_count": 3,
   "id": "c3aee136",
   "metadata": {
    "ExecuteTime": {
     "end_time": "2022-03-01T01:59:31.359987Z",
     "start_time": "2022-03-01T01:59:23.271868Z"
    }
   },
   "outputs": [],
   "source": [
    "import pandas as pd\n",
    "import numpy as np\n",
    "import os"
   ]
  },
  {
   "cell_type": "code",
   "execution_count": 237,
   "id": "40937063",
   "metadata": {
    "ExecuteTime": {
     "end_time": "2022-03-01T07:13:02.108136Z",
     "start_time": "2022-03-01T07:13:02.097140Z"
    }
   },
   "outputs": [],
   "source": [
    "usecols = [\"Chr\", \"Start\", \"End\", \"Ref\", \"Alt\", \"Func.refGene\", \"Otherinfo10\", \"Otherinfo11\"]\n",
    "dtype = {\"Chr\":\"category\",\n",
    "          \"Start\":np.int32,\n",
    "          \"End\":np.int32,\n",
    "          \"Ref\":\"category\",\n",
    "          \"Alt\":\"category\",\n",
    "          \"Func.refGene\":\"category\",\n",
    "          \"Otherinfo10\":\"category\",\n",
    "          \"Otherinfo11\":\"string\"}"
   ]
  },
  {
   "cell_type": "code",
   "execution_count": 238,
   "id": "ea22fcf4",
   "metadata": {
    "ExecuteTime": {
     "end_time": "2022-03-01T07:13:02.346886Z",
     "start_time": "2022-03-01T07:13:02.230856Z"
    }
   },
   "outputs": [],
   "source": [
    "df = pd.read_csv(\"anno1.fixed.chrY.genes.VE_22251.hg38_multianno.csv\", usecols=usecols, dtype=dtype)\n",
    "df = pd.eval(\"DP = df.Otherinfo11.str.split(';',3).str[2].str.split('DP=').str[1].astype('int32')\", target=df)\n",
    "df = pd.eval(\"AF = df.Otherinfo11.str.split(';',5).str[4].str.split('AF=').str[1].astype('float')\", target=df)"
   ]
  },
  {
   "cell_type": "code",
   "execution_count": 60,
   "id": "e2500e6d",
   "metadata": {
    "ExecuteTime": {
     "end_time": "2022-03-01T03:53:07.952492Z",
     "start_time": "2022-03-01T03:53:07.938512Z"
    }
   },
   "outputs": [],
   "source": [
    "# this works on Chr, Ref, Alt, Func.refGene, Otherinfo10\n",
    "def category_filters(**kwargs):\n",
    "    new_df = df\n",
    "    for key, value in kwargs.items():\n",
    "        if key == \"FuncrefGene\":\n",
    "            new_df = new_df[new_df[\"Func.refGene\"] == value]\n",
    "        else:\n",
    "            new_df = new_df[new_df[key] == value]\n",
    "    return new_df"
   ]
  },
  {
   "cell_type": "code",
   "execution_count": 7,
   "id": "600106e6",
   "metadata": {
    "ExecuteTime": {
     "end_time": "2022-03-01T01:59:32.550161Z",
     "start_time": "2022-03-01T01:59:32.330404Z"
    }
   },
   "outputs": [
    {
     "data": {
      "text/html": [
       "<div>\n",
       "<style scoped>\n",
       "    .dataframe tbody tr th:only-of-type {\n",
       "        vertical-align: middle;\n",
       "    }\n",
       "\n",
       "    .dataframe tbody tr th {\n",
       "        vertical-align: top;\n",
       "    }\n",
       "\n",
       "    .dataframe thead th {\n",
       "        text-align: right;\n",
       "    }\n",
       "</style>\n",
       "<table border=\"1\" class=\"dataframe\">\n",
       "  <thead>\n",
       "    <tr style=\"text-align: right;\">\n",
       "      <th></th>\n",
       "      <th>Chr</th>\n",
       "      <th>Start</th>\n",
       "      <th>End</th>\n",
       "      <th>Ref</th>\n",
       "      <th>Alt</th>\n",
       "      <th>Func.refGene</th>\n",
       "      <th>Otherinfo10</th>\n",
       "      <th>Otherinfo11</th>\n",
       "      <th>DP</th>\n",
       "      <th>AF</th>\n",
       "    </tr>\n",
       "  </thead>\n",
       "  <tbody>\n",
       "    <tr>\n",
       "      <th>0</th>\n",
       "      <td>chrY</td>\n",
       "      <td>2787119</td>\n",
       "      <td>2787119</td>\n",
       "      <td>C</td>\n",
       "      <td>A</td>\n",
       "      <td>exonic</td>\n",
       "      <td>PASS</td>\n",
       "      <td>SAMPLE=VE_22251;TYPE=SNV;DP=415;VD=7;AF=0.0169...</td>\n",
       "      <td>415</td>\n",
       "      <td>0.0169</td>\n",
       "    </tr>\n",
       "    <tr>\n",
       "      <th>1</th>\n",
       "      <td>chrY</td>\n",
       "      <td>2787445</td>\n",
       "      <td>2787445</td>\n",
       "      <td>T</td>\n",
       "      <td>C</td>\n",
       "      <td>exonic</td>\n",
       "      <td>PASS</td>\n",
       "      <td>SAMPLE=VE_22251;TYPE=SNV;DP=317;VD=4;AF=0.0126...</td>\n",
       "      <td>317</td>\n",
       "      <td>0.0126</td>\n",
       "    </tr>\n",
       "    <tr>\n",
       "      <th>15</th>\n",
       "      <td>chrY</td>\n",
       "      <td>2865200</td>\n",
       "      <td>2865200</td>\n",
       "      <td>C</td>\n",
       "      <td>A</td>\n",
       "      <td>exonic</td>\n",
       "      <td>PASS</td>\n",
       "      <td>SAMPLE=VE_22251;TYPE=SNV;DP=173;VD=2;AF=0.0116...</td>\n",
       "      <td>173</td>\n",
       "      <td>0.0116</td>\n",
       "    </tr>\n",
       "    <tr>\n",
       "      <th>16</th>\n",
       "      <td>chrY</td>\n",
       "      <td>2866887</td>\n",
       "      <td>2866887</td>\n",
       "      <td>G</td>\n",
       "      <td>T</td>\n",
       "      <td>exonic</td>\n",
       "      <td>PASS</td>\n",
       "      <td>SAMPLE=VE_22251;TYPE=SNV;DP=232;VD=4;AF=0.0172...</td>\n",
       "      <td>232</td>\n",
       "      <td>0.0172</td>\n",
       "    </tr>\n",
       "    <tr>\n",
       "      <th>28</th>\n",
       "      <td>chrY</td>\n",
       "      <td>2961350</td>\n",
       "      <td>2961350</td>\n",
       "      <td>G</td>\n",
       "      <td>A</td>\n",
       "      <td>exonic</td>\n",
       "      <td>PASS</td>\n",
       "      <td>SAMPLE=VE_22251;TYPE=SNV;DP=152;VD=2;AF=0.0132...</td>\n",
       "      <td>152</td>\n",
       "      <td>0.0132</td>\n",
       "    </tr>\n",
       "    <tr>\n",
       "      <th>33</th>\n",
       "      <td>chrY</td>\n",
       "      <td>2978846</td>\n",
       "      <td>2978846</td>\n",
       "      <td>T</td>\n",
       "      <td>C</td>\n",
       "      <td>exonic</td>\n",
       "      <td>PASS</td>\n",
       "      <td>SAMPLE=VE_22251;TYPE=SNV;DP=182;VD=2;AF=0.011;...</td>\n",
       "      <td>182</td>\n",
       "      <td>0.0110</td>\n",
       "    </tr>\n",
       "    <tr>\n",
       "      <th>34</th>\n",
       "      <td>chrY</td>\n",
       "      <td>2979004</td>\n",
       "      <td>2979004</td>\n",
       "      <td>A</td>\n",
       "      <td>T</td>\n",
       "      <td>exonic</td>\n",
       "      <td>PASS</td>\n",
       "      <td>SAMPLE=VE_22251;TYPE=SNV;DP=148;VD=4;AF=0.027;...</td>\n",
       "      <td>148</td>\n",
       "      <td>0.0270</td>\n",
       "    </tr>\n",
       "    <tr>\n",
       "      <th>37</th>\n",
       "      <td>chrY</td>\n",
       "      <td>2979454</td>\n",
       "      <td>2979454</td>\n",
       "      <td>C</td>\n",
       "      <td>A</td>\n",
       "      <td>exonic</td>\n",
       "      <td>PASS</td>\n",
       "      <td>SAMPLE=VE_22251;TYPE=SNV;DP=232;VD=10;AF=0.043...</td>\n",
       "      <td>232</td>\n",
       "      <td>0.0431</td>\n",
       "    </tr>\n",
       "    <tr>\n",
       "      <th>43</th>\n",
       "      <td>chrY</td>\n",
       "      <td>5100327</td>\n",
       "      <td>5100327</td>\n",
       "      <td>G</td>\n",
       "      <td>T</td>\n",
       "      <td>exonic</td>\n",
       "      <td>PASS</td>\n",
       "      <td>SAMPLE=VE_22251;TYPE=SNV;DP=88;VD=88;AF=1;BIAS...</td>\n",
       "      <td>88</td>\n",
       "      <td>1.0000</td>\n",
       "    </tr>\n",
       "    <tr>\n",
       "      <th>44</th>\n",
       "      <td>chrY</td>\n",
       "      <td>5100614</td>\n",
       "      <td>5100614</td>\n",
       "      <td>T</td>\n",
       "      <td>G</td>\n",
       "      <td>exonic</td>\n",
       "      <td>PASS</td>\n",
       "      <td>SAMPLE=VE_22251;TYPE=SNV;DP=189;VD=189;AF=1;BI...</td>\n",
       "      <td>189</td>\n",
       "      <td>1.0000</td>\n",
       "    </tr>\n",
       "    <tr>\n",
       "      <th>106</th>\n",
       "      <td>chrY</td>\n",
       "      <td>6868228</td>\n",
       "      <td>6868228</td>\n",
       "      <td>A</td>\n",
       "      <td>G</td>\n",
       "      <td>exonic</td>\n",
       "      <td>PASS</td>\n",
       "      <td>SAMPLE=VE_22251;TYPE=SNV;DP=156;VD=2;AF=0.0128...</td>\n",
       "      <td>156</td>\n",
       "      <td>0.0128</td>\n",
       "    </tr>\n",
       "    <tr>\n",
       "      <th>131</th>\n",
       "      <td>chrY</td>\n",
       "      <td>7070722</td>\n",
       "      <td>7070722</td>\n",
       "      <td>C</td>\n",
       "      <td>A</td>\n",
       "      <td>exonic</td>\n",
       "      <td>PASS</td>\n",
       "      <td>SAMPLE=VE_22251;TYPE=SNV;DP=346;VD=4;AF=0.0116...</td>\n",
       "      <td>346</td>\n",
       "      <td>0.0116</td>\n",
       "    </tr>\n",
       "  </tbody>\n",
       "</table>\n",
       "</div>"
      ],
      "text/plain": [
       "      Chr    Start      End Ref Alt Func.refGene Otherinfo10  \\\n",
       "0    chrY  2787119  2787119   C   A       exonic        PASS   \n",
       "1    chrY  2787445  2787445   T   C       exonic        PASS   \n",
       "15   chrY  2865200  2865200   C   A       exonic        PASS   \n",
       "16   chrY  2866887  2866887   G   T       exonic        PASS   \n",
       "28   chrY  2961350  2961350   G   A       exonic        PASS   \n",
       "33   chrY  2978846  2978846   T   C       exonic        PASS   \n",
       "34   chrY  2979004  2979004   A   T       exonic        PASS   \n",
       "37   chrY  2979454  2979454   C   A       exonic        PASS   \n",
       "43   chrY  5100327  5100327   G   T       exonic        PASS   \n",
       "44   chrY  5100614  5100614   T   G       exonic        PASS   \n",
       "106  chrY  6868228  6868228   A   G       exonic        PASS   \n",
       "131  chrY  7070722  7070722   C   A       exonic        PASS   \n",
       "\n",
       "                                           Otherinfo11   DP      AF  \n",
       "0    SAMPLE=VE_22251;TYPE=SNV;DP=415;VD=7;AF=0.0169...  415  0.0169  \n",
       "1    SAMPLE=VE_22251;TYPE=SNV;DP=317;VD=4;AF=0.0126...  317  0.0126  \n",
       "15   SAMPLE=VE_22251;TYPE=SNV;DP=173;VD=2;AF=0.0116...  173  0.0116  \n",
       "16   SAMPLE=VE_22251;TYPE=SNV;DP=232;VD=4;AF=0.0172...  232  0.0172  \n",
       "28   SAMPLE=VE_22251;TYPE=SNV;DP=152;VD=2;AF=0.0132...  152  0.0132  \n",
       "33   SAMPLE=VE_22251;TYPE=SNV;DP=182;VD=2;AF=0.011;...  182  0.0110  \n",
       "34   SAMPLE=VE_22251;TYPE=SNV;DP=148;VD=4;AF=0.027;...  148  0.0270  \n",
       "37   SAMPLE=VE_22251;TYPE=SNV;DP=232;VD=10;AF=0.043...  232  0.0431  \n",
       "43   SAMPLE=VE_22251;TYPE=SNV;DP=88;VD=88;AF=1;BIAS...   88  1.0000  \n",
       "44   SAMPLE=VE_22251;TYPE=SNV;DP=189;VD=189;AF=1;BI...  189  1.0000  \n",
       "106  SAMPLE=VE_22251;TYPE=SNV;DP=156;VD=2;AF=0.0128...  156  0.0128  \n",
       "131  SAMPLE=VE_22251;TYPE=SNV;DP=346;VD=4;AF=0.0116...  346  0.0116  "
      ]
     },
     "metadata": {},
     "output_type": "display_data"
    }
   ],
   "source": [
    "# for Func.refGene, enter 'FuncrefGene' instead \n",
    "display(category_filters(FuncrefGene=\"exonic\", Otherinfo10=\"PASS\"))"
   ]
  },
  {
   "cell_type": "code",
   "execution_count": 8,
   "id": "6c88bf19",
   "metadata": {
    "ExecuteTime": {
     "end_time": "2022-03-01T01:59:32.628311Z",
     "start_time": "2022-03-01T01:59:32.551161Z"
    }
   },
   "outputs": [],
   "source": [
    "# this assumes greater than i.e 'DP = 15' means keep DP vals > 15\n",
    "def num_filter(**kwargs):\n",
    "    new_df = df\n",
    "    for key, value in kwargs.items():\n",
    "        new_df.loc[:,key].where(new_df.loc[:,key] > value,inplace=True)\n",
    "    return new_df.dropna()"
   ]
  },
  {
   "cell_type": "code",
   "execution_count": 9,
   "id": "299c6e54",
   "metadata": {
    "ExecuteTime": {
     "end_time": "2022-03-01T01:59:32.803198Z",
     "start_time": "2022-03-01T01:59:32.630314Z"
    }
   },
   "outputs": [
    {
     "data": {
      "text/html": [
       "<div>\n",
       "<style scoped>\n",
       "    .dataframe tbody tr th:only-of-type {\n",
       "        vertical-align: middle;\n",
       "    }\n",
       "\n",
       "    .dataframe tbody tr th {\n",
       "        vertical-align: top;\n",
       "    }\n",
       "\n",
       "    .dataframe thead th {\n",
       "        text-align: right;\n",
       "    }\n",
       "</style>\n",
       "<table border=\"1\" class=\"dataframe\">\n",
       "  <thead>\n",
       "    <tr style=\"text-align: right;\">\n",
       "      <th></th>\n",
       "      <th>Chr</th>\n",
       "      <th>Start</th>\n",
       "      <th>End</th>\n",
       "      <th>Ref</th>\n",
       "      <th>Alt</th>\n",
       "      <th>Func.refGene</th>\n",
       "      <th>Otherinfo10</th>\n",
       "      <th>Otherinfo11</th>\n",
       "      <th>DP</th>\n",
       "      <th>AF</th>\n",
       "    </tr>\n",
       "  </thead>\n",
       "  <tbody>\n",
       "    <tr>\n",
       "      <th>44</th>\n",
       "      <td>chrY</td>\n",
       "      <td>5100614</td>\n",
       "      <td>5100614</td>\n",
       "      <td>T</td>\n",
       "      <td>G</td>\n",
       "      <td>exonic</td>\n",
       "      <td>PASS</td>\n",
       "      <td>SAMPLE=VE_22251;TYPE=SNV;DP=189;VD=189;AF=1;BI...</td>\n",
       "      <td>189.0</td>\n",
       "      <td>1.0</td>\n",
       "    </tr>\n",
       "  </tbody>\n",
       "</table>\n",
       "</div>"
      ],
      "text/plain": [
       "     Chr    Start      End Ref Alt Func.refGene Otherinfo10  \\\n",
       "44  chrY  5100614  5100614   T   G       exonic        PASS   \n",
       "\n",
       "                                          Otherinfo11     DP   AF  \n",
       "44  SAMPLE=VE_22251;TYPE=SNV;DP=189;VD=189;AF=1;BI...  189.0  1.0  "
      ]
     },
     "metadata": {},
     "output_type": "display_data"
    }
   ],
   "source": [
    "display(num_filter(DP=150,AF=.15))"
   ]
  },
  {
   "cell_type": "code",
   "execution_count": 294,
   "id": "aebd318a",
   "metadata": {
    "ExecuteTime": {
     "end_time": "2022-03-01T07:45:38.839356Z",
     "start_time": "2022-03-01T07:45:38.830358Z"
    }
   },
   "outputs": [],
   "source": [
    "def subtraction(df1, df2):\n",
    "    uqid_df1 = df1[df1.columns[1:4]].apply(lambda x: ''.join(x.astype(str)),axis=1).squeeze()\n",
    "    uqid_df2 = df2[df2.columns[1:4]].apply(lambda x: ''.join(x.astype(str)),axis=1).squeeze()  \n",
    "    uqid = pd.concat([uqid_df1, uqid_df2], ignore_index=True)\n",
    "    \n",
    "    uqid_df = pd.DataFrame({'0':np.zeros(len(uqid))}, index=uqid)\n",
    "    uqid_df.reset_index().sort_index().groupby('index').filter(lambda x: len(x) == 1)\n",
    "    # uqid_df.rename(columns={'index':'unique ids'}, inplace=True)\n",
    "    # uqid_df.drop('0', axis=1, inplace=True)\n",
    "    return uqid_df"
   ]
  },
  {
   "cell_type": "code",
   "execution_count": 295,
   "id": "74d3d951",
   "metadata": {
    "ExecuteTime": {
     "end_time": "2022-03-01T07:45:39.188005Z",
     "start_time": "2022-03-01T07:45:39.040017Z"
    }
   },
   "outputs": [
    {
     "data": {
      "text/html": [
       "<div>\n",
       "<style scoped>\n",
       "    .dataframe tbody tr th:only-of-type {\n",
       "        vertical-align: middle;\n",
       "    }\n",
       "\n",
       "    .dataframe tbody tr th {\n",
       "        vertical-align: top;\n",
       "    }\n",
       "\n",
       "    .dataframe thead th {\n",
       "        text-align: right;\n",
       "    }\n",
       "</style>\n",
       "<table border=\"1\" class=\"dataframe\">\n",
       "  <thead>\n",
       "    <tr style=\"text-align: right;\">\n",
       "      <th></th>\n",
       "      <th>index</th>\n",
       "      <th>0</th>\n",
       "    </tr>\n",
       "  </thead>\n",
       "  <tbody>\n",
       "    <tr>\n",
       "      <th>0</th>\n",
       "      <td>27871192787119C</td>\n",
       "      <td>0.0</td>\n",
       "    </tr>\n",
       "    <tr>\n",
       "      <th>1</th>\n",
       "      <td>27874452787445T</td>\n",
       "      <td>0.0</td>\n",
       "    </tr>\n",
       "    <tr>\n",
       "      <th>2</th>\n",
       "      <td>27875692787569A</td>\n",
       "      <td>0.0</td>\n",
       "    </tr>\n",
       "    <tr>\n",
       "      <th>3</th>\n",
       "      <td>27876242787624C</td>\n",
       "      <td>0.0</td>\n",
       "    </tr>\n",
       "    <tr>\n",
       "      <th>4</th>\n",
       "      <td>28418922841892T</td>\n",
       "      <td>0.0</td>\n",
       "    </tr>\n",
       "    <tr>\n",
       "      <th>...</th>\n",
       "      <td>...</td>\n",
       "      <td>...</td>\n",
       "    </tr>\n",
       "    <tr>\n",
       "      <th>824</th>\n",
       "      <td>2503830225038302T</td>\n",
       "      <td>0.0</td>\n",
       "    </tr>\n",
       "    <tr>\n",
       "      <th>825</th>\n",
       "      <td>2503888125038881G</td>\n",
       "      <td>0.0</td>\n",
       "    </tr>\n",
       "    <tr>\n",
       "      <th>826</th>\n",
       "      <td>2503891925038919G</td>\n",
       "      <td>0.0</td>\n",
       "    </tr>\n",
       "    <tr>\n",
       "      <th>827</th>\n",
       "      <td>2562235925622359C</td>\n",
       "      <td>0.0</td>\n",
       "    </tr>\n",
       "    <tr>\n",
       "      <th>828</th>\n",
       "      <td>2562446925624469G</td>\n",
       "      <td>0.0</td>\n",
       "    </tr>\n",
       "  </tbody>\n",
       "</table>\n",
       "<p>829 rows × 2 columns</p>\n",
       "</div>"
      ],
      "text/plain": [
       "                 index    0\n",
       "0      27871192787119C  0.0\n",
       "1      27874452787445T  0.0\n",
       "2      27875692787569A  0.0\n",
       "3      27876242787624C  0.0\n",
       "4      28418922841892T  0.0\n",
       "..                 ...  ...\n",
       "824  2503830225038302T  0.0\n",
       "825  2503888125038881G  0.0\n",
       "826  2503891925038919G  0.0\n",
       "827  2562235925622359C  0.0\n",
       "828  2562446925624469G  0.0\n",
       "\n",
       "[829 rows x 2 columns]"
      ]
     },
     "execution_count": 295,
     "metadata": {},
     "output_type": "execute_result"
    }
   ],
   "source": [
    "df2_ = pd.read_csv(\"chrY_22243.csv\", usecols=[\"Chr\", \"Start\", \"End\", \"Ref\", \"Alt\"], sep='\\t')\n",
    "subtraction(df, df2_)"
   ]
  },
  {
   "cell_type": "code",
   "execution_count": 216,
   "id": "eb9cd7a0",
   "metadata": {
    "ExecuteTime": {
     "end_time": "2022-03-01T06:48:59.529664Z",
     "start_time": "2022-03-01T06:48:59.520672Z"
    }
   },
   "outputs": [],
   "source": [
    "# if sub algorithm works, return df should have length = len(df)//2 - 3\n",
    "display(gen_unique_id(df[[\"Start\",\"End\", \"Ref\", \"Alt\"]]))\n",
    "# print(sub_v-p(df[len(df)//2 + 3:], df[:len(df)//2]))\n",
    "# output is df1 w indices of where it is equal"
   ]
  },
  {
   "cell_type": "code",
   "execution_count": 210,
   "id": "a5627d9d",
   "metadata": {
    "ExecuteTime": {
     "end_time": "2022-03-01T06:17:41.972281Z",
     "start_time": "2022-03-01T06:17:41.967278Z"
    }
   },
   "outputs": [],
   "source": [
    "#TODO: make option to see what is NA and what is not NA\n",
    "#TODO: make program and functions run on a class\n",
    "# possible error of pd.to_numeric int out of range may come from long ref/alt strings"
   ]
  }
 ],
 "metadata": {
  "kernelspec": {
   "display_name": "Python 3",
   "language": "python",
   "name": "python3"
  },
  "language_info": {
   "codemirror_mode": {
    "name": "ipython",
    "version": 3
   },
   "file_extension": ".py",
   "mimetype": "text/x-python",
   "name": "python",
   "nbconvert_exporter": "python",
   "pygments_lexer": "ipython3",
   "version": "3.9.5"
  }
 },
 "nbformat": 4,
 "nbformat_minor": 5
}
