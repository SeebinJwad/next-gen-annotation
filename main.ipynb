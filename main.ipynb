{
 "cells": [
  {
   "cell_type": "code",
   "execution_count": 3,
   "id": "c3aee136",
   "metadata": {
    "ExecuteTime": {
     "end_time": "2022-03-03T03:55:31.527608Z",
     "start_time": "2022-03-03T03:55:20.532262Z"
    }
   },
   "outputs": [],
   "source": [
    "import pandas as pd\n",
    "import numpy as np\n",
    "import os"
   ]
  },
  {
   "cell_type": "code",
   "execution_count": 4,
   "id": "40937063",
   "metadata": {
    "ExecuteTime": {
     "end_time": "2022-03-03T03:55:31.543614Z",
     "start_time": "2022-03-03T03:55:31.530614Z"
    },
    "code_folding": [
     1
    ]
   },
   "outputs": [],
   "source": [
    "usecols = [\"Chr\", \"Start\", \"End\", \"Ref\", \"Alt\", \"Func.refGene\", \"Otherinfo10\", \"Otherinfo11\"]\n",
    "dtype = {\"Chr\":\"category\",\n",
    "          \"Start\":np.int32,\n",
    "          \"End\":np.int32,\n",
    "          \"Ref\":\"category\",\n",
    "          \"Alt\":\"category\",\n",
    "          \"Func.refGene\":\"category\",\n",
    "          \"Otherinfo10\":\"category\",\n",
    "          \"Otherinfo11\":\"string\"}"
   ]
  },
  {
   "cell_type": "code",
   "execution_count": 5,
   "id": "e2500e6d",
   "metadata": {
    "ExecuteTime": {
     "end_time": "2022-03-06T07:48:05.731429Z",
     "start_time": "2022-03-06T07:48:05.683589Z"
    },
    "code_folding": [
     0
    ]
   },
   "outputs": [],
   "source": [
    "def category_filter(df, **kwargs):\n",
    "    for key, value in kwargs.items():\n",
    "        if key == \"FuncrefGene\":\n",
    "            df = df[df[\"Func.refGene\"] == value]\n",
    "        else:\n",
    "            df = df[df[key] == value]\n",
    "    return df"
   ]
  },
  {
   "cell_type": "code",
   "execution_count": 7,
   "id": "6c88bf19",
   "metadata": {
    "ExecuteTime": {
     "end_time": "2022-03-06T07:49:29.957700Z",
     "start_time": "2022-03-06T07:49:29.844461Z"
    },
    "code_folding": [
     0
    ]
   },
   "outputs": [],
   "source": [
    "def num_filter(df, **kwargs):\n",
    "    df = pd.eval(\"DP = df.Otherinfo11.str.split(';',3).str[2].str.split('DP=').str[1].astype('int32')\", target=df)\n",
    "    df = pd.eval(\"AF = df.Otherinfo11.str.split(';',5).str[4].str.split('AF=').str[1].astype('float')\", target=df)\n",
    "    for key, value in kwargs.items():\n",
    "        df.loc[:,key].where(df.loc[:,key] > value, inplace=True)\n",
    "    return df.dropna()"
   ]
  },
  {
   "cell_type": "code",
   "execution_count": 3,
   "id": "74642dab",
   "metadata": {
    "ExecuteTime": {
     "end_time": "2022-03-06T04:52:42.217830Z",
     "start_time": "2022-03-06T04:52:40.594538Z"
    }
   },
   "outputs": [],
   "source": [
    "def subtract(df1, df2):\n",
    "    # minuend - subtrahend parameters\n",
    "    uqid_df1 = df1[df1.columns[1:5]].apply(lambda x: ''.join(x.astype(str)),axis=1).squeeze()\n",
    "    uqid_df2 = df2[df2.columns[1:5]].apply(lambda x: ''.join(x.astype(str)),axis=1).squeeze()  \n",
    "    uqid = pd.concat([uqid_df1, uqid_df2], ignore_index=True)\n",
    "    uqid_df1_len, uqid_df2_len= len(uqid_df1.index), len(uqid_df2.index)\n",
    "    idx = np.append(np.arange(0, uqid_df1_len), np.arange(0, uqid_df2_len))\n",
    "    uqid_df = pd.DataFrame({'idx':idx}, index=uqid)\n",
    "    uqid_df.reset_index(inplace=True)\n",
    "    uqid_df = uqid_df.sort_index().groupby('index').filter(lambda x: len(x) == 1)\n",
    "    idx = uqid_df['idx'].to_numpy()\n",
    "    mid_val = idx[len(idx)//5:].argmin() + len(idx)//5\n",
    "    inv_arr = lambda max_val,idx_arr: np.array(sorted(set(range(0, max_val)).difference(idx_arr)))\n",
    "    df1=df1.drop(df1.index[inv_arr(uqid_df1_len, idx[:mid_val])])\n",
    "    df2=df2.drop(df2.index[inv_arr(uqid_df2_len, idx[mid_val:])])\n",
    "    if export:\n",
    "        df1.to_csv('sub_df1.csv', index=False, header=True)\n",
    "        df2.to_csv('sub_df2.csv', index=False, header=True)\n",
    "    return [df1,df2]"
   ]
  },
  {
   "cell_type": "code",
   "execution_count": 8,
   "id": "f099c4f2",
   "metadata": {
    "ExecuteTime": {
     "end_time": "2022-03-06T08:04:19.379571Z",
     "start_time": "2022-03-06T08:04:19.339579Z"
    },
    "code_folding": []
   },
   "outputs": [],
   "source": [
    "def init_df(chromomosomes_arg, sample_id, dtype_arg, usecols_arg):\n",
    "    return pd.concat(map(pd.read_csv, \n",
    "                       [\"chr{}_{}.csv\".format(chrom, sample_id) for chrom in chromosomes_arg], \n",
    "                      dtype=dtype+arg, usecols=usecols_arg), ignore_index=True)"
   ]
  },
  {
   "cell_type": "code",
   "execution_count": null,
   "id": "61fde1e8",
   "metadata": {},
   "outputs": [],
   "source": [
    "def main():\n",
    "    ids = {'22241':['22334','22243']}\n",
    "    chromosomes = ['1','2']\n",
    "    # p - v, p filtered v unfiltered\n",
    "    for key, value in ids.items():\n",
    "        parent_df = init_df(chromosomes, key, dtype, usecols)\n",
    "        category_filter(parent_df, Otherinfo10='PASS')\n",
    "        num_filter(parent_df, DP=15, AF=.15)\n",
    "        for val in value:\n",
    "            # instead of init_df make it a class \n",
    "            # variant_df = mech(chrom...)\n",
    "            variant_df = init_df(chromosomes, val, dtype, usecols)\n",
    "            subtract(parent_df, variant_df).to_csv(\"{}-{}.csv\".format(key, val))\n",
    "            # want subtract as one csv\n",
    "    # v - p, v filtered p unfiltered\n",
    "    for key, value in ids.items():\n",
    "        parent_df = init_df(chromosomes, key, dtype, usecols)\n",
    "        for val in value:\n",
    "            variant_df = init_df(chromosomes, val, dtype, usecols)\n",
    "            category_filter(variant_df, Otherinfo10='PASS')\n",
    "            num_filter(parent_df, DP=15, AF=.15)\n",
    "            subtract(variant_df, parent_df).to_csv(\"{}-{}.csv\".format(key, val))\n",
    "    return None"
   ]
  },
  {
   "cell_type": "code",
   "execution_count": null,
   "id": "58f9f6aa",
   "metadata": {},
   "outputs": [],
   "source": [
    "\"\"\"\n",
    "mass subtraction and filtration to speed up\n",
    "\n",
    "TEMPLATES:\n",
    "minuend - subtrahend\n",
    "\n",
    "* all chromosomes and sample ids\n",
    "1)\n",
    "minuend: DP>15, AF>0.15, Otherinfo10: PASS\n",
    "subtrahend: none\n",
    "some of the time, Funcrefgene, exonic, exonic splicing\n",
    "\n",
    "2) \n",
    "mineund, subtrahend: SAME AS 1)\n",
    "remove condition for FuncrefGene\n",
    "\"\"\""
   ]
  },
  {
   "cell_type": "code",
   "execution_count": null,
   "id": "b0849957",
   "metadata": {},
   "outputs": [],
   "source": [
    "main()"
   ]
  }
 ],
 "metadata": {
  "kernelspec": {
   "display_name": "Python 3",
   "language": "python",
   "name": "python3"
  },
  "language_info": {
   "codemirror_mode": {
    "name": "ipython",
    "version": 3
   },
   "file_extension": ".py",
   "mimetype": "text/x-python",
   "name": "python",
   "nbconvert_exporter": "python",
   "pygments_lexer": "ipython3",
   "version": "3.9.5"
  }
 },
 "nbformat": 4,
 "nbformat_minor": 5
}
