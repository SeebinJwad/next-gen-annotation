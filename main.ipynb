{
 "cells": [
  {
   "cell_type": "code",
   "execution_count": 3,
   "id": "c3aee136",
   "metadata": {
    "ExecuteTime": {
     "end_time": "2022-03-01T01:59:31.359987Z",
     "start_time": "2022-03-01T01:59:23.271868Z"
    }
   },
   "outputs": [],
   "source": [
    "import pandas as pd\n",
    "import numpy as np\n",
    "import os"
   ]
  },
  {
   "cell_type": "code",
   "execution_count": 4,
   "id": "40937063",
   "metadata": {
    "ExecuteTime": {
     "end_time": "2022-03-01T01:59:31.374987Z",
     "start_time": "2022-03-01T01:59:31.361990Z"
    }
   },
   "outputs": [],
   "source": [
    "usecol_ = [\"Chr\", \"Start\", \"End\", \"Ref\", \"Alt\", \"Func.refGene\", \"Otherinfo10\", \"Otherinfo11\"]\n",
    "dtype_ = {\"Chr\":\"category\",\n",
    "          \"Start\":np.int32,\n",
    "          \"End\":np.int32,\n",
    "          \"Ref\":\"category\",\n",
    "          \"Alt\":\"category\",\n",
    "          \"Func.refGene\":\"category\",\n",
    "          \"Otherinfo10\":\"category\",\n",
    "          \"Otherinfo11\":\"string\"}"
   ]
  },
  {
   "cell_type": "code",
   "execution_count": 5,
   "id": "ea22fcf4",
   "metadata": {
    "ExecuteTime": {
     "end_time": "2022-03-01T01:59:32.312402Z",
     "start_time": "2022-03-01T01:59:31.377995Z"
    }
   },
   "outputs": [],
   "source": [
    "df = pd.read_csv(\"anno1.fixed.chrY.genes.VE_22251.hg38_multianno.csv\", usecols=usecol_, dtype=dtype_)\n",
    "\n",
    "# add two columns DP and AF int and float\n",
    "# split otherinfo11 into 4 columns (,3) and take the 3rd column (str[2]) which has DP=415\n",
    "# run .str.split again to take DP=415 to 415 only\n",
    "df = pd.eval(\"DP = df.Otherinfo11.str.split(';',3).str[2].str.split('DP=').str[1].astype('int32')\", target=df)\n",
    "df = pd.eval(\"AF = df.Otherinfo11.str.split(';',5).str[4].str.split('AF=').str[1].astype('float')\", target=df)"
   ]
  },
  {
   "cell_type": "code",
   "execution_count": 6,
   "id": "e2500e6d",
   "metadata": {
    "ExecuteTime": {
     "end_time": "2022-03-01T01:59:32.328403Z",
     "start_time": "2022-03-01T01:59:32.314402Z"
    }
   },
   "outputs": [],
   "source": [
    "# category filters works on Chr, Ref, Alt, Func.refGene, Otherinfo10\n",
    "def category_filters(**kwargs):\n",
    "    new_df = df\n",
    "    for key, value in kwargs.items():\n",
    "        if key == \"FuncrefGene\":\n",
    "            new_df = new_df[new_df[\"Func.refGene\"] == value]\n",
    "        else:\n",
    "            new_df = new_df[new_df[key] == value]\n",
    "    return new_df"
   ]
  },
  {
   "cell_type": "code",
   "execution_count": 7,
   "id": "600106e6",
   "metadata": {
    "ExecuteTime": {
     "end_time": "2022-03-01T01:59:32.550161Z",
     "start_time": "2022-03-01T01:59:32.330404Z"
    }
   },
   "outputs": [
    {
     "data": {
      "text/html": [
       "<div>\n",
       "<style scoped>\n",
       "    .dataframe tbody tr th:only-of-type {\n",
       "        vertical-align: middle;\n",
       "    }\n",
       "\n",
       "    .dataframe tbody tr th {\n",
       "        vertical-align: top;\n",
       "    }\n",
       "\n",
       "    .dataframe thead th {\n",
       "        text-align: right;\n",
       "    }\n",
       "</style>\n",
       "<table border=\"1\" class=\"dataframe\">\n",
       "  <thead>\n",
       "    <tr style=\"text-align: right;\">\n",
       "      <th></th>\n",
       "      <th>Chr</th>\n",
       "      <th>Start</th>\n",
       "      <th>End</th>\n",
       "      <th>Ref</th>\n",
       "      <th>Alt</th>\n",
       "      <th>Func.refGene</th>\n",
       "      <th>Otherinfo10</th>\n",
       "      <th>Otherinfo11</th>\n",
       "      <th>DP</th>\n",
       "      <th>AF</th>\n",
       "    </tr>\n",
       "  </thead>\n",
       "  <tbody>\n",
       "    <tr>\n",
       "      <th>0</th>\n",
       "      <td>chrY</td>\n",
       "      <td>2787119</td>\n",
       "      <td>2787119</td>\n",
       "      <td>C</td>\n",
       "      <td>A</td>\n",
       "      <td>exonic</td>\n",
       "      <td>PASS</td>\n",
       "      <td>SAMPLE=VE_22251;TYPE=SNV;DP=415;VD=7;AF=0.0169...</td>\n",
       "      <td>415</td>\n",
       "      <td>0.0169</td>\n",
       "    </tr>\n",
       "    <tr>\n",
       "      <th>1</th>\n",
       "      <td>chrY</td>\n",
       "      <td>2787445</td>\n",
       "      <td>2787445</td>\n",
       "      <td>T</td>\n",
       "      <td>C</td>\n",
       "      <td>exonic</td>\n",
       "      <td>PASS</td>\n",
       "      <td>SAMPLE=VE_22251;TYPE=SNV;DP=317;VD=4;AF=0.0126...</td>\n",
       "      <td>317</td>\n",
       "      <td>0.0126</td>\n",
       "    </tr>\n",
       "    <tr>\n",
       "      <th>15</th>\n",
       "      <td>chrY</td>\n",
       "      <td>2865200</td>\n",
       "      <td>2865200</td>\n",
       "      <td>C</td>\n",
       "      <td>A</td>\n",
       "      <td>exonic</td>\n",
       "      <td>PASS</td>\n",
       "      <td>SAMPLE=VE_22251;TYPE=SNV;DP=173;VD=2;AF=0.0116...</td>\n",
       "      <td>173</td>\n",
       "      <td>0.0116</td>\n",
       "    </tr>\n",
       "    <tr>\n",
       "      <th>16</th>\n",
       "      <td>chrY</td>\n",
       "      <td>2866887</td>\n",
       "      <td>2866887</td>\n",
       "      <td>G</td>\n",
       "      <td>T</td>\n",
       "      <td>exonic</td>\n",
       "      <td>PASS</td>\n",
       "      <td>SAMPLE=VE_22251;TYPE=SNV;DP=232;VD=4;AF=0.0172...</td>\n",
       "      <td>232</td>\n",
       "      <td>0.0172</td>\n",
       "    </tr>\n",
       "    <tr>\n",
       "      <th>28</th>\n",
       "      <td>chrY</td>\n",
       "      <td>2961350</td>\n",
       "      <td>2961350</td>\n",
       "      <td>G</td>\n",
       "      <td>A</td>\n",
       "      <td>exonic</td>\n",
       "      <td>PASS</td>\n",
       "      <td>SAMPLE=VE_22251;TYPE=SNV;DP=152;VD=2;AF=0.0132...</td>\n",
       "      <td>152</td>\n",
       "      <td>0.0132</td>\n",
       "    </tr>\n",
       "    <tr>\n",
       "      <th>33</th>\n",
       "      <td>chrY</td>\n",
       "      <td>2978846</td>\n",
       "      <td>2978846</td>\n",
       "      <td>T</td>\n",
       "      <td>C</td>\n",
       "      <td>exonic</td>\n",
       "      <td>PASS</td>\n",
       "      <td>SAMPLE=VE_22251;TYPE=SNV;DP=182;VD=2;AF=0.011;...</td>\n",
       "      <td>182</td>\n",
       "      <td>0.0110</td>\n",
       "    </tr>\n",
       "    <tr>\n",
       "      <th>34</th>\n",
       "      <td>chrY</td>\n",
       "      <td>2979004</td>\n",
       "      <td>2979004</td>\n",
       "      <td>A</td>\n",
       "      <td>T</td>\n",
       "      <td>exonic</td>\n",
       "      <td>PASS</td>\n",
       "      <td>SAMPLE=VE_22251;TYPE=SNV;DP=148;VD=4;AF=0.027;...</td>\n",
       "      <td>148</td>\n",
       "      <td>0.0270</td>\n",
       "    </tr>\n",
       "    <tr>\n",
       "      <th>37</th>\n",
       "      <td>chrY</td>\n",
       "      <td>2979454</td>\n",
       "      <td>2979454</td>\n",
       "      <td>C</td>\n",
       "      <td>A</td>\n",
       "      <td>exonic</td>\n",
       "      <td>PASS</td>\n",
       "      <td>SAMPLE=VE_22251;TYPE=SNV;DP=232;VD=10;AF=0.043...</td>\n",
       "      <td>232</td>\n",
       "      <td>0.0431</td>\n",
       "    </tr>\n",
       "    <tr>\n",
       "      <th>43</th>\n",
       "      <td>chrY</td>\n",
       "      <td>5100327</td>\n",
       "      <td>5100327</td>\n",
       "      <td>G</td>\n",
       "      <td>T</td>\n",
       "      <td>exonic</td>\n",
       "      <td>PASS</td>\n",
       "      <td>SAMPLE=VE_22251;TYPE=SNV;DP=88;VD=88;AF=1;BIAS...</td>\n",
       "      <td>88</td>\n",
       "      <td>1.0000</td>\n",
       "    </tr>\n",
       "    <tr>\n",
       "      <th>44</th>\n",
       "      <td>chrY</td>\n",
       "      <td>5100614</td>\n",
       "      <td>5100614</td>\n",
       "      <td>T</td>\n",
       "      <td>G</td>\n",
       "      <td>exonic</td>\n",
       "      <td>PASS</td>\n",
       "      <td>SAMPLE=VE_22251;TYPE=SNV;DP=189;VD=189;AF=1;BI...</td>\n",
       "      <td>189</td>\n",
       "      <td>1.0000</td>\n",
       "    </tr>\n",
       "    <tr>\n",
       "      <th>106</th>\n",
       "      <td>chrY</td>\n",
       "      <td>6868228</td>\n",
       "      <td>6868228</td>\n",
       "      <td>A</td>\n",
       "      <td>G</td>\n",
       "      <td>exonic</td>\n",
       "      <td>PASS</td>\n",
       "      <td>SAMPLE=VE_22251;TYPE=SNV;DP=156;VD=2;AF=0.0128...</td>\n",
       "      <td>156</td>\n",
       "      <td>0.0128</td>\n",
       "    </tr>\n",
       "    <tr>\n",
       "      <th>131</th>\n",
       "      <td>chrY</td>\n",
       "      <td>7070722</td>\n",
       "      <td>7070722</td>\n",
       "      <td>C</td>\n",
       "      <td>A</td>\n",
       "      <td>exonic</td>\n",
       "      <td>PASS</td>\n",
       "      <td>SAMPLE=VE_22251;TYPE=SNV;DP=346;VD=4;AF=0.0116...</td>\n",
       "      <td>346</td>\n",
       "      <td>0.0116</td>\n",
       "    </tr>\n",
       "  </tbody>\n",
       "</table>\n",
       "</div>"
      ],
      "text/plain": [
       "      Chr    Start      End Ref Alt Func.refGene Otherinfo10  \\\n",
       "0    chrY  2787119  2787119   C   A       exonic        PASS   \n",
       "1    chrY  2787445  2787445   T   C       exonic        PASS   \n",
       "15   chrY  2865200  2865200   C   A       exonic        PASS   \n",
       "16   chrY  2866887  2866887   G   T       exonic        PASS   \n",
       "28   chrY  2961350  2961350   G   A       exonic        PASS   \n",
       "33   chrY  2978846  2978846   T   C       exonic        PASS   \n",
       "34   chrY  2979004  2979004   A   T       exonic        PASS   \n",
       "37   chrY  2979454  2979454   C   A       exonic        PASS   \n",
       "43   chrY  5100327  5100327   G   T       exonic        PASS   \n",
       "44   chrY  5100614  5100614   T   G       exonic        PASS   \n",
       "106  chrY  6868228  6868228   A   G       exonic        PASS   \n",
       "131  chrY  7070722  7070722   C   A       exonic        PASS   \n",
       "\n",
       "                                           Otherinfo11   DP      AF  \n",
       "0    SAMPLE=VE_22251;TYPE=SNV;DP=415;VD=7;AF=0.0169...  415  0.0169  \n",
       "1    SAMPLE=VE_22251;TYPE=SNV;DP=317;VD=4;AF=0.0126...  317  0.0126  \n",
       "15   SAMPLE=VE_22251;TYPE=SNV;DP=173;VD=2;AF=0.0116...  173  0.0116  \n",
       "16   SAMPLE=VE_22251;TYPE=SNV;DP=232;VD=4;AF=0.0172...  232  0.0172  \n",
       "28   SAMPLE=VE_22251;TYPE=SNV;DP=152;VD=2;AF=0.0132...  152  0.0132  \n",
       "33   SAMPLE=VE_22251;TYPE=SNV;DP=182;VD=2;AF=0.011;...  182  0.0110  \n",
       "34   SAMPLE=VE_22251;TYPE=SNV;DP=148;VD=4;AF=0.027;...  148  0.0270  \n",
       "37   SAMPLE=VE_22251;TYPE=SNV;DP=232;VD=10;AF=0.043...  232  0.0431  \n",
       "43   SAMPLE=VE_22251;TYPE=SNV;DP=88;VD=88;AF=1;BIAS...   88  1.0000  \n",
       "44   SAMPLE=VE_22251;TYPE=SNV;DP=189;VD=189;AF=1;BI...  189  1.0000  \n",
       "106  SAMPLE=VE_22251;TYPE=SNV;DP=156;VD=2;AF=0.0128...  156  0.0128  \n",
       "131  SAMPLE=VE_22251;TYPE=SNV;DP=346;VD=4;AF=0.0116...  346  0.0116  "
      ]
     },
     "metadata": {},
     "output_type": "display_data"
    }
   ],
   "source": [
    "# if you want to use Func.refGene, enter 'FuncrefGene' instead \n",
    "display(category_filters(FuncrefGene=\"exonic\", Otherinfo10=\"PASS\"))"
   ]
  },
  {
   "cell_type": "code",
   "execution_count": 8,
   "id": "6c88bf19",
   "metadata": {
    "ExecuteTime": {
     "end_time": "2022-03-01T01:59:32.628311Z",
     "start_time": "2022-03-01T01:59:32.551161Z"
    }
   },
   "outputs": [],
   "source": [
    "# filter keeps keys (DP or AF) greater than values (ie. 'DP = 15'; keeps DP vals > 15)\n",
    "def num_filter(**kwargs):\n",
    "    new_df = df\n",
    "    for key, value in kwargs.items():\n",
    "        # new_df.loc[:,key].loc[lambda x: x > value]\n",
    "        # alternate, slightly less efficient vectorized method line below\n",
    "        new_df.loc[:,key].where(new_df.loc[:,key] > value,inplace=True)\n",
    "    return new_df.dropna()"
   ]
  },
  {
   "cell_type": "code",
   "execution_count": 9,
   "id": "299c6e54",
   "metadata": {
    "ExecuteTime": {
     "end_time": "2022-03-01T01:59:32.803198Z",
     "start_time": "2022-03-01T01:59:32.630314Z"
    }
   },
   "outputs": [
    {
     "data": {
      "text/html": [
       "<div>\n",
       "<style scoped>\n",
       "    .dataframe tbody tr th:only-of-type {\n",
       "        vertical-align: middle;\n",
       "    }\n",
       "\n",
       "    .dataframe tbody tr th {\n",
       "        vertical-align: top;\n",
       "    }\n",
       "\n",
       "    .dataframe thead th {\n",
       "        text-align: right;\n",
       "    }\n",
       "</style>\n",
       "<table border=\"1\" class=\"dataframe\">\n",
       "  <thead>\n",
       "    <tr style=\"text-align: right;\">\n",
       "      <th></th>\n",
       "      <th>Chr</th>\n",
       "      <th>Start</th>\n",
       "      <th>End</th>\n",
       "      <th>Ref</th>\n",
       "      <th>Alt</th>\n",
       "      <th>Func.refGene</th>\n",
       "      <th>Otherinfo10</th>\n",
       "      <th>Otherinfo11</th>\n",
       "      <th>DP</th>\n",
       "      <th>AF</th>\n",
       "    </tr>\n",
       "  </thead>\n",
       "  <tbody>\n",
       "    <tr>\n",
       "      <th>44</th>\n",
       "      <td>chrY</td>\n",
       "      <td>5100614</td>\n",
       "      <td>5100614</td>\n",
       "      <td>T</td>\n",
       "      <td>G</td>\n",
       "      <td>exonic</td>\n",
       "      <td>PASS</td>\n",
       "      <td>SAMPLE=VE_22251;TYPE=SNV;DP=189;VD=189;AF=1;BI...</td>\n",
       "      <td>189.0</td>\n",
       "      <td>1.0</td>\n",
       "    </tr>\n",
       "  </tbody>\n",
       "</table>\n",
       "</div>"
      ],
      "text/plain": [
       "     Chr    Start      End Ref Alt Func.refGene Otherinfo10  \\\n",
       "44  chrY  5100614  5100614   T   G       exonic        PASS   \n",
       "\n",
       "                                          Otherinfo11     DP   AF  \n",
       "44  SAMPLE=VE_22251;TYPE=SNV;DP=189;VD=189;AF=1;BI...  189.0  1.0  "
      ]
     },
     "metadata": {},
     "output_type": "display_data"
    }
   ],
   "source": [
    "display(num_filter(DP=150,AF=.15))"
   ]
  },
  {
   "cell_type": "code",
   "execution_count": 30,
   "id": "ed17e131",
   "metadata": {
    "ExecuteTime": {
     "end_time": "2022-03-01T03:27:02.109827Z",
     "start_time": "2022-03-01T03:27:02.092843Z"
    }
   },
   "outputs": [],
   "source": [
    "# category of refs: [\"A\",\"G\",\"T\"] -> [145, 166, 175]\n",
    "def alpha_to_num(categories):\n",
    "    ord_cats = []\n",
    "    for category in categories:\n",
    "        ord_total = \"\"\n",
    "        for letter in category:\n",
    "            ord_total += str(ord(letter))\n",
    "        ord_cats.append(int(ord_total))\n",
    "    return ord_cats"
   ]
  },
  {
   "cell_type": "code",
   "execution_count": 51,
   "id": "e90acf1f",
   "metadata": {
    "ExecuteTime": {
     "end_time": "2022-03-01T03:42:13.148307Z",
     "start_time": "2022-03-01T03:42:13.134305Z"
    }
   },
   "outputs": [],
   "source": [
    "# subtraction algorithm\n",
    "# first find all the same starts index in df1 and df2\n",
    "def sub_start(df1, df2):\n",
    "    df1 = df1[[\"Start\", \"End\", \"Ref\", \"Alt\"]]\n",
    "    df2 = df2[[\"Start\", \"End\", \"Ref\", \"Alt\"]]\n",
    "    se1 = pd.to_numeric(df1[\"Start\"].astype(\"string\") + df1[\"End\"].astype(\"string\"))\n",
    "    se2 = pd.to_numeric(df2[\"Start\"].astype(\"string\") + df2[\"End\"].astype(\"string\"))\n",
    "    # compare = np.isin(ndf1.Start.to_numpy(), ndf2.Start.to_numpy(), invert=True)\n",
    "    ref_cats = np.array(pd.Categorical(df1[\"Ref\"]).categories)\n",
    "    alt_cats = np.array(pd.Categorical(df1[\"Alt\"]).categories)\n",
    "    # ref_num_cats = alpha_to_num()\n",
    "    # alt__num_cats = alpha_to_num()\n",
    "    np_ref = np.array(df1[\"Ref\"])\n",
    "    np_alt = np.array(df[\"Alt\"])\n",
    "    for cat in ref_cats:\n",
    "        # category \"A\" -> 145\n",
    "        cat_num = int(''.join([str(ord(x)) for x in cat]))\n",
    "        np_ref = np.where(np_ref==cat, cat_num, np_ref)\n",
    "\n",
    "    return np_ref"
   ]
  },
  {
   "cell_type": "code",
   "execution_count": 52,
   "id": "eb9cd7a0",
   "metadata": {
    "ExecuteTime": {
     "end_time": "2022-03-01T03:42:13.858236Z",
     "start_time": "2022-03-01T03:42:13.271385Z"
    }
   },
   "outputs": [
    {
     "name": "stdout",
     "output_type": "stream",
     "text": [
      "[67 67 84 67 84 67 65 67 67 65 84 67 65 67 67 71 84 67 71 71 67 84 71 71\n",
      " 67 65 71 67 71 71 71 65 71 67 71 71 67 67 84 65 45 65 71 71 67 67 71 65\n",
      " 71 71 67 65 45 67 65 71 67 71 71 65 71 71 65 45 65 67 71 71 65 71 65 71\n",
      " 67 67 65 45 67 65 67 71 71 84 71 65 71 71 65 45 65 84 71 71 67 67 84 67\n",
      " 84846784 84 84 67 67 71 71 84 84 67 67 67 65 71 71 65]\n"
     ]
    }
   ],
   "source": [
    "# if sub algorithm works, return df should have length = len(df)//2 - 3\n",
    "print(sub_start(df[len(df)//2 + 3:], df[:len(df)//2]))\n",
    "# output is df1 w indices of where it is equal"
   ]
  },
  {
   "cell_type": "code",
   "execution_count": 53,
   "id": "66ccaaf0",
   "metadata": {
    "ExecuteTime": {
     "end_time": "2022-03-01T03:42:13.997593Z",
     "start_time": "2022-03-01T03:42:13.861249Z"
    }
   },
   "outputs": [
    {
     "name": "stdout",
     "output_type": "stream",
     "text": [
      "['-' 'A' 'AA' 'C' 'G' 'GCA' 'GGGC' 'T' 'TG' 'TT' 'TTCT']\n"
     ]
    }
   ],
   "source": [
    "print(np.array(pd.Categorical(df[\"Ref\"]).categories))\n",
    "# print(np.array(ref.to_numpy()).decode('ascii'))\n",
    "# np.array(['a','b','c']).tostring().encode(\"ascii\")\n",
    "# print([''.join([ord(i) for i in x]) for x in list(ref)])"
   ]
  },
  {
   "cell_type": "code",
   "execution_count": 277,
   "id": "743f010d",
   "metadata": {
    "ExecuteTime": {
     "end_time": "2022-02-27T22:58:37.465796Z",
     "start_time": "2022-02-27T22:58:37.433778Z"
    }
   },
   "outputs": [
    {
     "name": "stdout",
     "output_type": "stream",
     "text": [
      "[10 20 30 40 50 60]\n"
     ]
    }
   ],
   "source": [
    "# Extract values and keys\n",
    "x = np.array([[1,2],\n",
    "     [3,4],\n",
    "     [5,6]])\n",
    "y = np.array([1,2,3,4,5,6])\n",
    "d = {1:10,2:20,3:30,4:40,5:50,6:60}\n",
    "dv = np.array(list(d.values()))\n",
    "dk = np.array(list(d.keys()))\n",
    "\n",
    "# Get positions of keys in first column of x and thus change the first column\n",
    "_,C = np.where(x[:,0][:,None] == dk)\n",
    "x[:,0] = dv[C]\n",
    "\n",
    "_,C = np.where(x[:,1][:,None] == dk)\n",
    "x[:,1] = dv[C]\n",
    "\n",
    "_,C = np.where(y[:][:,None] == dk)\n",
    "y[:] = dv[C]\n",
    "\n",
    "print(y)"
   ]
  },
  {
   "cell_type": "code",
   "execution_count": null,
   "id": "a5627d9d",
   "metadata": {},
   "outputs": [],
   "source": [
    "#TODO: make option to see what is NA and what is not NA\n",
    "#TODO: make program and functions run on a class"
   ]
  }
 ],
 "metadata": {
  "kernelspec": {
   "display_name": "Python 3",
   "language": "python",
   "name": "python3"
  },
  "language_info": {
   "codemirror_mode": {
    "name": "ipython",
    "version": 3
   },
   "file_extension": ".py",
   "mimetype": "text/x-python",
   "name": "python",
   "nbconvert_exporter": "python",
   "pygments_lexer": "ipython3",
   "version": "3.9.5"
  }
 },
 "nbformat": 4,
 "nbformat_minor": 5
}
