{
 "cells": [
  {
   "cell_type": "code",
   "execution_count": 7,
   "id": "1a606708",
   "metadata": {
    "ExecuteTime": {
     "end_time": "2021-10-07T07:23:16.913132Z",
     "start_time": "2021-10-07T07:22:48.792815Z"
    }
   },
   "outputs": [],
   "source": [
    "import numpy as np\n",
    "import pandas as pd\n",
    "from numba import jit\n",
    "import seaborn as sns\n",
    "from itertools import compress\n",
    "import os"
   ]
  },
  {
   "cell_type": "code",
   "execution_count": 30,
   "id": "2980a125",
   "metadata": {
    "ExecuteTime": {
     "end_time": "2021-10-07T07:36:00.035993Z",
     "start_time": "2021-10-07T07:36:00.012047Z"
    }
   },
   "outputs": [],
   "source": [
    "# ONLY DOING SUBTRACTION HERE\n",
    "# if header is true, skip first row\n",
    "# not using chromosome column because it is assumed the same respective per parent-variant pair\n",
    "# extract ref alt (letters) only\n",
    "def extract_let(filename, header):\n",
    "    if header:\n",
    "        df = pd.read_csv(filename, sep='\\t', skiprows=1, engine='c', usecols=[3,4], names=['ref', 'alt'], dtype={'ref':'string','alt':'string'})\n",
    "    else:\n",
    "        df = pd.read_csv(filename, sep='\\t', engine='c', usecols=[3,4], names=['ref', 'alt'], dtype={'ref':'string','alt':'string'})\n",
    "    \n",
    "    uq_id = pd.Series(df.ref + df.alt).to_numpy()\n",
    "    return uq_id"
   ]
  },
  {
   "cell_type": "code",
   "execution_count": 42,
   "id": "6b77f217",
   "metadata": {
    "ExecuteTime": {
     "end_time": "2021-10-07T07:57:12.985913Z",
     "start_time": "2021-10-07T07:57:12.969954Z"
    }
   },
   "outputs": [],
   "source": [
    "# ONLY DOING SUBTRACTION HERE\n",
    "# if header is true, skip first row\n",
    "# not using chromosome column because it is assumed the same respective per parent-variant pair\n",
    "# extract ref alt (letters) only\n",
    "def extract_let_asnum(filename, header):\n",
    "    if header:\n",
    "        df = pd.read_csv(filename, sep='\\t', skiprows=1, engine='c', usecols=[3, 4], names=['ref', 'alt'], dtype={'ref':'string','alt':'string'})\n",
    "    else:\n",
    "        df = pd.read_csv(filename, sep='\\t', engine='c', usecols=[3,4], names=['ref', 'alt'], dtype={'ref':'string','alt':'string'})\n",
    "    \n",
    "    ref = df['ref'].apply(lambda x: sum([ord(i) for i in x]))\n",
    "    alt = df['alt'].apply(lambda x: sum([ord(i) for i in x]))\n",
    "    dataframe = pd.DataFrame({'ref':ref, 'alt':alt})\n",
    "    uq_id = pd.Series(dataframe.ref + dataframe.alt).to_numpy()\n",
    "    return uq_id"
   ]
  },
  {
   "cell_type": "code",
   "execution_count": 43,
   "id": "297d4c28",
   "metadata": {
    "ExecuteTime": {
     "end_time": "2021-10-07T07:57:15.090166Z",
     "start_time": "2021-10-07T07:57:13.690156Z"
    }
   },
   "outputs": [
    {
     "data": {
      "text/plain": [
       "array([155, 155, 149, ..., 132, 132, 132], dtype=int64)"
      ]
     },
     "execution_count": 43,
     "metadata": {},
     "output_type": "execute_result"
    }
   ],
   "source": [
    "unique_ids_num = extract_let_asnum('test_anno.txt', True)\n",
    "unique_ids_num"
   ]
  },
  {
   "cell_type": "code",
   "execution_count": 32,
   "id": "41e6a315",
   "metadata": {
    "ExecuteTime": {
     "end_time": "2021-10-07T07:36:08.134266Z",
     "start_time": "2021-10-07T07:36:07.166278Z"
    }
   },
   "outputs": [
    {
     "data": {
      "text/plain": [
       "array(['GT', 'GT', 'TA', ..., 'CA', 'CA', 'CA'], dtype=object)"
      ]
     },
     "execution_count": 32,
     "metadata": {},
     "output_type": "execute_result"
    }
   ],
   "source": [
    "# testing extract_uq_id function\n",
    "unique_ids = extract_let('test_anno.txt', True)\n",
    "unique_ids"
   ]
  },
  {
   "cell_type": "code",
   "execution_count": 35,
   "id": "112f3d98",
   "metadata": {
    "ExecuteTime": {
     "end_time": "2021-10-07T07:49:56.255803Z",
     "start_time": "2021-10-07T07:49:56.239819Z"
    }
   },
   "outputs": [
    {
     "data": {
      "text/plain": [
       "132"
      ]
     },
     "execution_count": 35,
     "metadata": {},
     "output_type": "execute_result"
    }
   ],
   "source": [
    "ord('C') + ord('A')"
   ]
  },
  {
   "cell_type": "code",
   "execution_count": 16,
   "id": "ab1bf253",
   "metadata": {
    "ExecuteTime": {
     "end_time": "2021-10-07T07:28:48.655322Z",
     "start_time": "2021-10-07T07:28:48.607320Z"
    }
   },
   "outputs": [
    {
     "name": "stdout",
     "output_type": "stream",
     "text": [
      "0.9575502227185624\n"
     ]
    }
   ],
   "source": [
    "lengths = np.vectorize(len)\n",
    "arr_len = lengths(unique_ids)\n",
    "result = np.where(arr_len==2)\n",
    "print(result[0].size / len(arr_len))"
   ]
  }
 ],
 "metadata": {
  "kernelspec": {
   "display_name": "Python 3",
   "language": "python",
   "name": "python3"
  },
  "language_info": {
   "codemirror_mode": {
    "name": "ipython",
    "version": 3
   },
   "file_extension": ".py",
   "mimetype": "text/x-python",
   "name": "python",
   "nbconvert_exporter": "python",
   "pygments_lexer": "ipython3",
   "version": "3.9.5"
  }
 },
 "nbformat": 4,
 "nbformat_minor": 5
}
