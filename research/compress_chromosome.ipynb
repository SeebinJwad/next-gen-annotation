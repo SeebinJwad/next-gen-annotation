{
 "cells": [
  {
   "cell_type": "code",
   "execution_count": 2,
   "id": "1375e726",
   "metadata": {
    "ExecuteTime": {
     "end_time": "2021-07-23T00:50:25.307427Z",
     "start_time": "2021-07-23T00:50:13.867158Z"
    }
   },
   "outputs": [
    {
     "name": "stdout",
     "output_type": "stream",
     "text": [
      "Populating the interactive namespace from numpy and matplotlib\n"
     ]
    }
   ],
   "source": [
    "import pandas as pd\n",
    "import numpy as np\n",
    "from typing import TypeVar\n",
    "%pylab inline\n",
    "import matplotlib.pyplot as plt\n",
    "import os\n",
    "import _pickle as cpickle\n",
    "from math import log10\n",
    "# from scipy import stats\n",
    "from numpy.polynomial import Polynomial"
   ]
  },
  {
   "cell_type": "code",
   "execution_count": 5,
   "id": "a86cd969",
   "metadata": {
    "ExecuteTime": {
     "end_time": "2021-07-23T00:50:55.478433Z",
     "start_time": "2021-07-23T00:50:54.351992Z"
    },
    "code_folding": [
     0
    ]
   },
   "outputs": [],
   "source": [
    "inp_dtypes = {\n",
    "    \"Chr\": \"string\",\n",
    "    \"Start\": \"int\",\n",
    "    \"End\": \"int\",\n",
    "    \"Ref\": \"string\",\n",
    "    \"Alt\": \"string\"}\n",
    "db_dtypes = {\n",
    "    \"#CHROM\": \"string\",\n",
    "    \"POS\": \"int32\",\n",
    "    \"ID\": \"int32\",\n",
    "    \"REF\": \"string\",\n",
    "    \"ALT\": \"string\",\n",
    "    \"DN ID\": \"string\",\n",
    "    \"Patient ID\": \"string\",\n",
    "    \"Phenotype\": \"string\",\n",
    "    \"Platform\": \"string\",\n",
    "    \"Study\": \"string\",\n",
    "    \"Pubmed ID\": \"int32\"}\n",
    "# inp_df = pd.read_csv(\"annovar-full/chr1_22243.txt\", sep='\\t', dtype=dtypes, na_values=None)\n",
    "dbdf = pd.read_csv(\"databases/hg38_gene4denovo201907.txt\", sep='\\t', dtype=db_dtypes, na_values=None) "
   ]
  },
  {
   "cell_type": "code",
   "execution_count": null,
   "id": "7968c8b4",
   "metadata": {
    "ExecuteTime": {
     "end_time": "2021-07-21T14:50:20.506312Z",
     "start_time": "2021-07-21T14:50:20.479488Z"
    },
    "code_folding": []
   },
   "outputs": [],
   "source": [
    "def binary_search(arr: list, low: int, high: int, x):\n",
    "    if high >= low:\n",
    "        mid = (high + low) // 2\n",
    "        if arr[mid] == x:\n",
    "            return arr[mid]\n",
    "        elif arr[mid] > x:\n",
    "            binary_search(arr, low, arr[mid] - 1, x)\n",
    "        else:\n",
    "            binary_search(arr, arr[mid] - 1, high, x)\n",
    "    else:\n",
    "        return -1"
   ]
  },
  {
   "cell_type": "code",
   "execution_count": 108,
   "id": "9d381a3b",
   "metadata": {
    "ExecuteTime": {
     "end_time": "2021-07-21T16:03:54.810386Z",
     "start_time": "2021-07-21T16:03:54.616147Z"
    },
    "code_folding": []
   },
   "outputs": [
    {
     "data": {
      "text/plain": [
       "17"
      ]
     },
     "execution_count": 108,
     "metadata": {},
     "output_type": "execute_result"
    }
   ],
   "source": [
    "def chrom_strip(chromosome: str) -> int:\n",
    "    # 'chr22' -> 22, 'chrX' -> 23\n",
    "    if chromosome == \"chrX\":\n",
    "        return 23\n",
    "    elif chromosome == \"chrY\":\n",
    "        return 24\n",
    "    else:    \n",
    "        return int(chromosome[3:])"
   ]
  },
  {
   "cell_type": "code",
   "execution_count": 119,
   "id": "6492e528",
   "metadata": {
    "ExecuteTime": {
     "end_time": "2021-07-21T17:31:06.514017Z",
     "start_time": "2021-07-21T17:31:04.041024Z"
    },
    "code_folding": []
   },
   "outputs": [
    {
     "name": "stdout",
     "output_type": "stream",
     "text": [
      "[0, 45923, 96195, 137847, 176833, 213683, 248381, 280732, 313399, 338813, 366314, 394851, 422470, 441848, 460652, 478049, 497977, 514642, 530153, 543741, 556905, 564620, 572777, 580407, 580450]\n"
     ]
    }
   ],
   "source": [
    "nparr = TypeVar('numpy.ndarray')    \n",
    "chromosome_list = [chrom+1 for chrom in range(24)]\n",
    "\n",
    "def chrom_compression(chr_col: nparr) -> list:\n",
    "    chr_col = list(map(chrom_strip, dbdf[\"#CHROM\"].values))\n",
    "    # 0 bc chromosome 1 will always begin at index 0\n",
    "    idxs = [0]\n",
    "    for chrom in chromosome_list:\n",
    "        idxs.append(np.searchsorted(chr_col, chrom, side=\"right\"))\n",
    "    return idxs\n",
    "\n",
    "print(db_idxs := chrom_compression(dbdf[\"#CHROM\"].values))"
   ]
  },
  {
   "cell_type": "code",
   "execution_count": 152,
   "id": "9c30e04a",
   "metadata": {
    "ExecuteTime": {
     "end_time": "2021-07-21T18:10:12.173467Z",
     "start_time": "2021-07-21T18:10:12.012466Z"
    },
    "code_folding": []
   },
   "outputs": [
    {
     "name": "stdout",
     "output_type": "stream",
     "text": [
      "[0, 1000, 2000, 3000, 4000, 5000, 6000, 7000, 8000, 9000, 10000, 11000, 12000, 13000, 14000, 15000, 16000, 17000, 18000, 19000, 20000, 21000, 22000, 23000, 24000, 25000, 26000, 27000, 28000, 29000, 30000, 31000, 32000, 33000, 34000, 35000, 36000, 37000, 38000, 39000, 40000, 41000, 42000, 43000, 44000, 45000]\n",
      "[13668, 3679509, 7752830, 12256441, 16896239, 21373982, 26033139, 30618002, 35323117, 40028077, 44817995, 50014727, 54863300, 59831649, 64891887, 70173480, 75111053, 79992474, 85216162, 90716660, 95985531, 100944380, 106337395, 111430639, 115989431, 121636872, 151285776, 155857347, 160258934, 165266363, 170383483, 175314055, 180257141, 185046726, 189960058, 195149213, 200297177, 204820540, 210033127, 214984016, 220075039, 225143852, 229991760, 234656594, 239343574, 244548816]\n"
     ]
    },
    {
     "data": {
      "text/plain": [
       "<matplotlib.collections.PathCollection at 0x1a0424be6a0>"
      ]
     },
     "execution_count": 152,
     "metadata": {},
     "output_type": "execute_result"
    },
    {
     "data": {
      "image/png": "[encoded data removed]",
      "text/plain": [
       "<Figure size 432x288 with 1 Axes>"
      ]
     },
     "metadata": {
      "needs_background": "light"
     },
     "output_type": "display_data"
    }
   ],
   "source": [
    "pos1 = dbdf[\"POS\"].values[db_idxs[0]:db_idxs[1]]\n",
    "# plt.scatter([x for x in range(len(pos1))], pos1)\n",
    "# estimate idxs for chromosome 1\n",
    "print(est_idxs1 := [x for x in range(len(pos1)) if x%1000 == 0])\n",
    "print(est_pos1 := [pos1[x] for x in est_idxs1])\n",
    "plt.scatter(est_idxs1, est_pos1)"
   ]
  },
  {
   "cell_type": "code",
   "execution_count": 248,
   "id": "afe6f947",
   "metadata": {
    "ExecuteTime": {
     "end_time": "2021-07-21T22:00:26.371320Z",
     "start_time": "2021-07-21T22:00:26.238344Z"
    },
    "code_folding": []
   },
   "outputs": [
    {
     "name": "stdout",
     "output_type": "stream",
     "text": [
      "[ 13668  15208  15354  20184  54170  64003  91393 103621 108582 114213\n",
      " 114226 115732 116095 116120 118913 264557 266377 266538 268578 275263\n",
      " 282980 291744 591525 609431 619713 629292 629307 629634 629990 630084\n",
      " 633962 633963 633963 634025 634056 634056 634163 634163 634167 726549\n",
      " 739062 739072 786760 816630 822758 842732 843950 843980 848167 852295\n",
      " 852340 862130 873409 874955 880610 887799 889421 891707 894777 904479\n",
      " 904479 904479 904479 904520 904536 904629 905251 905692 905692 913362\n",
      " 915129 915679 920632 932170 935423 936930 942526 942995 943261 943995\n",
      " 943995 944727 945088 945120 945358 945470 945839 945938 946422 950152\n",
      " 951322 952708 953474 954695 955671 957401 958881 961969 962037 962359]\n",
      "6\n",
      "0 13668 \n",
      " 99 962359\n"
     ]
    },
    {
     "data": {
      "image/png": "[encoded data removed]",
      "text/plain": [
       "<Figure size 432x288 with 1 Axes>"
      ]
     },
     "metadata": {
      "needs_background": "light"
     },
     "output_type": "display_data"
    }
   ],
   "source": [
    "X = [x for x in range(100)]\n",
    "Y = pos1[:100]\n",
    "\n",
    "print(Y)\n",
    "\n",
    "def groupby(arr: np.ndarray) -> np.ndarray:\n",
    "    # take the digit of the last number (highest) in array\n",
    "    last_num = int8(floor(math.log10(arr[-1])) + 1)\n",
    "    return last_num\n",
    "\n",
    "print(groupby(Y))\n",
    "# plt.scatter(X, Y)\n",
    "print(X[0], Y[0], \"\\n\", X[len(X) - 1], Y[len(Y) - 1])\n",
    "plt.plot([13668,962359], ls='-')\n",
    "plt.show()"
   ]
  },
  {
   "cell_type": "code",
   "execution_count": 236,
   "id": "4ea4d1ad",
   "metadata": {
    "ExecuteTime": {
     "end_time": "2021-07-21T20:56:42.030545Z",
     "start_time": "2021-07-21T20:56:42.023554Z"
    },
    "code_folding": []
   },
   "outputs": [
    {
     "name": "stdout",
     "output_type": "stream",
     "text": [
      "Actual: 962,359\n",
      "Predicted: 3,219,011,824\n"
     ]
    }
   ],
   "source": [
    "def poly_func_check(x_arr, y_arr, idx):\n",
    "    x, y = x_arr[idx], y_arr[idx]\n",
    "    \n",
    "    def equation():\n",
    "        raw_num = 892042.327998481 + 186974.09425648313 * x**1 - 143043.8290939058 * x**2 + 8875.21743134128 * x**3  \n",
    "        return int(floor(raw_num))\n",
    "    \n",
    "    return \"Actual: %s\\nPredicted: %s\" % (f'{y:,}', f'{equation():,}')\n",
    "\n",
    "print(poly_func_check(X, Y, len(X) - 1))"
   ]
  }
 ],
 "metadata": {
  "kernelspec": {
   "display_name": "Python 3",
   "language": "python",
   "name": "python3"
  },
  "language_info": {
   "codemirror_mode": {
    "name": "ipython",
    "version": 3
   },
   "file_extension": ".py",
   "mimetype": "text/x-python",
   "name": "python",
   "nbconvert_exporter": "python",
   "pygments_lexer": "ipython3",
   "version": "3.9.5"
  }
 },
 "nbformat": 4,
 "nbformat_minor": 5
}
