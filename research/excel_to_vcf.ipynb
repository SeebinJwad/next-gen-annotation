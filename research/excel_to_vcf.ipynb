{
 "cells": [
  {
   "cell_type": "code",
   "execution_count": 2,
   "id": "615f12a3",
   "metadata": {
    "ExecuteTime": {
     "end_time": "2021-09-21T06:57:41.677313Z",
     "start_time": "2021-09-21T06:57:29.746430Z"
    }
   },
   "outputs": [],
   "source": [
    "import pandas as pd"
   ]
  },
  {
   "cell_type": "code",
   "execution_count": 3,
   "id": "d7231c5b",
   "metadata": {
    "ExecuteTime": {
     "end_time": "2021-09-20T20:59:28.734314Z",
     "start_time": "2021-09-20T20:59:28.691325Z"
    }
   },
   "outputs": [
    {
     "data": {
      "text/plain": [
       "15"
      ]
     },
     "execution_count": 3,
     "metadata": {},
     "output_type": "execute_result"
    }
   ],
   "source": [
    "ids = ['22241','22334','22243','22244','22245','22246','22247',\n",
    " '22248','22249','22250','22251','22252','22253','22254','22255']\n",
    "len(ids)"
   ]
  },
  {
   "cell_type": "code",
   "execution_count": 10,
   "id": "055c5f8d",
   "metadata": {
    "ExecuteTime": {
     "end_time": "2021-09-21T06:59:06.398730Z",
     "start_time": "2021-09-21T06:59:06.392724Z"
    },
    "code_folding": []
   },
   "outputs": [],
   "source": [
    "header = \"\"\"##fileformat=VCFv4.2\n",
    "##source=VarDict_v1.8.2\n",
    "##INFO=<ID=SAMPLE,Number=1,Type=String,Description=\"Sample name (with whitespace translated to underscores)\">\n",
    "##INFO=<ID=TYPE,Number=1,Type=String,Description=\"Variant Type: SNV Insertion Deletion Complex\">\n",
    "##INFO=<ID=DP,Number=1,Type=Integer,Description=\"Total Depth\">\n",
    "##INFO=<ID=END,Number=1,Type=Integer,Description=\"Chr End Position\">\n",
    "##INFO=<ID=VD,Number=1,Type=Integer,Description=\"Variant Depth\">\n",
    "##INFO=<ID=AF,Number=A,Type=Float,Description=\"Allele Frequency\">\n",
    "##INFO=<ID=BIAS,Number=1,Type=String,Description=\"Strand Bias Info\">\n",
    "##INFO=<ID=REFBIAS,Number=1,Type=String,Description=\"Reference depth by strand\">\n",
    "##INFO=<ID=VARBIAS,Number=1,Type=String,Description=\"Variant depth by strand\">\n",
    "##INFO=<ID=PMEAN,Number=1,Type=Float,Description=\"Mean position in reads\">\n",
    "##INFO=<ID=PSTD,Number=1,Type=Float,Description=\"Position STD in reads\">\n",
    "##INFO=<ID=QUAL,Number=1,Type=Float,Description=\"Mean quality score in reads\">\n",
    "##INFO=<ID=QSTD,Number=1,Type=Float,Description=\"Quality score STD in reads\">\n",
    "##INFO=<ID=SBF,Number=1,Type=Float,Description=\"Strand Bias Fisher p-value\">\n",
    "##INFO=<ID=ODDRATIO,Number=1,Type=Float,Description=\"Strand Bias Odds ratio\">\n",
    "##INFO=<ID=MQ,Number=1,Type=Float,Description=\"Mean Mapping Quality\">\n",
    "##INFO=<ID=SN,Number=1,Type=Float,Description=\"Signal to noise\">\n",
    "##INFO=<ID=HIAF,Number=1,Type=Float,Description=\"Allele frequency using only high quality bases\">\n",
    "##INFO=<ID=ADJAF,Number=1,Type=Float,Description=\"Adjusted AF for indels due to local realignment\">\n",
    "##INFO=<ID=SHIFT3,Number=1,Type=Integer,Description=\"No. of bases to be shifted to 3 prime for deletions due to alternative alignment\">\n",
    "##INFO=<ID=MSI,Number=1,Type=Float,Description=\"MicroSatellite. > 1 indicates MSI\">\n",
    "##INFO=<ID=MSILEN,Number=1,Type=Float,Description=\"MicroSatellite unit length in bp\">\n",
    "##INFO=<ID=NM,Number=1,Type=Float,Description=\"Mean mismatches in reads\">\n",
    "##INFO=<ID=LSEQ,Number=1,Type=String,Description=\"5' flanking seq\">\n",
    "##INFO=<ID=RSEQ,Number=1,Type=String,Description=\"3' flanking seq\">\n",
    "##INFO=<ID=GDAMP,Number=1,Type=Integer,Description=\"No. of amplicons supporting variant\">\n",
    "##INFO=<ID=TLAMP,Number=1,Type=Integer,Description=\"Total of amplicons covering variant\">\n",
    "##INFO=<ID=NCAMP,Number=1,Type=Integer,Description=\"No. of amplicons don't work\">\n",
    "##INFO=<ID=AMPFLAG,Number=1,Type=Integer,Description=\"Top variant in amplicons don't match\">\n",
    "##INFO=<ID=HICNT,Number=1,Type=Integer,Description=\"High quality variant reads\">\n",
    "##INFO=<ID=HICOV,Number=1,Type=Integer,Description=\"High quality total reads\">\n",
    "##INFO=<ID=SPLITREAD,Number=1,Type=Integer,Description=\"No. of split reads supporting SV\">\n",
    "##INFO=<ID=SPANPAIR,Number=1,Type=Integer,Description=\"No. of pairs supporting SV\">\n",
    "##INFO=<ID=SVTYPE,Number=1,Type=String,Description=\"SV type: INV DUP DEL INS FUS\">\n",
    "##INFO=<ID=SVLEN,Number=1,Type=Integer,Description=\"The length of SV in bp\">\n",
    "##INFO=<ID=DUPRATE,Number=1,Type=Float,Description=\"Duplication rate in fraction\">\n",
    "##FILTER=<ID=q22.5,Description=\"Mean Base Quality Below 22.5\">\n",
    "##FILTER=<ID=Q10,Description=\"Mean Mapping Quality Below 10\">\n",
    "##FILTER=<ID=p8,Description=\"Mean Position in Reads Less than 8\">\n",
    "##FILTER=<ID=SN1.5,Description=\"Signal to Noise Less than 1.5\">\n",
    "##FILTER=<ID=Bias,Description=\"Strand Bias\">\n",
    "##FILTER=<ID=pSTD,Description=\"Position in Reads has STD of 0\">\n",
    "##FILTER=<ID=d3,Description=\"Total Depth < 3\">\n",
    "##FILTER=<ID=v2,Description=\"Var Depth < 2\">\n",
    "##FILTER=<ID=f0.01,Description=\"Allele frequency < 0.01\">\n",
    "##FILTER=<ID=MSI12,Description=\"Variant in MSI region with 12 non-monomer MSI or 13 monomer MSI\">\n",
    "##FILTER=<ID=NM5.25,Description=\"Mean mismatches in reads >= 5.25, thus likely false positive\">\n",
    "##FILTER=<ID=InGap,Description=\"The variant is in the deletion gap, thus likely false positive\">\n",
    "##FILTER=<ID=InIns,Description=\"The variant is adjacent to an insertion variant\">\n",
    "##FILTER=<ID=Cluster0bp,Description=\"Two variants are within 0 bp\">\n",
    "##FILTER=<ID=LongMSI,Description=\"The somatic variant is flanked by long A/T (>=14)\">\n",
    "##FILTER=<ID=AMPBIAS,Description=\"Indicate the variant has amplicon bias.\">\n",
    "##FORMAT=<ID=GT,Number=1,Type=String,Description=\"Genotype\">\n",
    "##FORMAT=<ID=DP,Number=1,Type=Integer,Description=\"Total Depth\">\n",
    "##FORMAT=<ID=VD,Number=1,Type=Integer,Description=\"Variant Depth\">\n",
    "##FORMAT=<ID=AD,Number=R,Type=Integer,Description=\"Allelic depths for the ref and alt alleles in the order listed\">\n",
    "##FORMAT=<ID=AF,Number=A,Type=Float,Description=\"Allele Frequency\">\n",
    "##FORMAT=<ID=RD,Number=2,Type=Integer,Description=\"Reference forward, reverse reads\">\n",
    "##FORMAT=<ID=ALD,Number=2,Type=Integer,Description=\"Variant forward, reverse reads\">\n",
    "##INFO=<ID=ANNOVAR_DATE,Number=1,Type=String,Description=\"Flag the start of ANNOVAR annotation for one alternative allele\">\n",
    "##INFO=<ID=Func.refGene,Number=.,Type=String,Description=\"Func.refGene annotation provided by ANNOVAR\">\n",
    "##INFO=<ID=Gene.refGene,Number=.,Type=String,Description=\"Gene.refGene annotation provided by ANNOVAR\">\n",
    "##INFO=<ID=GeneDetail.refGene,Number=.,Type=String,Description=\"GeneDetail.refGene annotation provided by ANNOVAR\">\n",
    "##INFO=<ID=ExonicFunc.refGene,Number=.,Type=String,Description=\"ExonicFunc.refGene annotation provided by ANNOVAR\">\n",
    "##INFO=<ID=AAChange.refGene,Number=.,Type=String,Description=\"AAChange.refGene annotation provided by ANNOVAR\">\n",
    "##INFO=<ID=ALLELE_END,Number=0,Type=Flag,Description=\"Flag the end of ANNOVAR annotation for one alternative allele\">\n",
    "\"\"\""
   ]
  },
  {
   "cell_type": "code",
   "execution_count": 20,
   "id": "1b8df581",
   "metadata": {
    "ExecuteTime": {
     "end_time": "2021-09-20T21:43:32.123921Z",
     "start_time": "2021-09-20T21:43:32.083915Z"
    }
   },
   "outputs": [
    {
     "data": {
      "text/html": [
       "<div>\n",
       "<style scoped>\n",
       "    .dataframe tbody tr th:only-of-type {\n",
       "        vertical-align: middle;\n",
       "    }\n",
       "\n",
       "    .dataframe tbody tr th {\n",
       "        vertical-align: top;\n",
       "    }\n",
       "\n",
       "    .dataframe thead th {\n",
       "        text-align: right;\n",
       "    }\n",
       "</style>\n",
       "<table border=\"1\" class=\"dataframe\">\n",
       "  <thead>\n",
       "    <tr style=\"text-align: right;\">\n",
       "      <th></th>\n",
       "      <th>#CHROM</th>\n",
       "      <th>POS</th>\n",
       "      <th>ID</th>\n",
       "      <th>REF</th>\n",
       "      <th>ALT</th>\n",
       "      <th>QUAL</th>\n",
       "      <th>FILTER</th>\n",
       "      <th>INFO</th>\n",
       "      <th>FORMAT</th>\n",
       "      <th>VE_22254</th>\n",
       "    </tr>\n",
       "  </thead>\n",
       "  <tbody>\n",
       "    <tr>\n",
       "      <th>0</th>\n",
       "      <td>chrY</td>\n",
       "      <td>5032636</td>\n",
       "      <td>.</td>\n",
       "      <td>C</td>\n",
       "      <td>A</td>\n",
       "      <td>37</td>\n",
       "      <td>pSTD;Q10</td>\n",
       "      <td>SAMPLE=VE_22254;TYPE=SNV;DP=111;VD=2;AF=0.018;...</td>\n",
       "      <td>GT:DP:VD:AD:AF:RD:ALD</td>\n",
       "      <td>0/1:111:2:107,2:0.018:88,19:2,0</td>\n",
       "    </tr>\n",
       "    <tr>\n",
       "      <th>1</th>\n",
       "      <td>chrY</td>\n",
       "      <td>5032660</td>\n",
       "      <td>.</td>\n",
       "      <td>C</td>\n",
       "      <td>A</td>\n",
       "      <td>37</td>\n",
       "      <td>pSTD;Q10</td>\n",
       "      <td>SAMPLE=VE_22254;TYPE=SNV;DP=55;VD=2;AF=0.0364;...</td>\n",
       "      <td>GT:DP:VD:AD:AF:RD:ALD</td>\n",
       "      <td>0/1:55:2:53,2:0.0364:44,9:2,0</td>\n",
       "    </tr>\n",
       "  </tbody>\n",
       "</table>\n",
       "</div>"
      ],
      "text/plain": [
       "  #CHROM      POS ID REF ALT  QUAL    FILTER  \\\n",
       "0   chrY  5032636  .   C   A    37  pSTD;Q10   \n",
       "1   chrY  5032660  .   C   A    37  pSTD;Q10   \n",
       "\n",
       "                                                INFO                 FORMAT  \\\n",
       "0  SAMPLE=VE_22254;TYPE=SNV;DP=111;VD=2;AF=0.018;...  GT:DP:VD:AD:AF:RD:ALD   \n",
       "1  SAMPLE=VE_22254;TYPE=SNV;DP=55;VD=2;AF=0.0364;...  GT:DP:VD:AD:AF:RD:ALD   \n",
       "\n",
       "                          VE_22254  \n",
       "0  0/1:111:2:107,2:0.018:88,19:2,0  \n",
       "1    0/1:55:2:53,2:0.0364:44,9:2,0  "
      ]
     },
     "metadata": {},
     "output_type": "display_data"
    }
   ],
   "source": [
    "for x in range(3):\n",
    "    for y in range(4):\n",
    "        \n",
    "        parent = ids[x*5]\n",
    "        variant = ids[x*5 + y+1]\n",
    "        \n",
    "        # file_name = \"results/VE_\" + parent + \"_VE_\" + variant + \".xlsx\"\n",
    "        file_name = \"results/test.xlsx\"\n",
    "        \n",
    "        pv_df = pd.read_excel(file_name)#, sheet_name=\"p-v \" + variant)\n",
    "        pv_df = pv_df[:10]\n",
    "        # vp_df = pd.read_excel(file_name, sheet_name=\"v-p \" + variant)\n",
    "\n",
    "        display(pv_df)\n",
    "        \n",
    "#         second_file = \"results/VE_22241_VE_22243.xlsx\"\n",
    "        \n",
    "#         pv_df = pd.read_excel(second_file)\n",
    "#         display(pv_df[:2])\n",
    "        break\n",
    "    break"
   ]
  },
  {
   "cell_type": "code",
   "execution_count": 32,
   "id": "615e8cd0",
   "metadata": {
    "ExecuteTime": {
     "end_time": "2021-09-20T21:56:22.770783Z",
     "start_time": "2021-09-20T21:56:22.757812Z"
    }
   },
   "outputs": [
    {
     "name": "stdout",
     "output_type": "stream",
     "text": [
      "['.', '.', '.']\n"
     ]
    }
   ],
   "source": [
    "print(['.'] * len([1,2,3]))"
   ]
  },
  {
   "cell_type": "code",
   "execution_count": 6,
   "id": "0eb69870",
   "metadata": {
    "ExecuteTime": {
     "end_time": "2021-09-21T06:58:56.344926Z",
     "start_time": "2021-09-21T06:58:56.333933Z"
    }
   },
   "outputs": [],
   "source": [
    "def remove_columns(dataframe):\n",
    "    dataframe = dataframe.drop(columns=[\"Sample ID\", \"End\", \"Func.refGene\", \"Gene.refGene\", \"GeneDetail.refGene\", \"ExonicFunc.refGene\", \"AAChange.refGene\", \"Otherinfo1\", \"Otherinfo2\", \"Otherinfo3\", \"Otherinfo4\", \"Otherinfo5\", \"Otherinfo6\", \"Otherinfo7\", \"Otherinfo8\", ])\n",
    "    # vcf requires adding the column id, but with all na '.' values\n",
    "    dataframe.insert(2, \"ID\", ['.'] * len(dataframe.index))\n",
    "    return dataframe"
   ]
  },
  {
   "cell_type": "code",
   "execution_count": 41,
   "id": "129168ef",
   "metadata": {
    "ExecuteTime": {
     "end_time": "2021-09-20T21:59:50.133697Z",
     "start_time": "2021-09-20T21:59:49.721602Z"
    }
   },
   "outputs": [
    {
     "data": {
      "text/html": [
       "<div>\n",
       "<style scoped>\n",
       "    .dataframe tbody tr th:only-of-type {\n",
       "        vertical-align: middle;\n",
       "    }\n",
       "\n",
       "    .dataframe tbody tr th {\n",
       "        vertical-align: top;\n",
       "    }\n",
       "\n",
       "    .dataframe thead th {\n",
       "        text-align: right;\n",
       "    }\n",
       "</style>\n",
       "<table border=\"1\" class=\"dataframe\">\n",
       "  <thead>\n",
       "    <tr style=\"text-align: right;\">\n",
       "      <th></th>\n",
       "      <th>Chr</th>\n",
       "      <th>Start</th>\n",
       "      <th>ID</th>\n",
       "      <th>Ref</th>\n",
       "      <th>Alt</th>\n",
       "      <th>Otherinfo9</th>\n",
       "      <th>Otherinfo10</th>\n",
       "      <th>Otherinfo11</th>\n",
       "      <th>Otherinfo12</th>\n",
       "      <th>Otherinfo13</th>\n",
       "    </tr>\n",
       "  </thead>\n",
       "  <tbody>\n",
       "    <tr>\n",
       "      <th>0</th>\n",
       "      <td>chr1</td>\n",
       "      <td>1636440</td>\n",
       "      <td>.</td>\n",
       "      <td>G</td>\n",
       "      <td>A</td>\n",
       "      <td>286</td>\n",
       "      <td>PASS</td>\n",
       "      <td>SAMPLE=VE_22241;TYPE=SNV;DP=1261;VD=217;AF=0.1...</td>\n",
       "      <td>GT:DP:VD:AD:AF:RD:ALD</td>\n",
       "      <td>0/1:1261:217:1044,217:0.1721:443,601:106,111</td>\n",
       "    </tr>\n",
       "    <tr>\n",
       "      <th>1</th>\n",
       "      <td>chr1</td>\n",
       "      <td>6249979</td>\n",
       "      <td>.</td>\n",
       "      <td>G</td>\n",
       "      <td>T</td>\n",
       "      <td>103</td>\n",
       "      <td>PASS</td>\n",
       "      <td>SAMPLE=VE_22241;TYPE=SNV;DP=44;VD=7;AF=0.1591;...</td>\n",
       "      <td>GT:DP:VD:AD:AF:RD:ALD</td>\n",
       "      <td>0/1:44:7:37,7:0.1591:20,17:3,4</td>\n",
       "    </tr>\n",
       "  </tbody>\n",
       "</table>\n",
       "</div>"
      ],
      "text/plain": [
       "    Chr    Start ID Ref Alt  Otherinfo9 Otherinfo10  \\\n",
       "0  chr1  1636440  .   G   A         286        PASS   \n",
       "1  chr1  6249979  .   G   T         103        PASS   \n",
       "\n",
       "                                         Otherinfo11            Otherinfo12  \\\n",
       "0  SAMPLE=VE_22241;TYPE=SNV;DP=1261;VD=217;AF=0.1...  GT:DP:VD:AD:AF:RD:ALD   \n",
       "1  SAMPLE=VE_22241;TYPE=SNV;DP=44;VD=7;AF=0.1591;...  GT:DP:VD:AD:AF:RD:ALD   \n",
       "\n",
       "                                    Otherinfo13  \n",
       "0  0/1:1261:217:1044,217:0.1721:443,601:106,111  \n",
       "1                0/1:44:7:37,7:0.1591:20,17:3,4  "
      ]
     },
     "metadata": {},
     "output_type": "display_data"
    },
    {
     "data": {
      "text/html": [
       "<div>\n",
       "<style scoped>\n",
       "    .dataframe tbody tr th:only-of-type {\n",
       "        vertical-align: middle;\n",
       "    }\n",
       "\n",
       "    .dataframe tbody tr th {\n",
       "        vertical-align: top;\n",
       "    }\n",
       "\n",
       "    .dataframe thead th {\n",
       "        text-align: right;\n",
       "    }\n",
       "</style>\n",
       "<table border=\"1\" class=\"dataframe\">\n",
       "  <thead>\n",
       "    <tr style=\"text-align: right;\">\n",
       "      <th></th>\n",
       "      <th>Chr</th>\n",
       "      <th>Start</th>\n",
       "      <th>ID</th>\n",
       "      <th>Ref</th>\n",
       "      <th>Alt</th>\n",
       "      <th>Otherinfo9</th>\n",
       "      <th>Otherinfo10</th>\n",
       "      <th>Otherinfo11</th>\n",
       "      <th>Otherinfo12</th>\n",
       "      <th>Otherinfo13</th>\n",
       "    </tr>\n",
       "  </thead>\n",
       "  <tbody>\n",
       "    <tr>\n",
       "      <th>0</th>\n",
       "      <td>chr1</td>\n",
       "      <td>1636440</td>\n",
       "      <td>.</td>\n",
       "      <td>G</td>\n",
       "      <td>A</td>\n",
       "      <td>286</td>\n",
       "      <td>PASS</td>\n",
       "      <td>SAMPLE=VE_22241;TYPE=SNV;DP=1261;VD=217;AF=0.1...</td>\n",
       "      <td>GT:DP:VD:AD:AF:RD:ALD</td>\n",
       "      <td>0/1:1261:217:1044,217:0.1721:443,601:106,111</td>\n",
       "    </tr>\n",
       "    <tr>\n",
       "      <th>1</th>\n",
       "      <td>chr1</td>\n",
       "      <td>6249979</td>\n",
       "      <td>.</td>\n",
       "      <td>G</td>\n",
       "      <td>T</td>\n",
       "      <td>103</td>\n",
       "      <td>PASS</td>\n",
       "      <td>SAMPLE=VE_22241;TYPE=SNV;DP=44;VD=7;AF=0.1591;...</td>\n",
       "      <td>GT:DP:VD:AD:AF:RD:ALD</td>\n",
       "      <td>0/1:44:7:37,7:0.1591:20,17:3,4</td>\n",
       "    </tr>\n",
       "  </tbody>\n",
       "</table>\n",
       "</div>"
      ],
      "text/plain": [
       "    Chr    Start ID Ref Alt  Otherinfo9 Otherinfo10  \\\n",
       "0  chr1  1636440  .   G   A         286        PASS   \n",
       "1  chr1  6249979  .   G   T         103        PASS   \n",
       "\n",
       "                                         Otherinfo11            Otherinfo12  \\\n",
       "0  SAMPLE=VE_22241;TYPE=SNV;DP=1261;VD=217;AF=0.1...  GT:DP:VD:AD:AF:RD:ALD   \n",
       "1  SAMPLE=VE_22241;TYPE=SNV;DP=44;VD=7;AF=0.1591;...  GT:DP:VD:AD:AF:RD:ALD   \n",
       "\n",
       "                                    Otherinfo13  \n",
       "0  0/1:1261:217:1044,217:0.1721:443,601:106,111  \n",
       "1                0/1:44:7:37,7:0.1591:20,17:3,4  "
      ]
     },
     "metadata": {},
     "output_type": "display_data"
    }
   ],
   "source": [
    "pv_df = pd.read_excel(\"results/VE_22241_VE_22243.xlsx\")\n",
    "test = remove_columns(pv_df)\n",
    "pv_df = pv_df.drop(columns=[\"Sample ID\", \"End\", \"Func.refGene\", \"Gene.refGene\", \"GeneDetail.refGene\", \"ExonicFunc.refGene\", \"AAChange.refGene\", \"Otherinfo1\", \"Otherinfo2\", \"Otherinfo3\", \"Otherinfo4\", \"Otherinfo5\", \"Otherinfo6\", \"Otherinfo7\", \"Otherinfo8\", ])\n",
    "pv_df.insert(2, \"ID\", ['.'] * len(pv_df.index))\n",
    "\n",
    "pd.set_option(\"display.max_rows\", None, \"display.max_columns\", None)\n",
    "display(pv_df[:2])\n",
    "\n",
    "display(test[:2])"
   ]
  },
  {
   "cell_type": "code",
   "execution_count": 7,
   "id": "345caeb5",
   "metadata": {
    "ExecuteTime": {
     "end_time": "2021-09-21T06:58:58.354454Z",
     "start_time": "2021-09-21T06:58:58.350448Z"
    }
   },
   "outputs": [],
   "source": [
    "def rename_headers(dataframe, var):\n",
    "    # change ve22254\n",
    "    dataframe.rename(columns={'Chr': '#CHROM', 'Start': 'POS', 'Ref': \"REF\", \"Alt\": \"ALT\", \"Otherinfo9\": \"QUAL\", \"Otherinfo10\": \"FILTER\", \"Otherinfo11\": \"INFO\", \"Otherinfo12\": \"FORMAT\", \"Otherinfo13\": \"VE_\"+ var}, inplace=True)\n",
    "    return dataframe"
   ]
  },
  {
   "cell_type": "code",
   "execution_count": 8,
   "id": "bb6ec0a9",
   "metadata": {
    "ExecuteTime": {
     "end_time": "2021-09-21T06:58:59.272481Z",
     "start_time": "2021-09-21T06:58:58.501492Z"
    }
   },
   "outputs": [],
   "source": [
    "# sub_name must be p-v or v-p\n",
    "def create_vcf(sub_name):\n",
    "    \n",
    "    df = pd.read_excel(file_name, sheet_name=sub_name + \" \" + variant)\n",
    "    \n",
    "    df = remove_columns(df)\n",
    "    df = rename_headers(df, variant)\n",
    "    \n",
    "    vcf_filename = parent + \"_\" + variant + \"_\" + sub_name + \".vcf\"\n",
    "    \n",
    "    with open(vcf_filename, 'w') as vcf:\n",
    "        vcf.write(header)\n",
    "        \n",
    "    df.to_csv(vcf_filename, sep=\"\\t\", mode='a', index=False)\n",
    "    return None"
   ]
  },
  {
   "cell_type": "code",
   "execution_count": null,
   "id": "e98db63b",
   "metadata": {
    "ExecuteTime": {
     "end_time": "2021-09-21T03:28:55.947015Z",
     "start_time": "2021-09-21T03:28:33.970239Z"
    }
   },
   "outputs": [],
   "source": [
    "for x in range(3):\n",
    "    for y in range(4):\n",
    "        \n",
    "        parent = ids[x*5]\n",
    "        variant = ids[x*5 + y+1]\n",
    "        \n",
    "        file_name = \"results/VE_\" + parent + \"_VE_\" + variant + \".xlsx\"\n",
    "\n",
    "        create_vcf(\"p-v\")\n",
    "        create_vcf(\"v-p\")"
   ]
  },
  {
   "cell_type": "code",
   "execution_count": 12,
   "id": "8dbd1de7",
   "metadata": {
    "ExecuteTime": {
     "end_time": "2021-09-21T07:00:53.470173Z",
     "start_time": "2021-09-21T07:00:53.239193Z"
    }
   },
   "outputs": [],
   "source": [
    "df = pd.read_excel(\"results/VE_22251_VE_22241.xlsx\", sheet_name=\"variant-parent\")\n",
    "\n",
    "df = remove_columns(df)\n",
    "df = rename_headers(df, \"22241\")\n",
    "\n",
    "vcf_filename = \"VE_22251_VE_22241_v-p.vcf\"\n",
    "\n",
    "with open(vcf_filename, 'w') as vcf:\n",
    "    vcf.write(header)\n",
    "\n",
    "df.to_csv(vcf_filename, sep=\"\\t\", mode='a', index=False)"
   ]
  }
 ],
 "metadata": {
  "kernelspec": {
   "display_name": "Python 3",
   "language": "python",
   "name": "python3"
  },
  "language_info": {
   "codemirror_mode": {
    "name": "ipython",
    "version": 3
   },
   "file_extension": ".py",
   "mimetype": "text/x-python",
   "name": "python",
   "nbconvert_exporter": "python",
   "pygments_lexer": "ipython3",
   "version": "3.9.5"
  }
 },
 "nbformat": 4,
 "nbformat_minor": 5
}
