{
 "cells": [
  {
   "cell_type": "code",
   "execution_count": 129,
   "id": "8e8f1ebd",
   "metadata": {
    "ExecuteTime": {
     "end_time": "2021-08-03T13:53:38.388366Z",
     "start_time": "2021-08-03T13:53:38.365365Z"
    }
   },
   "outputs": [
    {
     "name": "stdout",
     "output_type": "stream",
     "text": [
      "Populating the interactive namespace from numpy and matplotlib\n"
     ]
    }
   ],
   "source": [
    "import pandas as pd\n",
    "import numpy as np\n",
    "from numba import njit, jit\n",
    "%pylab inline"
   ]
  },
  {
   "cell_type": "code",
   "execution_count": 24,
   "id": "1343a0d4",
   "metadata": {
    "ExecuteTime": {
     "end_time": "2021-08-03T00:54:08.419662Z",
     "start_time": "2021-08-03T00:54:08.415655Z"
    }
   },
   "outputs": [],
   "source": [
    "# if last val of chunk is smaller than first val of chunk, its a new chromosome w new starts\n",
    "# max of array is index of new chromomsome\n",
    "# NOT A GOOD FUNCTION EVEN WITH NJIT BC TIME TO READ CHUNK OUTWEIGHS MOST\n",
    "@njit\n",
    "def new_chr(arr):\n",
    "    if arr[-1] < arr[0]:\n",
    "        inv_arr = arr[::-1]\n",
    "        # max of the chunk will be index of the end of the chromosome\n",
    "        return len(inv_arr) - np.argmax(inv_arr) - 1"
   ]
  },
  {
   "cell_type": "code",
   "execution_count": null,
   "id": "caf921c4",
   "metadata": {
    "ExecuteTime": {
     "end_time": "2021-08-03T01:41:54.346195Z",
     "start_time": "2021-08-03T01:40:26.891429Z"
    },
    "collapsed": true
   },
   "outputs": [],
   "source": [
    "chunksize=10**6\n",
    "for index, chunk in enumerate(pd.read_csv(\"databases/hg38_exac03.txt\", sep='\\t', usecols=[1], chunksize=chunksize)):#, dtype={\"Start\":\"int\"})):\n",
    "    # index of all the starts per chunk\n",
    "    idx_arr = chunk[\"Start\"].to_numpy()\n",
    "    # if last val of chunk is smaller than first val of chunk, its a new chromosome w new starts\n",
    "    result = new_chr(idx_arr)\n",
    "    if result != None:\n",
    "        print(result + index * chunksize)\n",
    "        break\n",
    "        \n",
    "print('Change chunksize for smaller files, remove [\"Start\"] for undefined columns')\n",
    "#     if idx_arr[-1] < idx_arr[0]:\n",
    "#         max of the chunk will be index of the end of the chromosome\n",
    "#         print(np.amax(idx_arr))"
   ]
  },
  {
   "cell_type": "code",
   "execution_count": 89,
   "id": "ba020322",
   "metadata": {
    "ExecuteTime": {
     "end_time": "2021-08-03T13:28:52.963752Z",
     "start_time": "2021-08-03T13:28:52.954741Z"
    }
   },
   "outputs": [],
   "source": [
    "def sep_int(raw_int: int) -> str:\n",
    "    return f'{raw_int:_}'"
   ]
  },
  {
   "cell_type": "code",
   "execution_count": 147,
   "id": "10bce36f",
   "metadata": {
    "ExecuteTime": {
     "end_time": "2021-08-03T15:42:21.967689Z",
     "start_time": "2021-08-03T15:42:21.959687Z"
    }
   },
   "outputs": [],
   "source": [
    "def exacfunc(prev_idx: int) -> int:\n",
    "    chunksize=10**5\n",
    "    # index + 1 so it begins at new chromosome\n",
    "    for index, chunk in enumerate(pd.read_csv(\"databases/hg38_mcap.txt\", squeeze=True, sep='\\t', usecols=[1], skiprows=prev_idx, chunksize=chunksize)):#, dtype={\"Start\":\"int\"})):\n",
    "        # index of all the starts per chunk\n",
    "        idx_arr = chunk.to_numpy()\n",
    "        # if last val of chunk is smaller than first val of chunk, its a new chromosome w new starts\n",
    "        result = new_chr(idx_arr)\n",
    "        if result != None:\n",
    "            # +1 because of indexing in pandas\n",
    "            return sep_int(result + prev_idx + index * chunksize + 1)\n",
    "\n",
    "    return 'Change chunksize for smaller files, remove [\"Start\"] for undefined columns'\n",
    "#     if idx_arr[-1] < idx_arr[0]:\n",
    "#         max of the chunk will be index of the end of the chromosome\n",
    "#         print(np.amax(idx_arr))"
   ]
  },
  {
   "cell_type": "code",
   "execution_count": 143,
   "id": "0ae1a21c",
   "metadata": {
    "ExecuteTime": {
     "end_time": "2021-08-03T15:41:34.030200Z",
     "start_time": "2021-08-03T15:41:32.779594Z"
    }
   },
   "outputs": [],
   "source": [
    "def exacfunc_all(num_chr: int) -> list:\n",
    "    total_list = []\n",
    "    curr_num = 1\n",
    "    for x in range(num_chr):\n",
    "        exac_output = exacfunc(curr_num)\n",
    "        total_list.append(\"Chr%s: %s\" % (x+1, exac_output))\n",
    "        curr_num = int(exac_output) + 1\n",
    "    return total_list"
   ]
  },
  {
   "cell_type": "code",
   "execution_count": 152,
   "id": "6ce6f5cf",
   "metadata": {
    "ExecuteTime": {
     "end_time": "2021-08-03T18:16:19.592318Z",
     "start_time": "2021-08-03T18:16:19.576338Z"
    }
   },
   "outputs": [],
   "source": [
    "output = exacfunc_all(20)\n",
    "for x in output:\n",
    "    print(x)"
   ]
  },
  {
   "cell_type": "code",
   "execution_count": 156,
   "id": "31813dc1",
   "metadata": {
    "ExecuteTime": {
     "end_time": "2021-08-03T18:18:09.246447Z",
     "start_time": "2021-08-03T18:18:00.814312Z"
    }
   },
   "outputs": [
    {
     "data": {
      "text/plain": [
       "'30_951_587'"
      ]
     },
     "execution_count": 156,
     "metadata": {},
     "output_type": "execute_result"
    }
   ],
   "source": [
    "exacfunc(27_518_378 + 1)"
   ]
  }
 ],
 "metadata": {
  "kernelspec": {
   "display_name": "Python 3",
   "language": "python",
   "name": "python3"
  },
  "language_info": {
   "codemirror_mode": {
    "name": "ipython",
    "version": 3
   },
   "file_extension": ".py",
   "mimetype": "text/x-python",
   "name": "python",
   "nbconvert_exporter": "python",
   "pygments_lexer": "ipython3",
   "version": "3.9.5"
  }
 },
 "nbformat": 4,
 "nbformat_minor": 5
}
