{
 "cells": [
  {
   "cell_type": "code",
   "execution_count": 1,
   "id": "79f3a149",
   "metadata": {
    "ExecuteTime": {
     "end_time": "2021-10-07T08:44:30.893025Z",
     "start_time": "2021-10-07T08:44:25.785471Z"
    }
   },
   "outputs": [],
   "source": [
    "import numpy as np\n",
    "import pandas as pd\n",
    "from numba import jit\n",
    "from itertools import compress\n",
    "import os"
   ]
  },
  {
   "cell_type": "code",
   "execution_count": 4,
   "id": "bc929019",
   "metadata": {
    "ExecuteTime": {
     "end_time": "2021-10-07T08:47:27.161904Z",
     "start_time": "2021-10-07T08:47:27.137901Z"
    }
   },
   "outputs": [],
   "source": [
    "def startend(filename, header):\n",
    "    if header:\n",
    "        start = pd.read_csv(filename, sep='\\t', skiprows=1, engine='c', usecols=[1], names=['start'], squeeze=True, dtype={'start':'int'}).to_numpy()\n",
    "        end = pd.read_csv(filename, sep='\\t', skiprows=1, engine='c', usecols=[2], names=['end'], squeeze=True, dtype={'end':'int'}).to_numpy()\n",
    "    else:\n",
    "        start = pd.read_csv(filename, sep='\\t', engine='c', usecols=[1], names=['start'], squeeze=True, dtype={'start':'int'}).to_numpy()\n",
    "        end = pd.read_csv(filename, sep='\\t', engine='c', usecols=[2], names=['end'], squeeze=True, dtype={'end':'int'}).to_numpy()\n",
    "    \n",
    "    subtraction = np.subtract(end, start)  \n",
    "    df = pd.DataFrame({'start':start, 'subtraction':subtraction})\n",
    "    uq_id = pd.Series(df.start.astype(str) + df.subtraction.astype(str)).astype(np.int64).to_numpy()\n",
    "    \n",
    "    return uq_id"
   ]
  },
  {
   "cell_type": "code",
   "execution_count": 5,
   "id": "4db831c9",
   "metadata": {
    "ExecuteTime": {
     "end_time": "2021-10-07T08:47:28.225901Z",
     "start_time": "2021-10-07T08:47:27.273900Z"
    }
   },
   "outputs": [],
   "source": [
    "def refalt(filename, header):\n",
    "    if header:\n",
    "        ref_alt = pd.read_csv(filename, sep='\\t', skiprows=1, engine='c', usecols=[3,4], names=['ref', 'alt'], dtype={'ref':'string','alt':'string'})\n",
    "    else:\n",
    "        ref_alt = pd.read_csv(filename, sep='\\t', engine='c', usecols=[3,4], names=['ref', 'alt'], dtype={'ref':'string','alt':'string'})\n",
    "    \n",
    "    ref_alt['ref'] = ref_alt['ref'].apply(lambda x: sum([ord(i) for i in x]))\n",
    "    ref_alt['alt'] = ref_alt['alt'].apply(lambda x: sum([ord(i) for i in x]))\n",
    "    \n",
    "    uq_id = pd.Series(ref_alt.ref.astype(str) + ref_alt.alt.astype(str)).astype(int).to_numpy()\n",
    "    return uq_id"
   ]
  },
  {
   "cell_type": "code",
   "execution_count": 49,
   "id": "6f3544ef",
   "metadata": {
    "ExecuteTime": {
     "end_time": "2021-10-07T09:41:59.424606Z",
     "start_time": "2021-10-07T09:41:59.392591Z"
    },
    "code_folding": []
   },
   "outputs": [],
   "source": [
    "# start end ref alt = sera\n",
    "def sera(filename, header):\n",
    "    \n",
    "    if header:\n",
    "        start = pd.read_csv(filename, sep='\\t', skiprows=1, engine='c', usecols=[1], names=['start'], squeeze=True, dtype={'start':'int'}).to_numpy()\n",
    "        end = pd.read_csv(filename, sep='\\t', skiprows=1, engine='c', usecols=[2], names=['end'], squeeze=True, dtype={'end':'int'}).to_numpy()\n",
    "        ref_alt = pd.read_csv(filename, sep='\\t', skiprows=1, engine='c', usecols=[3,4], names=['ref', 'alt'], dtype={'ref':'string','alt':'string'})\n",
    "    else:\n",
    "        start = pd.read_csv(filename, sep='\\t', engine='c', usecols=[1], names=['start'], squeeze=True, dtype={'start':'int'}).to_numpy()\n",
    "        end = pd.read_csv(filename, sep='\\t', engine='c', usecols=[2], names=['end'], squeeze=True, dtype={'end':'int'}).to_numpy()\n",
    "        ref_alt = pd.read_csv(filename, sep='\\t', engine='c', usecols=[3,4], names=['ref', 'alt'], dtype={'ref':'string','alt':'string'})\n",
    "    \n",
    "    subtraction = np.subtract(end, start)  \n",
    "    df = pd.DataFrame({'start':start, 'subtraction':subtraction})\n",
    "    uq_id = pd.Series(df.start.astype(str) + df.subtraction.astype(str)).astype(np.int64).to_numpy()\n",
    "    del df\n",
    "    \n",
    "    ref_alt['ref'] = ref_alt['ref'].apply(lambda x: sum([ord(i) for i in x]))\n",
    "    ref_alt['alt'] = ref_alt['alt'].apply(lambda x: sum([ord(i) for i in x]))\n",
    "    \n",
    "    uq_id2 = pd.Series(ref_alt.ref.astype(str) + ref_alt.alt.astype(str)).astype(np.longlong).to_numpy()\n",
    "    \n",
    "    df = pd.DataFrame({'startend':uq_id, 'refalt':uq_id2})\n",
    "    uq_id3 = pd.Series(df.startend.astype(str) + df.refalt.astype(str)).astype(np.longlong).to_numpy()\n",
    "    \n",
    "    return uq_id3"
   ]
  },
  {
   "cell_type": "code",
   "execution_count": 46,
   "id": "ba36b5f1",
   "metadata": {
    "ExecuteTime": {
     "end_time": "2021-10-07T09:38:58.365812Z",
     "start_time": "2021-10-07T09:38:57.995346Z"
    }
   },
   "outputs": [],
   "source": [
    "def subtraction(first, second):\n",
    "    return np.in1d(first, second)"
   ]
  },
  {
   "cell_type": "code",
   "execution_count": 13,
   "id": "b69eb7d9",
   "metadata": {
    "ExecuteTime": {
     "end_time": "2021-10-07T09:05:38.008840Z",
     "start_time": "2021-10-07T09:05:34.192892Z"
    }
   },
   "outputs": [
    {
     "name": "stdout",
     "output_type": "stream",
     "text": [
      "[    654330     659990     695690 ... 2489181120 2489181290 2489182500]\n",
      "[    660190    4507500    4511090 ... 2489177310 2489183000 2489184960]\n"
     ]
    }
   ],
   "source": [
    "# test anno is 22249/ pci variant, 2 is 22246/ pci parent\n",
    "uq_startend = startend('test_anno.txt', True)\n",
    "uq_startend2 = startend('test_anno2.txt', True)\n",
    "print(uq_startend)\n",
    "print(uq_startend2)"
   ]
  },
  {
   "cell_type": "code",
   "execution_count": 14,
   "id": "2f238dc7",
   "metadata": {
    "ExecuteTime": {
     "end_time": "2021-10-07T09:06:06.505436Z",
     "start_time": "2021-10-07T09:06:03.330828Z"
    }
   },
   "outputs": [
    {
     "name": "stdout",
     "output_type": "stream",
     "text": [
      "[7184 7184 8465 ... 6765 6765 6765]\n",
      "[6571 6784 7165 ... 6765 6765 6784]\n"
     ]
    }
   ],
   "source": [
    "uq_refalt = refalt('test_anno.txt', True)\n",
    "uq_refalt2 = refalt('test_anno2.txt', True)\n",
    "print(uq_refalt)\n",
    "print(uq_refalt2)"
   ]
  },
  {
   "cell_type": "code",
   "execution_count": 39,
   "id": "32d38222",
   "metadata": {
    "ExecuteTime": {
     "end_time": "2021-10-07T09:24:38.703277Z",
     "start_time": "2021-10-07T09:24:38.639304Z"
    }
   },
   "outputs": [
    {
     "name": "stdout",
     "output_type": "stream",
     "text": [
      "157598\n",
      "33258\n"
     ]
    }
   ],
   "source": [
    "startend_sub = subtraction(uq_startend, uq_startend2)\n",
    "print(np.size(startend_sub))\n",
    "print(np.count_nonzero(startend_sub)) # true count"
   ]
  },
  {
   "cell_type": "code",
   "execution_count": 40,
   "id": "4e0355f9",
   "metadata": {
    "ExecuteTime": {
     "end_time": "2021-10-07T09:24:43.043044Z",
     "start_time": "2021-10-07T09:24:43.003016Z"
    }
   },
   "outputs": [
    {
     "name": "stdout",
     "output_type": "stream",
     "text": [
      "157598\n",
      "156699\n"
     ]
    }
   ],
   "source": [
    "refalt_sub = subtraction(uq_refalt, uq_refalt2)\n",
    "print(np.size(refalt_sub))\n",
    "print(np.count_nonzero(refalt_sub))"
   ]
  },
  {
   "cell_type": "code",
   "execution_count": 38,
   "id": "8fc6026a",
   "metadata": {
    "ExecuteTime": {
     "end_time": "2021-10-07T09:24:10.380384Z",
     "start_time": "2021-10-07T09:24:10.356391Z"
    }
   },
   "outputs": [
    {
     "name": "stdout",
     "output_type": "stream",
     "text": [
      "[ True  True  True  True  True  True  True  True  True  True]\n",
      "[False False False False False False  True  True  True  True]\n",
      "[False False False False False False  True  True  True  True]\n",
      "6\n"
     ]
    }
   ],
   "source": [
    "print(refalt_sub[:10])\n",
    "print(startend_sub[:10])\n",
    "print(valid := np.logical_and(refalt_sub[:10], startend_sub[:10]))\n",
    "print(np.size(valid) - np.count_nonzero(valid))"
   ]
  },
  {
   "cell_type": "code",
   "execution_count": 42,
   "id": "a51bf432",
   "metadata": {
    "ExecuteTime": {
     "end_time": "2021-10-07T09:36:56.699853Z",
     "start_time": "2021-10-07T09:36:56.691871Z"
    }
   },
   "outputs": [
    {
     "name": "stdout",
     "output_type": "stream",
     "text": [
      "33239\n"
     ]
    }
   ],
   "source": [
    "# intersect boolean arrays... doesnt work bc all refalt nonunique\n",
    "intersect_sub = np.logical_and(refalt_sub, startend_sub)\n",
    "print(np.count_nonzero(intersect_sub))"
   ]
  },
  {
   "cell_type": "code",
   "execution_count": 50,
   "id": "a5e5cca5",
   "metadata": {
    "ExecuteTime": {
     "end_time": "2021-10-07T09:42:07.165314Z",
     "start_time": "2021-10-07T09:42:02.621326Z"
    }
   },
   "outputs": [
    {
     "ename": "OverflowError",
     "evalue": "int too big to convert",
     "output_type": "error",
     "traceback": [
      "\u001b[1;31m---------------------------------------------------------------------------\u001b[0m",
      "\u001b[1;31mOverflowError\u001b[0m                             Traceback (most recent call last)",
      "\u001b[1;32m<ipython-input-50-570263ac28ff>\u001b[0m in \u001b[0;36m<module>\u001b[1;34m\u001b[0m\n\u001b[1;32m----> 1\u001b[1;33m \u001b[0mcorr_uq\u001b[0m \u001b[1;33m=\u001b[0m \u001b[0msera\u001b[0m\u001b[1;33m(\u001b[0m\u001b[1;34m'test_anno.txt'\u001b[0m\u001b[1;33m,\u001b[0m \u001b[1;32mTrue\u001b[0m\u001b[1;33m)\u001b[0m\u001b[1;33m\u001b[0m\u001b[1;33m\u001b[0m\u001b[0m\n\u001b[0m\u001b[0;32m      2\u001b[0m \u001b[0mcorr_uq2\u001b[0m \u001b[1;33m=\u001b[0m \u001b[0msera\u001b[0m\u001b[1;33m(\u001b[0m\u001b[1;34m'test_anno2.txt'\u001b[0m\u001b[1;33m,\u001b[0m \u001b[1;32mTrue\u001b[0m\u001b[1;33m)\u001b[0m\u001b[1;33m\u001b[0m\u001b[1;33m\u001b[0m\u001b[0m\n\u001b[0;32m      3\u001b[0m \u001b[0mprint\u001b[0m\u001b[1;33m(\u001b[0m\u001b[0mcorr_uq\u001b[0m\u001b[1;33m)\u001b[0m\u001b[1;33m\u001b[0m\u001b[1;33m\u001b[0m\u001b[0m\n\u001b[0;32m      4\u001b[0m \u001b[0mprint\u001b[0m\u001b[1;33m(\u001b[0m\u001b[0mcorr_uq2\u001b[0m\u001b[1;33m)\u001b[0m\u001b[1;33m\u001b[0m\u001b[1;33m\u001b[0m\u001b[0m\n",
      "\u001b[1;32m<ipython-input-49-4f4ee2b5ea82>\u001b[0m in \u001b[0;36msera\u001b[1;34m(filename, header)\u001b[0m\n\u001b[0;32m     22\u001b[0m \u001b[1;33m\u001b[0m\u001b[0m\n\u001b[0;32m     23\u001b[0m     \u001b[0mdf\u001b[0m \u001b[1;33m=\u001b[0m \u001b[0mpd\u001b[0m\u001b[1;33m.\u001b[0m\u001b[0mDataFrame\u001b[0m\u001b[1;33m(\u001b[0m\u001b[1;33m{\u001b[0m\u001b[1;34m'startend'\u001b[0m\u001b[1;33m:\u001b[0m\u001b[0muq_id\u001b[0m\u001b[1;33m,\u001b[0m \u001b[1;34m'refalt'\u001b[0m\u001b[1;33m:\u001b[0m\u001b[0muq_id2\u001b[0m\u001b[1;33m}\u001b[0m\u001b[1;33m)\u001b[0m\u001b[1;33m\u001b[0m\u001b[1;33m\u001b[0m\u001b[0m\n\u001b[1;32m---> 24\u001b[1;33m     \u001b[0muq_id3\u001b[0m \u001b[1;33m=\u001b[0m \u001b[0mpd\u001b[0m\u001b[1;33m.\u001b[0m\u001b[0mSeries\u001b[0m\u001b[1;33m(\u001b[0m\u001b[0mdf\u001b[0m\u001b[1;33m.\u001b[0m\u001b[0mstartend\u001b[0m\u001b[1;33m.\u001b[0m\u001b[0mastype\u001b[0m\u001b[1;33m(\u001b[0m\u001b[0mstr\u001b[0m\u001b[1;33m)\u001b[0m \u001b[1;33m+\u001b[0m \u001b[0mdf\u001b[0m\u001b[1;33m.\u001b[0m\u001b[0mrefalt\u001b[0m\u001b[1;33m.\u001b[0m\u001b[0mastype\u001b[0m\u001b[1;33m(\u001b[0m\u001b[0mstr\u001b[0m\u001b[1;33m)\u001b[0m\u001b[1;33m)\u001b[0m\u001b[1;33m.\u001b[0m\u001b[0mastype\u001b[0m\u001b[1;33m(\u001b[0m\u001b[0mnp\u001b[0m\u001b[1;33m.\u001b[0m\u001b[0mlonglong\u001b[0m\u001b[1;33m)\u001b[0m\u001b[1;33m.\u001b[0m\u001b[0mto_numpy\u001b[0m\u001b[1;33m(\u001b[0m\u001b[1;33m)\u001b[0m\u001b[1;33m\u001b[0m\u001b[1;33m\u001b[0m\u001b[0m\n\u001b[0m\u001b[0;32m     25\u001b[0m \u001b[1;33m\u001b[0m\u001b[0m\n\u001b[0;32m     26\u001b[0m     \u001b[1;32mreturn\u001b[0m \u001b[0muq_id3\u001b[0m\u001b[1;33m\u001b[0m\u001b[1;33m\u001b[0m\u001b[0m\n",
      "\u001b[1;32mc:\\users\\kazij\\appdata\\local\\programs\\python\\python39\\lib\\site-packages\\pandas\\core\\generic.py\u001b[0m in \u001b[0;36mastype\u001b[1;34m(self, dtype, copy, errors)\u001b[0m\n\u001b[0;32m   5875\u001b[0m         \u001b[1;32melse\u001b[0m\u001b[1;33m:\u001b[0m\u001b[1;33m\u001b[0m\u001b[1;33m\u001b[0m\u001b[0m\n\u001b[0;32m   5876\u001b[0m             \u001b[1;31m# else, only a single dtype is given\u001b[0m\u001b[1;33m\u001b[0m\u001b[1;33m\u001b[0m\u001b[1;33m\u001b[0m\u001b[0m\n\u001b[1;32m-> 5877\u001b[1;33m             \u001b[0mnew_data\u001b[0m \u001b[1;33m=\u001b[0m \u001b[0mself\u001b[0m\u001b[1;33m.\u001b[0m\u001b[0m_mgr\u001b[0m\u001b[1;33m.\u001b[0m\u001b[0mastype\u001b[0m\u001b[1;33m(\u001b[0m\u001b[0mdtype\u001b[0m\u001b[1;33m=\u001b[0m\u001b[0mdtype\u001b[0m\u001b[1;33m,\u001b[0m \u001b[0mcopy\u001b[0m\u001b[1;33m=\u001b[0m\u001b[0mcopy\u001b[0m\u001b[1;33m,\u001b[0m \u001b[0merrors\u001b[0m\u001b[1;33m=\u001b[0m\u001b[0merrors\u001b[0m\u001b[1;33m)\u001b[0m\u001b[1;33m\u001b[0m\u001b[1;33m\u001b[0m\u001b[0m\n\u001b[0m\u001b[0;32m   5878\u001b[0m             \u001b[1;32mreturn\u001b[0m \u001b[0mself\u001b[0m\u001b[1;33m.\u001b[0m\u001b[0m_constructor\u001b[0m\u001b[1;33m(\u001b[0m\u001b[0mnew_data\u001b[0m\u001b[1;33m)\u001b[0m\u001b[1;33m.\u001b[0m\u001b[0m__finalize__\u001b[0m\u001b[1;33m(\u001b[0m\u001b[0mself\u001b[0m\u001b[1;33m,\u001b[0m \u001b[0mmethod\u001b[0m\u001b[1;33m=\u001b[0m\u001b[1;34m\"astype\"\u001b[0m\u001b[1;33m)\u001b[0m\u001b[1;33m\u001b[0m\u001b[1;33m\u001b[0m\u001b[0m\n\u001b[0;32m   5879\u001b[0m \u001b[1;33m\u001b[0m\u001b[0m\n",
      "\u001b[1;32mc:\\users\\kazij\\appdata\\local\\programs\\python\\python39\\lib\\site-packages\\pandas\\core\\internals\\managers.py\u001b[0m in \u001b[0;36mastype\u001b[1;34m(self, dtype, copy, errors)\u001b[0m\n\u001b[0;32m    629\u001b[0m         \u001b[0mself\u001b[0m\u001b[1;33m,\u001b[0m \u001b[0mdtype\u001b[0m\u001b[1;33m,\u001b[0m \u001b[0mcopy\u001b[0m\u001b[1;33m:\u001b[0m \u001b[0mbool\u001b[0m \u001b[1;33m=\u001b[0m \u001b[1;32mFalse\u001b[0m\u001b[1;33m,\u001b[0m \u001b[0merrors\u001b[0m\u001b[1;33m:\u001b[0m \u001b[0mstr\u001b[0m \u001b[1;33m=\u001b[0m \u001b[1;34m\"raise\"\u001b[0m\u001b[1;33m\u001b[0m\u001b[1;33m\u001b[0m\u001b[0m\n\u001b[0;32m    630\u001b[0m     ) -> \"BlockManager\":\n\u001b[1;32m--> 631\u001b[1;33m         \u001b[1;32mreturn\u001b[0m \u001b[0mself\u001b[0m\u001b[1;33m.\u001b[0m\u001b[0mapply\u001b[0m\u001b[1;33m(\u001b[0m\u001b[1;34m\"astype\"\u001b[0m\u001b[1;33m,\u001b[0m \u001b[0mdtype\u001b[0m\u001b[1;33m=\u001b[0m\u001b[0mdtype\u001b[0m\u001b[1;33m,\u001b[0m \u001b[0mcopy\u001b[0m\u001b[1;33m=\u001b[0m\u001b[0mcopy\u001b[0m\u001b[1;33m,\u001b[0m \u001b[0merrors\u001b[0m\u001b[1;33m=\u001b[0m\u001b[0merrors\u001b[0m\u001b[1;33m)\u001b[0m\u001b[1;33m\u001b[0m\u001b[1;33m\u001b[0m\u001b[0m\n\u001b[0m\u001b[0;32m    632\u001b[0m \u001b[1;33m\u001b[0m\u001b[0m\n\u001b[0;32m    633\u001b[0m     def convert(\n",
      "\u001b[1;32mc:\\users\\kazij\\appdata\\local\\programs\\python\\python39\\lib\\site-packages\\pandas\\core\\internals\\managers.py\u001b[0m in \u001b[0;36mapply\u001b[1;34m(self, f, align_keys, ignore_failures, **kwargs)\u001b[0m\n\u001b[0;32m    425\u001b[0m                     \u001b[0mapplied\u001b[0m \u001b[1;33m=\u001b[0m \u001b[0mb\u001b[0m\u001b[1;33m.\u001b[0m\u001b[0mapply\u001b[0m\u001b[1;33m(\u001b[0m\u001b[0mf\u001b[0m\u001b[1;33m,\u001b[0m \u001b[1;33m**\u001b[0m\u001b[0mkwargs\u001b[0m\u001b[1;33m)\u001b[0m\u001b[1;33m\u001b[0m\u001b[1;33m\u001b[0m\u001b[0m\n\u001b[0;32m    426\u001b[0m                 \u001b[1;32melse\u001b[0m\u001b[1;33m:\u001b[0m\u001b[1;33m\u001b[0m\u001b[1;33m\u001b[0m\u001b[0m\n\u001b[1;32m--> 427\u001b[1;33m                     \u001b[0mapplied\u001b[0m \u001b[1;33m=\u001b[0m \u001b[0mgetattr\u001b[0m\u001b[1;33m(\u001b[0m\u001b[0mb\u001b[0m\u001b[1;33m,\u001b[0m \u001b[0mf\u001b[0m\u001b[1;33m)\u001b[0m\u001b[1;33m(\u001b[0m\u001b[1;33m**\u001b[0m\u001b[0mkwargs\u001b[0m\u001b[1;33m)\u001b[0m\u001b[1;33m\u001b[0m\u001b[1;33m\u001b[0m\u001b[0m\n\u001b[0m\u001b[0;32m    428\u001b[0m             \u001b[1;32mexcept\u001b[0m \u001b[1;33m(\u001b[0m\u001b[0mTypeError\u001b[0m\u001b[1;33m,\u001b[0m \u001b[0mNotImplementedError\u001b[0m\u001b[1;33m)\u001b[0m\u001b[1;33m:\u001b[0m\u001b[1;33m\u001b[0m\u001b[1;33m\u001b[0m\u001b[0m\n\u001b[0;32m    429\u001b[0m                 \u001b[1;32mif\u001b[0m \u001b[1;32mnot\u001b[0m \u001b[0mignore_failures\u001b[0m\u001b[1;33m:\u001b[0m\u001b[1;33m\u001b[0m\u001b[1;33m\u001b[0m\u001b[0m\n",
      "\u001b[1;32mc:\\users\\kazij\\appdata\\local\\programs\\python\\python39\\lib\\site-packages\\pandas\\core\\internals\\blocks.py\u001b[0m in \u001b[0;36mastype\u001b[1;34m(self, dtype, copy, errors)\u001b[0m\n\u001b[0;32m    671\u001b[0m             \u001b[0mvals1d\u001b[0m \u001b[1;33m=\u001b[0m \u001b[0mvalues\u001b[0m\u001b[1;33m.\u001b[0m\u001b[0mravel\u001b[0m\u001b[1;33m(\u001b[0m\u001b[1;33m)\u001b[0m\u001b[1;33m\u001b[0m\u001b[1;33m\u001b[0m\u001b[0m\n\u001b[0;32m    672\u001b[0m             \u001b[1;32mtry\u001b[0m\u001b[1;33m:\u001b[0m\u001b[1;33m\u001b[0m\u001b[1;33m\u001b[0m\u001b[0m\n\u001b[1;32m--> 673\u001b[1;33m                 \u001b[0mvalues\u001b[0m \u001b[1;33m=\u001b[0m \u001b[0mastype_nansafe\u001b[0m\u001b[1;33m(\u001b[0m\u001b[0mvals1d\u001b[0m\u001b[1;33m,\u001b[0m \u001b[0mdtype\u001b[0m\u001b[1;33m,\u001b[0m \u001b[0mcopy\u001b[0m\u001b[1;33m=\u001b[0m\u001b[1;32mTrue\u001b[0m\u001b[1;33m)\u001b[0m\u001b[1;33m\u001b[0m\u001b[1;33m\u001b[0m\u001b[0m\n\u001b[0m\u001b[0;32m    674\u001b[0m             \u001b[1;32mexcept\u001b[0m \u001b[1;33m(\u001b[0m\u001b[0mValueError\u001b[0m\u001b[1;33m,\u001b[0m \u001b[0mTypeError\u001b[0m\u001b[1;33m)\u001b[0m\u001b[1;33m:\u001b[0m\u001b[1;33m\u001b[0m\u001b[1;33m\u001b[0m\u001b[0m\n\u001b[0;32m    675\u001b[0m                 \u001b[1;31m# e.g. astype_nansafe can fail on object-dtype of strings\u001b[0m\u001b[1;33m\u001b[0m\u001b[1;33m\u001b[0m\u001b[1;33m\u001b[0m\u001b[0m\n",
      "\u001b[1;32mc:\\users\\kazij\\appdata\\local\\programs\\python\\python39\\lib\\site-packages\\pandas\\core\\dtypes\\cast.py\u001b[0m in \u001b[0;36mastype_nansafe\u001b[1;34m(arr, dtype, copy, skipna)\u001b[0m\n\u001b[0;32m   1072\u001b[0m         \u001b[1;31m# work around NumPy brokenness, #1987\u001b[0m\u001b[1;33m\u001b[0m\u001b[1;33m\u001b[0m\u001b[1;33m\u001b[0m\u001b[0m\n\u001b[0;32m   1073\u001b[0m         \u001b[1;32mif\u001b[0m \u001b[0mnp\u001b[0m\u001b[1;33m.\u001b[0m\u001b[0missubdtype\u001b[0m\u001b[1;33m(\u001b[0m\u001b[0mdtype\u001b[0m\u001b[1;33m.\u001b[0m\u001b[0mtype\u001b[0m\u001b[1;33m,\u001b[0m \u001b[0mnp\u001b[0m\u001b[1;33m.\u001b[0m\u001b[0minteger\u001b[0m\u001b[1;33m)\u001b[0m\u001b[1;33m:\u001b[0m\u001b[1;33m\u001b[0m\u001b[1;33m\u001b[0m\u001b[0m\n\u001b[1;32m-> 1074\u001b[1;33m             \u001b[1;32mreturn\u001b[0m \u001b[0mlib\u001b[0m\u001b[1;33m.\u001b[0m\u001b[0mastype_intsafe\u001b[0m\u001b[1;33m(\u001b[0m\u001b[0marr\u001b[0m\u001b[1;33m.\u001b[0m\u001b[0mravel\u001b[0m\u001b[1;33m(\u001b[0m\u001b[1;33m)\u001b[0m\u001b[1;33m,\u001b[0m \u001b[0mdtype\u001b[0m\u001b[1;33m)\u001b[0m\u001b[1;33m.\u001b[0m\u001b[0mreshape\u001b[0m\u001b[1;33m(\u001b[0m\u001b[0marr\u001b[0m\u001b[1;33m.\u001b[0m\u001b[0mshape\u001b[0m\u001b[1;33m)\u001b[0m\u001b[1;33m\u001b[0m\u001b[1;33m\u001b[0m\u001b[0m\n\u001b[0m\u001b[0;32m   1075\u001b[0m \u001b[1;33m\u001b[0m\u001b[0m\n\u001b[0;32m   1076\u001b[0m         \u001b[1;31m# if we have a datetime/timedelta array of objects\u001b[0m\u001b[1;33m\u001b[0m\u001b[1;33m\u001b[0m\u001b[1;33m\u001b[0m\u001b[0m\n",
      "\u001b[1;32mpandas\\_libs\\lib.pyx\u001b[0m in \u001b[0;36mpandas._libs.lib.astype_intsafe\u001b[1;34m()\u001b[0m\n",
      "\u001b[1;31mOverflowError\u001b[0m: int too big to convert"
     ]
    }
   ],
   "source": [
    "corr_uq = sera('test_anno.txt', True)\n",
    "corr_uq2 = sera('test_anno2.txt', True)\n",
    "print(corr_uq)\n",
    "print(corr_uq2)"
   ]
  }
 ],
 "metadata": {
  "kernelspec": {
   "display_name": "Python 3",
   "language": "python",
   "name": "python3"
  },
  "language_info": {
   "codemirror_mode": {
    "name": "ipython",
    "version": 3
   },
   "file_extension": ".py",
   "mimetype": "text/x-python",
   "name": "python",
   "nbconvert_exporter": "python",
   "pygments_lexer": "ipython3",
   "version": "3.9.5"
  }
 },
 "nbformat": 4,
 "nbformat_minor": 5
}
