{
 "cells": [
  {
   "cell_type": "code",
   "execution_count": 251,
   "id": "6b1f13e9",
   "metadata": {
    "ExecuteTime": {
     "end_time": "2021-08-01T22:01:29.894886Z",
     "start_time": "2021-08-01T22:01:29.881903Z"
    }
   },
   "outputs": [
    {
     "name": "stdout",
     "output_type": "stream",
     "text": [
      "Populating the interactive namespace from numpy and matplotlib\n"
     ]
    }
   ],
   "source": [
    "import pandas as pd\n",
    "import numpy as np\n",
    "from numba import njit\n",
    "import lzma\n",
    "import os\n",
    "%pylab inline"
   ]
  },
  {
   "cell_type": "code",
   "execution_count": 86,
   "id": "ea40cf7a",
   "metadata": {
    "ExecuteTime": {
     "end_time": "2021-07-31T20:39:50.424748Z",
     "start_time": "2021-07-31T20:39:50.416776Z"
    }
   },
   "outputs": [],
   "source": [
    "@njit\n",
    "def binsearch(arr, low, high, x):\n",
    "    if high >= low:\n",
    "        mid = (high + low) // 2\n",
    "        if arr[mid] == x:\n",
    "            return mid\n",
    "        elif arr[mid] > x:\n",
    "            return binsearch(arr, low, mid-1, x)\n",
    "        else:\n",
    "            return binsearch(arr, mid+1, high, x)\n",
    "    else:\n",
    "        return -1"
   ]
  },
  {
   "cell_type": "code",
   "execution_count": 222,
   "id": "512342ad",
   "metadata": {
    "ExecuteTime": {
     "end_time": "2021-08-01T17:40:49.135669Z",
     "start_time": "2021-08-01T17:40:49.125676Z"
    }
   },
   "outputs": [],
   "source": [
    "# binsearch every value in array f inside array s (f - find these values in s - array to search)\n",
    "# find values 0-1000 inclusive inside array of 0-1000 exclusive (to test -1 output)\n",
    "arr_s = np.arange(1_000_000)\n",
    "arr_f = np.arange(1_001_000)"
   ]
  },
  {
   "cell_type": "code",
   "execution_count": 174,
   "id": "305329cd",
   "metadata": {
    "ExecuteTime": {
     "end_time": "2021-07-31T21:03:19.240456Z",
     "start_time": "2021-07-31T21:03:18.222604Z"
    }
   },
   "outputs": [],
   "source": [
    "for x in arr_f:\n",
    "    idx = binsearch(arr_s, 0, len(arr_s)-1, x)"
   ]
  },
  {
   "cell_type": "code",
   "execution_count": 190,
   "id": "a87c8758",
   "metadata": {
    "ExecuteTime": {
     "end_time": "2021-08-01T17:25:22.620361Z",
     "start_time": "2021-08-01T17:25:22.581368Z"
    }
   },
   "outputs": [],
   "source": [
    "# finds all indexes of inp_arr in db_arr more efficiently than only iterating bin search\n",
    "@njit\n",
    "def partsearch(inp_arr, db_arr):\n",
    "    # idx = 0\n",
    "    for inp in inp_arr:\n",
    "        # idx = binsearch(db_arr[idx:], 0, len(db_arr)- (1 + idx), inp)\n",
    "        binsearch(db_arr, 0, len(db_arr)- 1, inp)"
   ]
  },
  {
   "cell_type": "code",
   "execution_count": 202,
   "id": "2b78f431",
   "metadata": {
    "ExecuteTime": {
     "end_time": "2021-08-01T17:27:26.283703Z",
     "start_time": "2021-08-01T17:27:26.112353Z"
    }
   },
   "outputs": [],
   "source": [
    "partsearch(arr_f, arr_s)"
   ]
  },
  {
   "cell_type": "code",
   "execution_count": 218,
   "id": "7c39eead",
   "metadata": {
    "ExecuteTime": {
     "end_time": "2021-08-01T17:40:32.038888Z",
     "start_time": "2021-08-01T17:40:32.023900Z"
    }
   },
   "outputs": [],
   "source": [
    "@njit\n",
    "def searchs(inp_arr, db_arr):\n",
    "    np.searchsorted(db_arr, inp_arr)"
   ]
  },
  {
   "cell_type": "code",
   "execution_count": 224,
   "id": "250056c0",
   "metadata": {
    "ExecuteTime": {
     "end_time": "2021-08-01T17:40:55.172051Z",
     "start_time": "2021-08-01T17:40:55.107060Z"
    }
   },
   "outputs": [],
   "source": [
    "searchs(arr_s, arr_f)"
   ]
  },
  {
   "cell_type": "code",
   "execution_count": 240,
   "id": "e18d22ae",
   "metadata": {
    "ExecuteTime": {
     "end_time": "2021-08-01T21:47:00.120654Z",
     "start_time": "2021-08-01T21:47:00.098659Z"
    }
   },
   "outputs": [
    {
     "data": {
      "text/plain": [
       "array([ True,  True,  True,  True,  True,  True,  True,  True,  True,\n",
       "        True, False,  True,  True,  True,  True,  True,  True,  True,\n",
       "        True,  True, False,  True,  True,  True,  True,  True,  True,\n",
       "        True,  True,  True, False,  True,  True,  True,  True,  True,\n",
       "        True,  True,  True,  True,  True,  True,  True,  True,  True,\n",
       "        True,  True,  True,  True,  True,  True,  True,  True,  True,\n",
       "        True,  True,  True,  True,  True,  True,  True,  True,  True,\n",
       "        True,  True,  True,  True,  True,  True,  True,  True,  True,\n",
       "        True,  True,  True,  True,  True,  True,  True,  True,  True,\n",
       "        True,  True,  True,  True,  True,  True,  True,  True,  True,\n",
       "        True,  True,  True,  True,  True,  True,  True,  True,  True,\n",
       "        True])"
      ]
     },
     "execution_count": 240,
     "metadata": {},
     "output_type": "execute_result"
    }
   ],
   "source": [
    "# db arr\n",
    "arr_a = np.arange(100)\n",
    "arr_a = np.delete(arr_a,[10,20,30])\n",
    "# inp arr\n",
    "arr_b = np.arange(100)\n",
    "np.isin(arr_b, arr_a)\n",
    "# np.searchsorted(arr_a, arr_b)"
   ]
  },
  {
   "cell_type": "code",
   "execution_count": null,
   "id": "7b315c7c",
   "metadata": {
    "ExecuteTime": {
     "end_time": "2021-08-01T21:55:09.175551Z",
     "start_time": "2021-08-01T21:55:08.140390Z"
    }
   },
   "outputs": [],
   "source": [
    "data = arr_s.tobytes()"
   ]
  },
  {
   "cell_type": "code",
   "execution_count": null,
   "id": "b6bb87af",
   "metadata": {
    "ExecuteTime": {
     "end_time": "2021-08-01T21:55:09.175551Z",
     "start_time": "2021-08-01T21:55:08.140390Z"
    }
   },
   "outputs": [],
   "source": [
    "# lzma compressed bytes file, size - 243 kb\n",
    "obj_file = lzma.LZMAFile(\"test.xz\", mode='wb')\n",
    "obj_file.write(data)\n",
    "obj_file.close()"
   ]
  },
  {
   "cell_type": "code",
   "execution_count": null,
   "id": "96eb8bff",
   "metadata": {
    "ExecuteTime": {
     "end_time": "2021-08-01T21:56:06.479786Z",
     "start_time": "2021-08-01T21:56:06.465791Z"
    }
   },
   "outputs": [],
   "source": [
    "# raw text as bytes file, size - 3907 kb\n",
    "with open(\"control_file.txt\", 'wb') as control_file:\n",
    "    control_file.write(data)"
   ]
  },
  {
   "cell_type": "code",
   "execution_count": 253,
   "id": "3245fe8a",
   "metadata": {
    "ExecuteTime": {
     "end_time": "2021-08-01T22:01:42.379858Z",
     "start_time": "2021-08-01T22:01:41.011330Z"
    }
   },
   "outputs": [],
   "source": [
    "# raw text file, size - 5751 kb\n",
    "with open(\"control_file_nobyte.txt\", \"w+\") as control_file:\n",
    "    for x in arr_s:\n",
    "        control_file.write(str(x))"
   ]
  },
  {
   "cell_type": "code",
   "execution_count": null,
   "id": "59dad9a2",
   "metadata": {
    "ExecuteTime": {
     "end_time": "2021-08-01T22:01:37.083587Z",
     "start_time": "2021-08-01T22:01:37.069574Z"
    }
   },
   "outputs": [],
   "source": [
    "os.remove(\"control_file_nobyte.txt\")"
   ]
  },
  {
   "cell_type": "code",
   "execution_count": 252,
   "id": "fb6c9847",
   "metadata": {
    "ExecuteTime": {
     "end_time": "2021-08-01T22:01:37.083587Z",
     "start_time": "2021-08-01T22:01:37.069574Z"
    }
   },
   "outputs": [],
   "source": [
    "# even out the numbers digits\n"
   ]
  }
 ],
 "metadata": {
  "kernelspec": {
   "display_name": "Python 3",
   "language": "python",
   "name": "python3"
  },
  "language_info": {
   "codemirror_mode": {
    "name": "ipython",
    "version": 3
   },
   "file_extension": ".py",
   "mimetype": "text/x-python",
   "name": "python",
   "nbconvert_exporter": "python",
   "pygments_lexer": "ipython3",
   "version": "3.9.5"
  }
 },
 "nbformat": 4,
 "nbformat_minor": 5
}
